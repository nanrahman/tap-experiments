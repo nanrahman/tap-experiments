{
 "cells": [
  {
   "cell_type": "markdown",
   "metadata": {},
   "source": [
    "# AI2C Use case with UNSW-NB15\n",
    "#### AFC-AI2C Pre-Proposal\n",
    "###### Authors\n",
    "* Nandita Rahman\n",
    "* Marissa McKee\n"
   ]
  },
  {
   "cell_type": "code",
   "execution_count": 4,
   "metadata": {},
   "outputs": [
    {
     "name": "stdout",
     "output_type": "stream",
     "text": [
      "Requirement already satisfied: sklearn in c:\\users\\nanrahman\\anaconda3\\envs\\mytap\\lib\\site-packages (0.0)\n",
      "Requirement already satisfied: scikit-learn in c:\\users\\nanrahman\\anaconda3\\envs\\mytap\\lib\\site-packages (from sklearn) (1.0.1)\n",
      "Requirement already satisfied: threadpoolctl>=2.0.0 in c:\\users\\nanrahman\\anaconda3\\envs\\mytap\\lib\\site-packages (from scikit-learn->sklearn) (3.0.0)\n",
      "Requirement already satisfied: joblib>=0.11 in c:\\users\\nanrahman\\anaconda3\\envs\\mytap\\lib\\site-packages (from scikit-learn->sklearn) (1.1.0)\n",
      "Requirement already satisfied: scipy>=1.1.0 in c:\\users\\nanrahman\\anaconda3\\envs\\mytap\\lib\\site-packages (from scikit-learn->sklearn) (1.5.4)\n",
      "Requirement already satisfied: numpy>=1.14.6 in c:\\users\\nanrahman\\anaconda3\\envs\\mytap\\lib\\site-packages (from scikit-learn->sklearn) (1.20.3)\n",
      "Requirement already satisfied: xgboost in c:\\users\\nanrahman\\anaconda3\\envs\\mytap\\lib\\site-packages (1.5.0)\n",
      "Requirement already satisfied: numpy in c:\\users\\nanrahman\\anaconda3\\envs\\mytap\\lib\\site-packages (from xgboost) (1.20.3)\n",
      "Requirement already satisfied: scipy in c:\\users\\nanrahman\\anaconda3\\envs\\mytap\\lib\\site-packages (from xgboost) (1.5.4)\n",
      "Requirement already satisfied: aif360[all] in c:\\users\\nanrahman\\anaconda3\\envs\\mytap\\lib\\site-packages (0.4.0)\n",
      "Requirement already satisfied: numpy>=1.16 in c:\\users\\nanrahman\\anaconda3\\envs\\mytap\\lib\\site-packages (from aif360[all]) (1.20.3)\n",
      "Requirement already satisfied: tempeh in c:\\users\\nanrahman\\anaconda3\\envs\\mytap\\lib\\site-packages (from aif360[all]) (0.1.12)\n",
      "Requirement already satisfied: pandas>=0.24.0 in c:\\users\\nanrahman\\anaconda3\\envs\\mytap\\lib\\site-packages (from aif360[all]) (1.3.4)\n",
      "Requirement already satisfied: matplotlib in c:\\users\\nanrahman\\anaconda3\\envs\\mytap\\lib\\site-packages (from aif360[all]) (3.4.3)\n",
      "Requirement already satisfied: scikit-learn>=0.22.1 in c:\\users\\nanrahman\\anaconda3\\envs\\mytap\\lib\\site-packages (from aif360[all]) (1.0.1)\n",
      "Requirement already satisfied: scipy<1.6.0,>=1.2.0 in c:\\users\\nanrahman\\anaconda3\\envs\\mytap\\lib\\site-packages (from aif360[all]) (1.5.4)\n",
      "Requirement already satisfied: lime in c:\\users\\nanrahman\\anaconda3\\envs\\mytap\\lib\\site-packages (from aif360[all]) (0.2.0.1)\n",
      "Requirement already satisfied: jupyter in c:\\users\\nanrahman\\anaconda3\\envs\\mytap\\lib\\site-packages (from aif360[all]) (1.0.0)\n",
      "Requirement already satisfied: sphinx in c:\\users\\nanrahman\\anaconda3\\envs\\mytap\\lib\\site-packages (from aif360[all]) (4.2.0)\n",
      "Requirement already satisfied: tqdm in c:\\users\\nanrahman\\anaconda3\\envs\\mytap\\lib\\site-packages (from aif360[all]) (4.62.3)\n",
      "Requirement already satisfied: BlackBoxAuditing in c:\\users\\nanrahman\\anaconda3\\envs\\mytap\\lib\\site-packages (from aif360[all]) (0.1.54)\n",
      "Requirement already satisfied: cvxpy>=1.0 in c:\\users\\nanrahman\\anaconda3\\envs\\mytap\\lib\\site-packages (from aif360[all]) (1.1.17)\n",
      "Requirement already satisfied: tensorflow>=1.13.1 in c:\\users\\nanrahman\\anaconda3\\envs\\mytap\\lib\\site-packages (from aif360[all]) (2.7.0)\n",
      "Requirement already satisfied: pytest>=3.5 in c:\\users\\nanrahman\\anaconda3\\envs\\mytap\\lib\\site-packages (from aif360[all]) (6.2.5)\n",
      "Requirement already satisfied: fairlearn==0.4.6 in c:\\users\\nanrahman\\anaconda3\\envs\\mytap\\lib\\site-packages (from aif360[all]) (0.4.6)\n",
      "Requirement already satisfied: adversarial-robustness-toolbox>=1.0.0 in c:\\users\\nanrahman\\anaconda3\\envs\\mytap\\lib\\site-packages (from aif360[all]) (1.8.1)\n",
      "Requirement already satisfied: sphinx-rtd-theme in c:\\users\\nanrahman\\anaconda3\\envs\\mytap\\lib\\site-packages (from aif360[all]) (1.0.0)\n",
      "Requirement already satisfied: ipywidgets>=7.5.0 in c:\\users\\nanrahman\\anaconda3\\envs\\mytap\\lib\\site-packages (from fairlearn==0.4.6->aif360[all]) (7.6.5)\n",
      "Requirement already satisfied: numba>=0.53.1 in c:\\users\\nanrahman\\anaconda3\\envs\\mytap\\lib\\site-packages (from adversarial-robustness-toolbox>=1.0.0->aif360[all]) (0.54.1)\n",
      "Requirement already satisfied: six in c:\\users\\nanrahman\\anaconda3\\envs\\mytap\\lib\\site-packages (from adversarial-robustness-toolbox>=1.0.0->aif360[all]) (1.16.0)\n",
      "Requirement already satisfied: setuptools in c:\\users\\nanrahman\\anaconda3\\envs\\mytap\\lib\\site-packages (from adversarial-robustness-toolbox>=1.0.0->aif360[all]) (58.0.4)\n",
      "Requirement already satisfied: osqp>=0.4.1 in c:\\users\\nanrahman\\anaconda3\\envs\\mytap\\lib\\site-packages (from cvxpy>=1.0->aif360[all]) (0.6.2.post0)\n",
      "Requirement already satisfied: ecos>=2 in c:\\users\\nanrahman\\anaconda3\\envs\\mytap\\lib\\site-packages (from cvxpy>=1.0->aif360[all]) (2.0.7.post1)\n",
      "Requirement already satisfied: scs>=1.1.6 in c:\\users\\nanrahman\\anaconda3\\envs\\mytap\\lib\\site-packages (from cvxpy>=1.0->aif360[all]) (2.1.4)\n",
      "Requirement already satisfied: widgetsnbextension~=3.5.0 in c:\\users\\nanrahman\\anaconda3\\envs\\mytap\\lib\\site-packages (from ipywidgets>=7.5.0->fairlearn==0.4.6->aif360[all]) (3.5.2)\n",
      "Requirement already satisfied: ipython-genutils~=0.2.0 in c:\\users\\nanrahman\\anaconda3\\envs\\mytap\\lib\\site-packages (from ipywidgets>=7.5.0->fairlearn==0.4.6->aif360[all]) (0.2.0)\n",
      "Requirement already satisfied: ipykernel>=4.5.1 in c:\\users\\nanrahman\\anaconda3\\envs\\mytap\\lib\\site-packages (from ipywidgets>=7.5.0->fairlearn==0.4.6->aif360[all]) (6.4.1)\n",
      "Requirement already satisfied: traitlets>=4.3.1 in c:\\users\\nanrahman\\anaconda3\\envs\\mytap\\lib\\site-packages (from ipywidgets>=7.5.0->fairlearn==0.4.6->aif360[all]) (5.1.0)\n",
      "Requirement already satisfied: jupyterlab-widgets>=1.0.0 in c:\\users\\nanrahman\\anaconda3\\envs\\mytap\\lib\\site-packages (from ipywidgets>=7.5.0->fairlearn==0.4.6->aif360[all]) (1.0.2)\n",
      "Requirement already satisfied: nbformat>=4.2.0 in c:\\users\\nanrahman\\anaconda3\\envs\\mytap\\lib\\site-packages (from ipywidgets>=7.5.0->fairlearn==0.4.6->aif360[all]) (5.1.3)\n",
      "Requirement already satisfied: ipython>=4.0.0 in c:\\users\\nanrahman\\anaconda3\\envs\\mytap\\lib\\site-packages (from ipywidgets>=7.5.0->fairlearn==0.4.6->aif360[all]) (7.29.0)\n",
      "Requirement already satisfied: tornado<7.0,>=4.2 in c:\\users\\nanrahman\\anaconda3\\envs\\mytap\\lib\\site-packages (from ipykernel>=4.5.1->ipywidgets>=7.5.0->fairlearn==0.4.6->aif360[all]) (6.1)\n",
      "Requirement already satisfied: matplotlib-inline<0.2.0,>=0.1.0 in c:\\users\\nanrahman\\anaconda3\\envs\\mytap\\lib\\site-packages (from ipykernel>=4.5.1->ipywidgets>=7.5.0->fairlearn==0.4.6->aif360[all]) (0.1.2)\n",
      "Requirement already satisfied: debugpy<2.0,>=1.0.0 in c:\\users\\nanrahman\\anaconda3\\envs\\mytap\\lib\\site-packages (from ipykernel>=4.5.1->ipywidgets>=7.5.0->fairlearn==0.4.6->aif360[all]) (1.4.1)\n",
      "Requirement already satisfied: jupyter-client<8.0 in c:\\users\\nanrahman\\anaconda3\\envs\\mytap\\lib\\site-packages (from ipykernel>=4.5.1->ipywidgets>=7.5.0->fairlearn==0.4.6->aif360[all]) (7.0.1)\n",
      "Requirement already satisfied: pygments in c:\\users\\nanrahman\\anaconda3\\envs\\mytap\\lib\\site-packages (from ipython>=4.0.0->ipywidgets>=7.5.0->fairlearn==0.4.6->aif360[all]) (2.10.0)\n",
      "Requirement already satisfied: prompt-toolkit!=3.0.0,!=3.0.1,<3.1.0,>=2.0.0 in c:\\users\\nanrahman\\anaconda3\\envs\\mytap\\lib\\site-packages (from ipython>=4.0.0->ipywidgets>=7.5.0->fairlearn==0.4.6->aif360[all]) (3.0.20)\n",
      "Requirement already satisfied: backcall in c:\\users\\nanrahman\\anaconda3\\envs\\mytap\\lib\\site-packages (from ipython>=4.0.0->ipywidgets>=7.5.0->fairlearn==0.4.6->aif360[all]) (0.2.0)\n",
      "Requirement already satisfied: colorama in c:\\users\\nanrahman\\anaconda3\\envs\\mytap\\lib\\site-packages (from ipython>=4.0.0->ipywidgets>=7.5.0->fairlearn==0.4.6->aif360[all]) (0.4.4)\n",
      "Requirement already satisfied: jedi>=0.16 in c:\\users\\nanrahman\\anaconda3\\envs\\mytap\\lib\\site-packages (from ipython>=4.0.0->ipywidgets>=7.5.0->fairlearn==0.4.6->aif360[all]) (0.18.0)\n",
      "Requirement already satisfied: pickleshare in c:\\users\\nanrahman\\anaconda3\\envs\\mytap\\lib\\site-packages (from ipython>=4.0.0->ipywidgets>=7.5.0->fairlearn==0.4.6->aif360[all]) (0.7.5)\n",
      "Requirement already satisfied: decorator in c:\\users\\nanrahman\\anaconda3\\envs\\mytap\\lib\\site-packages (from ipython>=4.0.0->ipywidgets>=7.5.0->fairlearn==0.4.6->aif360[all]) (5.1.0)\n",
      "Requirement already satisfied: parso<0.9.0,>=0.8.0 in c:\\users\\nanrahman\\anaconda3\\envs\\mytap\\lib\\site-packages (from jedi>=0.16->ipython>=4.0.0->ipywidgets>=7.5.0->fairlearn==0.4.6->aif360[all]) (0.8.2)\n",
      "Requirement already satisfied: jupyter-core>=4.6.0 in c:\\users\\nanrahman\\anaconda3\\envs\\mytap\\lib\\site-packages (from jupyter-client<8.0->ipykernel>=4.5.1->ipywidgets>=7.5.0->fairlearn==0.4.6->aif360[all]) (4.8.1)\n",
      "Requirement already satisfied: entrypoints in c:\\users\\nanrahman\\anaconda3\\envs\\mytap\\lib\\site-packages (from jupyter-client<8.0->ipykernel>=4.5.1->ipywidgets>=7.5.0->fairlearn==0.4.6->aif360[all]) (0.3)\n",
      "Requirement already satisfied: pyzmq>=13 in c:\\users\\nanrahman\\anaconda3\\envs\\mytap\\lib\\site-packages (from jupyter-client<8.0->ipykernel>=4.5.1->ipywidgets>=7.5.0->fairlearn==0.4.6->aif360[all]) (22.2.1)\n",
      "Requirement already satisfied: nest-asyncio>=1.5 in c:\\users\\nanrahman\\anaconda3\\envs\\mytap\\lib\\site-packages (from jupyter-client<8.0->ipykernel>=4.5.1->ipywidgets>=7.5.0->fairlearn==0.4.6->aif360[all]) (1.5.1)\n",
      "Requirement already satisfied: python-dateutil>=2.1 in c:\\users\\nanrahman\\anaconda3\\envs\\mytap\\lib\\site-packages (from jupyter-client<8.0->ipykernel>=4.5.1->ipywidgets>=7.5.0->fairlearn==0.4.6->aif360[all]) (2.8.2)\n",
      "Requirement already satisfied: pywin32>=1.0 in c:\\users\\nanrahman\\anaconda3\\envs\\mytap\\lib\\site-packages (from jupyter-core>=4.6.0->jupyter-client<8.0->ipykernel>=4.5.1->ipywidgets>=7.5.0->fairlearn==0.4.6->aif360[all]) (228)\n",
      "Requirement already satisfied: jsonschema!=2.5.0,>=2.4 in c:\\users\\nanrahman\\anaconda3\\envs\\mytap\\lib\\site-packages (from nbformat>=4.2.0->ipywidgets>=7.5.0->fairlearn==0.4.6->aif360[all]) (3.2.0)\n",
      "Requirement already satisfied: pyrsistent>=0.14.0 in c:\\users\\nanrahman\\anaconda3\\envs\\mytap\\lib\\site-packages (from jsonschema!=2.5.0,>=2.4->nbformat>=4.2.0->ipywidgets>=7.5.0->fairlearn==0.4.6->aif360[all]) (0.18.0)\n",
      "Requirement already satisfied: attrs>=17.4.0 in c:\\users\\nanrahman\\anaconda3\\envs\\mytap\\lib\\site-packages (from jsonschema!=2.5.0,>=2.4->nbformat>=4.2.0->ipywidgets>=7.5.0->fairlearn==0.4.6->aif360[all]) (21.2.0)\n",
      "Requirement already satisfied: llvmlite<0.38,>=0.37.0rc1 in c:\\users\\nanrahman\\anaconda3\\envs\\mytap\\lib\\site-packages (from numba>=0.53.1->adversarial-robustness-toolbox>=1.0.0->aif360[all]) (0.37.0)\n",
      "Requirement already satisfied: qdldl in c:\\users\\nanrahman\\anaconda3\\envs\\mytap\\lib\\site-packages (from osqp>=0.4.1->cvxpy>=1.0->aif360[all]) (0.1.5.post0)\n",
      "Requirement already satisfied: pytz>=2017.3 in c:\\users\\nanrahman\\anaconda3\\envs\\mytap\\lib\\site-packages (from pandas>=0.24.0->aif360[all]) (2021.3)\n",
      "Requirement already satisfied: wcwidth in c:\\users\\nanrahman\\anaconda3\\envs\\mytap\\lib\\site-packages (from prompt-toolkit!=3.0.0,!=3.0.1,<3.1.0,>=2.0.0->ipython>=4.0.0->ipywidgets>=7.5.0->fairlearn==0.4.6->aif360[all]) (0.2.5)\n",
      "Requirement already satisfied: atomicwrites>=1.0 in c:\\users\\nanrahman\\anaconda3\\envs\\mytap\\lib\\site-packages (from pytest>=3.5->aif360[all]) (1.4.0)\n",
      "Requirement already satisfied: py>=1.8.2 in c:\\users\\nanrahman\\anaconda3\\envs\\mytap\\lib\\site-packages (from pytest>=3.5->aif360[all]) (1.11.0)\n",
      "Requirement already satisfied: pluggy<2.0,>=0.12 in c:\\users\\nanrahman\\anaconda3\\envs\\mytap\\lib\\site-packages (from pytest>=3.5->aif360[all]) (1.0.0)\n",
      "Requirement already satisfied: toml in c:\\users\\nanrahman\\anaconda3\\envs\\mytap\\lib\\site-packages (from pytest>=3.5->aif360[all]) (0.10.2)\n",
      "Requirement already satisfied: packaging in c:\\users\\nanrahman\\anaconda3\\envs\\mytap\\lib\\site-packages (from pytest>=3.5->aif360[all]) (21.0)\n",
      "Requirement already satisfied: iniconfig in c:\\users\\nanrahman\\anaconda3\\envs\\mytap\\lib\\site-packages (from pytest>=3.5->aif360[all]) (1.1.1)\n",
      "Requirement already satisfied: threadpoolctl>=2.0.0 in c:\\users\\nanrahman\\anaconda3\\envs\\mytap\\lib\\site-packages (from scikit-learn>=0.22.1->aif360[all]) (3.0.0)\n",
      "Requirement already satisfied: joblib>=0.11 in c:\\users\\nanrahman\\anaconda3\\envs\\mytap\\lib\\site-packages (from scikit-learn>=0.22.1->aif360[all]) (1.1.0)\n",
      "Requirement already satisfied: flatbuffers<3.0,>=1.12 in c:\\users\\nanrahman\\anaconda3\\envs\\mytap\\lib\\site-packages (from tensorflow>=1.13.1->aif360[all]) (2.0)\n",
      "Requirement already satisfied: wheel<1.0,>=0.32.0 in c:\\users\\nanrahman\\anaconda3\\envs\\mytap\\lib\\site-packages (from tensorflow>=1.13.1->aif360[all]) (0.37.0)\n",
      "Requirement already satisfied: tensorflow-io-gcs-filesystem>=0.21.0 in c:\\users\\nanrahman\\anaconda3\\envs\\mytap\\lib\\site-packages (from tensorflow>=1.13.1->aif360[all]) (0.21.0)\n",
      "Requirement already satisfied: absl-py>=0.4.0 in c:\\users\\nanrahman\\anaconda3\\envs\\mytap\\lib\\site-packages (from tensorflow>=1.13.1->aif360[all]) (0.15.0)\n",
      "Requirement already satisfied: h5py>=2.9.0 in c:\\users\\nanrahman\\anaconda3\\envs\\mytap\\lib\\site-packages (from tensorflow>=1.13.1->aif360[all]) (3.5.0)\n",
      "Requirement already satisfied: termcolor>=1.1.0 in c:\\users\\nanrahman\\anaconda3\\envs\\mytap\\lib\\site-packages (from tensorflow>=1.13.1->aif360[all]) (1.1.0)\n",
      "Requirement already satisfied: keras<2.8,>=2.7.0rc0 in c:\\users\\nanrahman\\anaconda3\\envs\\mytap\\lib\\site-packages (from tensorflow>=1.13.1->aif360[all]) (2.7.0)\n",
      "Requirement already satisfied: grpcio<2.0,>=1.24.3 in c:\\users\\nanrahman\\anaconda3\\envs\\mytap\\lib\\site-packages (from tensorflow>=1.13.1->aif360[all]) (1.41.1)\n",
      "Requirement already satisfied: astunparse>=1.6.0 in c:\\users\\nanrahman\\anaconda3\\envs\\mytap\\lib\\site-packages (from tensorflow>=1.13.1->aif360[all]) (1.6.3)\n",
      "Requirement already satisfied: typing-extensions>=3.6.6 in c:\\users\\nanrahman\\anaconda3\\envs\\mytap\\lib\\site-packages (from tensorflow>=1.13.1->aif360[all]) (3.10.0.2)\n",
      "Requirement already satisfied: wrapt>=1.11.0 in c:\\users\\nanrahman\\anaconda3\\envs\\mytap\\lib\\site-packages (from tensorflow>=1.13.1->aif360[all]) (1.13.3)\n",
      "Requirement already satisfied: protobuf>=3.9.2 in c:\\users\\nanrahman\\anaconda3\\envs\\mytap\\lib\\site-packages (from tensorflow>=1.13.1->aif360[all]) (3.19.1)\n",
      "Requirement already satisfied: opt-einsum>=2.3.2 in c:\\users\\nanrahman\\anaconda3\\envs\\mytap\\lib\\site-packages (from tensorflow>=1.13.1->aif360[all]) (3.3.0)\n",
      "Requirement already satisfied: libclang>=9.0.1 in c:\\users\\nanrahman\\anaconda3\\envs\\mytap\\lib\\site-packages (from tensorflow>=1.13.1->aif360[all]) (12.0.0)\n",
      "Requirement already satisfied: tensorboard~=2.6 in c:\\users\\nanrahman\\anaconda3\\envs\\mytap\\lib\\site-packages (from tensorflow>=1.13.1->aif360[all]) (2.7.0)\n",
      "Requirement already satisfied: google-pasta>=0.1.1 in c:\\users\\nanrahman\\anaconda3\\envs\\mytap\\lib\\site-packages (from tensorflow>=1.13.1->aif360[all]) (0.2.0)\n",
      "Requirement already satisfied: gast<0.5.0,>=0.2.1 in c:\\users\\nanrahman\\anaconda3\\envs\\mytap\\lib\\site-packages (from tensorflow>=1.13.1->aif360[all]) (0.4.0)\n",
      "Requirement already satisfied: keras-preprocessing>=1.1.1 in c:\\users\\nanrahman\\anaconda3\\envs\\mytap\\lib\\site-packages (from tensorflow>=1.13.1->aif360[all]) (1.1.2)\n",
      "Requirement already satisfied: tensorflow-estimator<2.8,~=2.7.0rc0 in c:\\users\\nanrahman\\anaconda3\\envs\\mytap\\lib\\site-packages (from tensorflow>=1.13.1->aif360[all]) (2.7.0)\n",
      "Requirement already satisfied: google-auth-oauthlib<0.5,>=0.4.1 in c:\\users\\nanrahman\\anaconda3\\envs\\mytap\\lib\\site-packages (from tensorboard~=2.6->tensorflow>=1.13.1->aif360[all]) (0.4.6)\n",
      "Requirement already satisfied: werkzeug>=0.11.15 in c:\\users\\nanrahman\\anaconda3\\envs\\mytap\\lib\\site-packages (from tensorboard~=2.6->tensorflow>=1.13.1->aif360[all]) (2.0.2)\n",
      "Requirement already satisfied: markdown>=2.6.8 in c:\\users\\nanrahman\\anaconda3\\envs\\mytap\\lib\\site-packages (from tensorboard~=2.6->tensorflow>=1.13.1->aif360[all]) (3.3.4)\n",
      "Requirement already satisfied: tensorboard-plugin-wit>=1.6.0 in c:\\users\\nanrahman\\anaconda3\\envs\\mytap\\lib\\site-packages (from tensorboard~=2.6->tensorflow>=1.13.1->aif360[all]) (1.8.0)\n",
      "Requirement already satisfied: google-auth<3,>=1.6.3 in c:\\users\\nanrahman\\anaconda3\\envs\\mytap\\lib\\site-packages (from tensorboard~=2.6->tensorflow>=1.13.1->aif360[all]) (2.3.3)\n",
      "Requirement already satisfied: requests<3,>=2.21.0 in c:\\users\\nanrahman\\anaconda3\\envs\\mytap\\lib\\site-packages (from tensorboard~=2.6->tensorflow>=1.13.1->aif360[all]) (2.26.0)\n",
      "Requirement already satisfied: tensorboard-data-server<0.7.0,>=0.6.0 in c:\\users\\nanrahman\\anaconda3\\envs\\mytap\\lib\\site-packages (from tensorboard~=2.6->tensorflow>=1.13.1->aif360[all]) (0.6.1)\n",
      "Requirement already satisfied: cachetools<5.0,>=2.0.0 in c:\\users\\nanrahman\\anaconda3\\envs\\mytap\\lib\\site-packages (from google-auth<3,>=1.6.3->tensorboard~=2.6->tensorflow>=1.13.1->aif360[all]) (4.2.4)\n",
      "Requirement already satisfied: pyasn1-modules>=0.2.1 in c:\\users\\nanrahman\\anaconda3\\envs\\mytap\\lib\\site-packages (from google-auth<3,>=1.6.3->tensorboard~=2.6->tensorflow>=1.13.1->aif360[all]) (0.2.8)\n",
      "Requirement already satisfied: rsa<5,>=3.1.4 in c:\\users\\nanrahman\\anaconda3\\envs\\mytap\\lib\\site-packages (from google-auth<3,>=1.6.3->tensorboard~=2.6->tensorflow>=1.13.1->aif360[all]) (4.7.2)\n",
      "Requirement already satisfied: requests-oauthlib>=0.7.0 in c:\\users\\nanrahman\\anaconda3\\envs\\mytap\\lib\\site-packages (from google-auth-oauthlib<0.5,>=0.4.1->tensorboard~=2.6->tensorflow>=1.13.1->aif360[all]) (1.3.0)\n",
      "Requirement already satisfied: pyasn1<0.5.0,>=0.4.6 in c:\\users\\nanrahman\\anaconda3\\envs\\mytap\\lib\\site-packages (from pyasn1-modules>=0.2.1->google-auth<3,>=1.6.3->tensorboard~=2.6->tensorflow>=1.13.1->aif360[all]) (0.4.8)\n",
      "Requirement already satisfied: idna<4,>=2.5 in c:\\users\\nanrahman\\anaconda3\\envs\\mytap\\lib\\site-packages (from requests<3,>=2.21.0->tensorboard~=2.6->tensorflow>=1.13.1->aif360[all]) (3.2)\n",
      "Requirement already satisfied: urllib3<1.27,>=1.21.1 in c:\\users\\nanrahman\\anaconda3\\envs\\mytap\\lib\\site-packages (from requests<3,>=2.21.0->tensorboard~=2.6->tensorflow>=1.13.1->aif360[all]) (1.26.7)\n",
      "Requirement already satisfied: charset-normalizer~=2.0.0 in c:\\users\\nanrahman\\anaconda3\\envs\\mytap\\lib\\site-packages (from requests<3,>=2.21.0->tensorboard~=2.6->tensorflow>=1.13.1->aif360[all]) (2.0.4)\n",
      "Requirement already satisfied: certifi>=2017.4.17 in c:\\users\\nanrahman\\anaconda3\\envs\\mytap\\lib\\site-packages (from requests<3,>=2.21.0->tensorboard~=2.6->tensorflow>=1.13.1->aif360[all]) (2021.10.8)\n",
      "Requirement already satisfied: oauthlib>=3.0.0 in c:\\users\\nanrahman\\anaconda3\\envs\\mytap\\lib\\site-packages (from requests-oauthlib>=0.7.0->google-auth-oauthlib<0.5,>=0.4.1->tensorboard~=2.6->tensorflow>=1.13.1->aif360[all]) (3.1.1)\n",
      "Requirement already satisfied: notebook>=4.4.1 in c:\\users\\nanrahman\\anaconda3\\envs\\mytap\\lib\\site-packages (from widgetsnbextension~=3.5.0->ipywidgets>=7.5.0->fairlearn==0.4.6->aif360[all]) (6.4.5)\n",
      "Requirement already satisfied: argon2-cffi in c:\\users\\nanrahman\\anaconda3\\envs\\mytap\\lib\\site-packages (from notebook>=4.4.1->widgetsnbextension~=3.5.0->ipywidgets>=7.5.0->fairlearn==0.4.6->aif360[all]) (20.1.0)\n",
      "Requirement already satisfied: jinja2 in c:\\users\\nanrahman\\anaconda3\\envs\\mytap\\lib\\site-packages (from notebook>=4.4.1->widgetsnbextension~=3.5.0->ipywidgets>=7.5.0->fairlearn==0.4.6->aif360[all]) (3.0.2)\n",
      "Requirement already satisfied: prometheus-client in c:\\users\\nanrahman\\anaconda3\\envs\\mytap\\lib\\site-packages (from notebook>=4.4.1->widgetsnbextension~=3.5.0->ipywidgets>=7.5.0->fairlearn==0.4.6->aif360[all]) (0.11.0)\n",
      "Requirement already satisfied: Send2Trash>=1.5.0 in c:\\users\\nanrahman\\anaconda3\\envs\\mytap\\lib\\site-packages (from notebook>=4.4.1->widgetsnbextension~=3.5.0->ipywidgets>=7.5.0->fairlearn==0.4.6->aif360[all]) (1.8.0)\n",
      "Requirement already satisfied: terminado>=0.8.3 in c:\\users\\nanrahman\\anaconda3\\envs\\mytap\\lib\\site-packages (from notebook>=4.4.1->widgetsnbextension~=3.5.0->ipywidgets>=7.5.0->fairlearn==0.4.6->aif360[all]) (0.9.4)\n",
      "Requirement already satisfied: nbconvert in c:\\users\\nanrahman\\anaconda3\\envs\\mytap\\lib\\site-packages (from notebook>=4.4.1->widgetsnbextension~=3.5.0->ipywidgets>=7.5.0->fairlearn==0.4.6->aif360[all]) (6.1.0)\n",
      "Requirement already satisfied: pywinpty>=0.5 in c:\\users\\nanrahman\\anaconda3\\envs\\mytap\\lib\\site-packages (from terminado>=0.8.3->notebook>=4.4.1->widgetsnbextension~=3.5.0->ipywidgets>=7.5.0->fairlearn==0.4.6->aif360[all]) (0.5.7)\n",
      "Requirement already satisfied: cffi>=1.0.0 in c:\\users\\nanrahman\\anaconda3\\envs\\mytap\\lib\\site-packages (from argon2-cffi->notebook>=4.4.1->widgetsnbextension~=3.5.0->ipywidgets>=7.5.0->fairlearn==0.4.6->aif360[all]) (1.14.6)\n",
      "Requirement already satisfied: pycparser in c:\\users\\nanrahman\\anaconda3\\envs\\mytap\\lib\\site-packages (from cffi>=1.0.0->argon2-cffi->notebook>=4.4.1->widgetsnbextension~=3.5.0->ipywidgets>=7.5.0->fairlearn==0.4.6->aif360[all]) (2.20)\n",
      "Requirement already satisfied: networkx in c:\\users\\nanrahman\\anaconda3\\envs\\mytap\\lib\\site-packages (from BlackBoxAuditing->aif360[all]) (2.6.3)\n",
      "Requirement already satisfied: MarkupSafe>=2.0 in c:\\users\\nanrahman\\anaconda3\\envs\\mytap\\lib\\site-packages (from jinja2->notebook>=4.4.1->widgetsnbextension~=3.5.0->ipywidgets>=7.5.0->fairlearn==0.4.6->aif360[all]) (2.0.1)\n",
      "Requirement already satisfied: qtconsole in c:\\users\\nanrahman\\anaconda3\\envs\\mytap\\lib\\site-packages (from jupyter->aif360[all]) (5.1.1)\n",
      "Requirement already satisfied: jupyter-console in c:\\users\\nanrahman\\anaconda3\\envs\\mytap\\lib\\site-packages (from jupyter->aif360[all]) (6.4.0)\n",
      "Requirement already satisfied: scikit-image>=0.12 in c:\\users\\nanrahman\\anaconda3\\envs\\mytap\\lib\\site-packages (from lime->aif360[all]) (0.18.3)\n",
      "Requirement already satisfied: pillow!=7.1.0,!=7.1.1,>=4.3.0 in c:\\users\\nanrahman\\anaconda3\\envs\\mytap\\lib\\site-packages (from scikit-image>=0.12->lime->aif360[all]) (8.4.0)\n",
      "Requirement already satisfied: imageio>=2.3.0 in c:\\users\\nanrahman\\anaconda3\\envs\\mytap\\lib\\site-packages (from scikit-image>=0.12->lime->aif360[all]) (2.10.3)\n",
      "Requirement already satisfied: tifffile>=2019.7.26 in c:\\users\\nanrahman\\anaconda3\\envs\\mytap\\lib\\site-packages (from scikit-image>=0.12->lime->aif360[all]) (2021.11.2)\n",
      "Requirement already satisfied: PyWavelets>=1.1.1 in c:\\users\\nanrahman\\anaconda3\\envs\\mytap\\lib\\site-packages (from scikit-image>=0.12->lime->aif360[all]) (1.1.1)\n",
      "Requirement already satisfied: cycler>=0.10 in c:\\users\\nanrahman\\anaconda3\\envs\\mytap\\lib\\site-packages (from matplotlib->aif360[all]) (0.11.0)\n",
      "Requirement already satisfied: pyparsing>=2.2.1 in c:\\users\\nanrahman\\anaconda3\\envs\\mytap\\lib\\site-packages (from matplotlib->aif360[all]) (3.0.4)\n",
      "Requirement already satisfied: kiwisolver>=1.0.1 in c:\\users\\nanrahman\\anaconda3\\envs\\mytap\\lib\\site-packages (from matplotlib->aif360[all]) (1.3.2)\n",
      "Requirement already satisfied: pandocfilters>=1.4.1 in c:\\users\\nanrahman\\anaconda3\\envs\\mytap\\lib\\site-packages (from nbconvert->notebook>=4.4.1->widgetsnbextension~=3.5.0->ipywidgets>=7.5.0->fairlearn==0.4.6->aif360[all]) (1.4.3)\n",
      "Requirement already satisfied: mistune<2,>=0.8.1 in c:\\users\\nanrahman\\anaconda3\\envs\\mytap\\lib\\site-packages (from nbconvert->notebook>=4.4.1->widgetsnbextension~=3.5.0->ipywidgets>=7.5.0->fairlearn==0.4.6->aif360[all]) (0.8.4)\n",
      "Requirement already satisfied: bleach in c:\\users\\nanrahman\\anaconda3\\envs\\mytap\\lib\\site-packages (from nbconvert->notebook>=4.4.1->widgetsnbextension~=3.5.0->ipywidgets>=7.5.0->fairlearn==0.4.6->aif360[all]) (4.0.0)\n",
      "Requirement already satisfied: jupyterlab-pygments in c:\\users\\nanrahman\\anaconda3\\envs\\mytap\\lib\\site-packages (from nbconvert->notebook>=4.4.1->widgetsnbextension~=3.5.0->ipywidgets>=7.5.0->fairlearn==0.4.6->aif360[all]) (0.1.2)\n",
      "Requirement already satisfied: testpath in c:\\users\\nanrahman\\anaconda3\\envs\\mytap\\lib\\site-packages (from nbconvert->notebook>=4.4.1->widgetsnbextension~=3.5.0->ipywidgets>=7.5.0->fairlearn==0.4.6->aif360[all]) (0.5.0)\n",
      "Requirement already satisfied: nbclient<0.6.0,>=0.5.0 in c:\\users\\nanrahman\\anaconda3\\envs\\mytap\\lib\\site-packages (from nbconvert->notebook>=4.4.1->widgetsnbextension~=3.5.0->ipywidgets>=7.5.0->fairlearn==0.4.6->aif360[all]) (0.5.3)\n",
      "Requirement already satisfied: defusedxml in c:\\users\\nanrahman\\anaconda3\\envs\\mytap\\lib\\site-packages (from nbconvert->notebook>=4.4.1->widgetsnbextension~=3.5.0->ipywidgets>=7.5.0->fairlearn==0.4.6->aif360[all]) (0.7.1)\n",
      "Requirement already satisfied: async-generator in c:\\users\\nanrahman\\anaconda3\\envs\\mytap\\lib\\site-packages (from nbclient<0.6.0,>=0.5.0->nbconvert->notebook>=4.4.1->widgetsnbextension~=3.5.0->ipywidgets>=7.5.0->fairlearn==0.4.6->aif360[all]) (1.10)\n",
      "Requirement already satisfied: webencodings in c:\\users\\nanrahman\\anaconda3\\envs\\mytap\\lib\\site-packages (from bleach->nbconvert->notebook>=4.4.1->widgetsnbextension~=3.5.0->ipywidgets>=7.5.0->fairlearn==0.4.6->aif360[all]) (0.5.1)\n",
      "Requirement already satisfied: qtpy in c:\\users\\nanrahman\\anaconda3\\envs\\mytap\\lib\\site-packages (from qtconsole->jupyter->aif360[all]) (1.10.0)\n",
      "Requirement already satisfied: sphinxcontrib-htmlhelp>=2.0.0 in c:\\users\\nanrahman\\anaconda3\\envs\\mytap\\lib\\site-packages (from sphinx->aif360[all]) (2.0.0)\n",
      "Requirement already satisfied: snowballstemmer>=1.1 in c:\\users\\nanrahman\\anaconda3\\envs\\mytap\\lib\\site-packages (from sphinx->aif360[all]) (2.1.0)\n",
      "Requirement already satisfied: imagesize in c:\\users\\nanrahman\\anaconda3\\envs\\mytap\\lib\\site-packages (from sphinx->aif360[all]) (1.2.0)\n",
      "Requirement already satisfied: sphinxcontrib-applehelp in c:\\users\\nanrahman\\anaconda3\\envs\\mytap\\lib\\site-packages (from sphinx->aif360[all]) (1.0.2)\n",
      "Requirement already satisfied: babel>=1.3 in c:\\users\\nanrahman\\anaconda3\\envs\\mytap\\lib\\site-packages (from sphinx->aif360[all]) (2.9.1)\n",
      "Requirement already satisfied: docutils<0.18,>=0.14 in c:\\users\\nanrahman\\anaconda3\\envs\\mytap\\lib\\site-packages (from sphinx->aif360[all]) (0.17.1)\n",
      "Requirement already satisfied: sphinxcontrib-jsmath in c:\\users\\nanrahman\\anaconda3\\envs\\mytap\\lib\\site-packages (from sphinx->aif360[all]) (1.0.1)\n",
      "Requirement already satisfied: alabaster<0.8,>=0.7 in c:\\users\\nanrahman\\anaconda3\\envs\\mytap\\lib\\site-packages (from sphinx->aif360[all]) (0.7.12)\n",
      "Requirement already satisfied: sphinxcontrib-serializinghtml>=1.1.5 in c:\\users\\nanrahman\\anaconda3\\envs\\mytap\\lib\\site-packages (from sphinx->aif360[all]) (1.1.5)\n",
      "Requirement already satisfied: sphinxcontrib-devhelp in c:\\users\\nanrahman\\anaconda3\\envs\\mytap\\lib\\site-packages (from sphinx->aif360[all]) (1.0.2)\n",
      "Requirement already satisfied: sphinxcontrib-qthelp in c:\\users\\nanrahman\\anaconda3\\envs\\mytap\\lib\\site-packages (from sphinx->aif360[all]) (1.0.3)\n",
      "Requirement already satisfied: shap in c:\\users\\nanrahman\\anaconda3\\envs\\mytap\\lib\\site-packages (from tempeh->aif360[all]) (0.40.0)\n",
      "Requirement already satisfied: memory-profiler in c:\\users\\nanrahman\\anaconda3\\envs\\mytap\\lib\\site-packages (from tempeh->aif360[all]) (0.58.0)\n",
      "Requirement already satisfied: psutil in c:\\users\\nanrahman\\anaconda3\\envs\\mytap\\lib\\site-packages (from memory-profiler->tempeh->aif360[all]) (5.8.0)\n",
      "Requirement already satisfied: cloudpickle in c:\\users\\nanrahman\\anaconda3\\envs\\mytap\\lib\\site-packages (from shap->tempeh->aif360[all]) (2.0.0)\n",
      "Requirement already satisfied: slicer==0.0.7 in c:\\users\\nanrahman\\anaconda3\\envs\\mytap\\lib\\site-packages (from shap->tempeh->aif360[all]) (0.0.7)\n"
     ]
    },
    {
     "name": "stdout",
     "output_type": "stream",
     "text": [
      "Requirement already satisfied: wrapt in c:\\users\\nanrahman\\anaconda3\\envs\\mytap\\lib\\site-packages (1.13.3)\n",
      "Requirement already satisfied: fairlearn in c:\\users\\nanrahman\\anaconda3\\envs\\mytap\\lib\\site-packages (0.4.6)\n",
      "Requirement already satisfied: scikit-learn>=0.22.1 in c:\\users\\nanrahman\\anaconda3\\envs\\mytap\\lib\\site-packages (from fairlearn) (1.0.1)\n",
      "Requirement already satisfied: ipywidgets>=7.5.0 in c:\\users\\nanrahman\\anaconda3\\envs\\mytap\\lib\\site-packages (from fairlearn) (7.6.5)\n",
      "Requirement already satisfied: numpy>=1.17.2 in c:\\users\\nanrahman\\anaconda3\\envs\\mytap\\lib\\site-packages (from fairlearn) (1.20.3)\n",
      "Requirement already satisfied: pandas>=0.25.1 in c:\\users\\nanrahman\\anaconda3\\envs\\mytap\\lib\\site-packages (from fairlearn) (1.3.4)\n",
      "Requirement already satisfied: scipy>=1.3.1 in c:\\users\\nanrahman\\anaconda3\\envs\\mytap\\lib\\site-packages (from fairlearn) (1.5.4)\n",
      "Requirement already satisfied: nbformat>=4.2.0 in c:\\users\\nanrahman\\anaconda3\\envs\\mytap\\lib\\site-packages (from ipywidgets>=7.5.0->fairlearn) (5.1.3)\n",
      "Requirement already satisfied: ipykernel>=4.5.1 in c:\\users\\nanrahman\\anaconda3\\envs\\mytap\\lib\\site-packages (from ipywidgets>=7.5.0->fairlearn) (6.4.1)\n",
      "Requirement already satisfied: traitlets>=4.3.1 in c:\\users\\nanrahman\\anaconda3\\envs\\mytap\\lib\\site-packages (from ipywidgets>=7.5.0->fairlearn) (5.1.0)\n",
      "Requirement already satisfied: ipython>=4.0.0 in c:\\users\\nanrahman\\anaconda3\\envs\\mytap\\lib\\site-packages (from ipywidgets>=7.5.0->fairlearn) (7.29.0)\n",
      "Requirement already satisfied: widgetsnbextension~=3.5.0 in c:\\users\\nanrahman\\anaconda3\\envs\\mytap\\lib\\site-packages (from ipywidgets>=7.5.0->fairlearn) (3.5.2)\n",
      "Requirement already satisfied: jupyterlab-widgets>=1.0.0 in c:\\users\\nanrahman\\anaconda3\\envs\\mytap\\lib\\site-packages (from ipywidgets>=7.5.0->fairlearn) (1.0.2)\n",
      "Requirement already satisfied: ipython-genutils~=0.2.0 in c:\\users\\nanrahman\\anaconda3\\envs\\mytap\\lib\\site-packages (from ipywidgets>=7.5.0->fairlearn) (0.2.0)\n",
      "Requirement already satisfied: tornado<7.0,>=4.2 in c:\\users\\nanrahman\\anaconda3\\envs\\mytap\\lib\\site-packages (from ipykernel>=4.5.1->ipywidgets>=7.5.0->fairlearn) (6.1)\n",
      "Requirement already satisfied: matplotlib-inline<0.2.0,>=0.1.0 in c:\\users\\nanrahman\\anaconda3\\envs\\mytap\\lib\\site-packages (from ipykernel>=4.5.1->ipywidgets>=7.5.0->fairlearn) (0.1.2)\n",
      "Requirement already satisfied: jupyter-client<8.0 in c:\\users\\nanrahman\\anaconda3\\envs\\mytap\\lib\\site-packages (from ipykernel>=4.5.1->ipywidgets>=7.5.0->fairlearn) (7.0.1)\n",
      "Requirement already satisfied: debugpy<2.0,>=1.0.0 in c:\\users\\nanrahman\\anaconda3\\envs\\mytap\\lib\\site-packages (from ipykernel>=4.5.1->ipywidgets>=7.5.0->fairlearn) (1.4.1)\n",
      "Requirement already satisfied: pickleshare in c:\\users\\nanrahman\\anaconda3\\envs\\mytap\\lib\\site-packages (from ipython>=4.0.0->ipywidgets>=7.5.0->fairlearn) (0.7.5)\n",
      "Requirement already satisfied: setuptools>=18.5 in c:\\users\\nanrahman\\anaconda3\\envs\\mytap\\lib\\site-packages (from ipython>=4.0.0->ipywidgets>=7.5.0->fairlearn) (58.0.4)\n",
      "Requirement already satisfied: jedi>=0.16 in c:\\users\\nanrahman\\anaconda3\\envs\\mytap\\lib\\site-packages (from ipython>=4.0.0->ipywidgets>=7.5.0->fairlearn) (0.18.0)\n",
      "Requirement already satisfied: backcall in c:\\users\\nanrahman\\anaconda3\\envs\\mytap\\lib\\site-packages (from ipython>=4.0.0->ipywidgets>=7.5.0->fairlearn) (0.2.0)\n",
      "Requirement already satisfied: pygments in c:\\users\\nanrahman\\anaconda3\\envs\\mytap\\lib\\site-packages (from ipython>=4.0.0->ipywidgets>=7.5.0->fairlearn) (2.10.0)\n",
      "Requirement already satisfied: decorator in c:\\users\\nanrahman\\anaconda3\\envs\\mytap\\lib\\site-packages (from ipython>=4.0.0->ipywidgets>=7.5.0->fairlearn) (5.1.0)\n",
      "Requirement already satisfied: colorama in c:\\users\\nanrahman\\anaconda3\\envs\\mytap\\lib\\site-packages (from ipython>=4.0.0->ipywidgets>=7.5.0->fairlearn) (0.4.4)\n",
      "Requirement already satisfied: prompt-toolkit!=3.0.0,!=3.0.1,<3.1.0,>=2.0.0 in c:\\users\\nanrahman\\anaconda3\\envs\\mytap\\lib\\site-packages (from ipython>=4.0.0->ipywidgets>=7.5.0->fairlearn) (3.0.20)\n",
      "Requirement already satisfied: parso<0.9.0,>=0.8.0 in c:\\users\\nanrahman\\anaconda3\\envs\\mytap\\lib\\site-packages (from jedi>=0.16->ipython>=4.0.0->ipywidgets>=7.5.0->fairlearn) (0.8.2)\n",
      "Requirement already satisfied: jupyter-core>=4.6.0 in c:\\users\\nanrahman\\anaconda3\\envs\\mytap\\lib\\site-packages (from jupyter-client<8.0->ipykernel>=4.5.1->ipywidgets>=7.5.0->fairlearn) (4.8.1)\n",
      "Requirement already satisfied: nest-asyncio>=1.5 in c:\\users\\nanrahman\\anaconda3\\envs\\mytap\\lib\\site-packages (from jupyter-client<8.0->ipykernel>=4.5.1->ipywidgets>=7.5.0->fairlearn) (1.5.1)\n",
      "Requirement already satisfied: entrypoints in c:\\users\\nanrahman\\anaconda3\\envs\\mytap\\lib\\site-packages (from jupyter-client<8.0->ipykernel>=4.5.1->ipywidgets>=7.5.0->fairlearn) (0.3)\n",
      "Requirement already satisfied: pyzmq>=13 in c:\\users\\nanrahman\\anaconda3\\envs\\mytap\\lib\\site-packages (from jupyter-client<8.0->ipykernel>=4.5.1->ipywidgets>=7.5.0->fairlearn) (22.2.1)\n",
      "Requirement already satisfied: python-dateutil>=2.1 in c:\\users\\nanrahman\\anaconda3\\envs\\mytap\\lib\\site-packages (from jupyter-client<8.0->ipykernel>=4.5.1->ipywidgets>=7.5.0->fairlearn) (2.8.2)\n",
      "Requirement already satisfied: pywin32>=1.0 in c:\\users\\nanrahman\\anaconda3\\envs\\mytap\\lib\\site-packages (from jupyter-core>=4.6.0->jupyter-client<8.0->ipykernel>=4.5.1->ipywidgets>=7.5.0->fairlearn) (228)\n",
      "Requirement already satisfied: jsonschema!=2.5.0,>=2.4 in c:\\users\\nanrahman\\anaconda3\\envs\\mytap\\lib\\site-packages (from nbformat>=4.2.0->ipywidgets>=7.5.0->fairlearn) (3.2.0)\n",
      "Requirement already satisfied: pyrsistent>=0.14.0 in c:\\users\\nanrahman\\anaconda3\\envs\\mytap\\lib\\site-packages (from jsonschema!=2.5.0,>=2.4->nbformat>=4.2.0->ipywidgets>=7.5.0->fairlearn) (0.18.0)\n",
      "Requirement already satisfied: six>=1.11.0 in c:\\users\\nanrahman\\anaconda3\\envs\\mytap\\lib\\site-packages (from jsonschema!=2.5.0,>=2.4->nbformat>=4.2.0->ipywidgets>=7.5.0->fairlearn) (1.16.0)\n",
      "Requirement already satisfied: attrs>=17.4.0 in c:\\users\\nanrahman\\anaconda3\\envs\\mytap\\lib\\site-packages (from jsonschema!=2.5.0,>=2.4->nbformat>=4.2.0->ipywidgets>=7.5.0->fairlearn) (21.2.0)\n",
      "Requirement already satisfied: pytz>=2017.3 in c:\\users\\nanrahman\\anaconda3\\envs\\mytap\\lib\\site-packages (from pandas>=0.25.1->fairlearn) (2021.3)\n",
      "Requirement already satisfied: wcwidth in c:\\users\\nanrahman\\anaconda3\\envs\\mytap\\lib\\site-packages (from prompt-toolkit!=3.0.0,!=3.0.1,<3.1.0,>=2.0.0->ipython>=4.0.0->ipywidgets>=7.5.0->fairlearn) (0.2.5)\n",
      "Requirement already satisfied: joblib>=0.11 in c:\\users\\nanrahman\\anaconda3\\envs\\mytap\\lib\\site-packages (from scikit-learn>=0.22.1->fairlearn) (1.1.0)\n",
      "Requirement already satisfied: threadpoolctl>=2.0.0 in c:\\users\\nanrahman\\anaconda3\\envs\\mytap\\lib\\site-packages (from scikit-learn>=0.22.1->fairlearn) (3.0.0)\n",
      "Requirement already satisfied: notebook>=4.4.1 in c:\\users\\nanrahman\\anaconda3\\envs\\mytap\\lib\\site-packages (from widgetsnbextension~=3.5.0->ipywidgets>=7.5.0->fairlearn) (6.4.5)\n",
      "Requirement already satisfied: prometheus-client in c:\\users\\nanrahman\\anaconda3\\envs\\mytap\\lib\\site-packages (from notebook>=4.4.1->widgetsnbextension~=3.5.0->ipywidgets>=7.5.0->fairlearn) (0.11.0)\n",
      "Requirement already satisfied: argon2-cffi in c:\\users\\nanrahman\\anaconda3\\envs\\mytap\\lib\\site-packages (from notebook>=4.4.1->widgetsnbextension~=3.5.0->ipywidgets>=7.5.0->fairlearn) (20.1.0)\n",
      "Requirement already satisfied: jinja2 in c:\\users\\nanrahman\\anaconda3\\envs\\mytap\\lib\\site-packages (from notebook>=4.4.1->widgetsnbextension~=3.5.0->ipywidgets>=7.5.0->fairlearn) (3.0.2)\n",
      "Requirement already satisfied: nbconvert in c:\\users\\nanrahman\\anaconda3\\envs\\mytap\\lib\\site-packages (from notebook>=4.4.1->widgetsnbextension~=3.5.0->ipywidgets>=7.5.0->fairlearn) (6.1.0)\n",
      "Requirement already satisfied: Send2Trash>=1.5.0 in c:\\users\\nanrahman\\anaconda3\\envs\\mytap\\lib\\site-packages (from notebook>=4.4.1->widgetsnbextension~=3.5.0->ipywidgets>=7.5.0->fairlearn) (1.8.0)\n",
      "Requirement already satisfied: terminado>=0.8.3 in c:\\users\\nanrahman\\anaconda3\\envs\\mytap\\lib\\site-packages (from notebook>=4.4.1->widgetsnbextension~=3.5.0->ipywidgets>=7.5.0->fairlearn) (0.9.4)\n",
      "Requirement already satisfied: pywinpty>=0.5 in c:\\users\\nanrahman\\anaconda3\\envs\\mytap\\lib\\site-packages (from terminado>=0.8.3->notebook>=4.4.1->widgetsnbextension~=3.5.0->ipywidgets>=7.5.0->fairlearn) (0.5.7)\n",
      "Requirement already satisfied: cffi>=1.0.0 in c:\\users\\nanrahman\\anaconda3\\envs\\mytap\\lib\\site-packages (from argon2-cffi->notebook>=4.4.1->widgetsnbextension~=3.5.0->ipywidgets>=7.5.0->fairlearn) (1.14.6)\n",
      "Requirement already satisfied: pycparser in c:\\users\\nanrahman\\anaconda3\\envs\\mytap\\lib\\site-packages (from cffi>=1.0.0->argon2-cffi->notebook>=4.4.1->widgetsnbextension~=3.5.0->ipywidgets>=7.5.0->fairlearn) (2.20)\n",
      "Requirement already satisfied: MarkupSafe>=2.0 in c:\\users\\nanrahman\\anaconda3\\envs\\mytap\\lib\\site-packages (from jinja2->notebook>=4.4.1->widgetsnbextension~=3.5.0->ipywidgets>=7.5.0->fairlearn) (2.0.1)\n",
      "Requirement already satisfied: jupyterlab-pygments in c:\\users\\nanrahman\\anaconda3\\envs\\mytap\\lib\\site-packages (from nbconvert->notebook>=4.4.1->widgetsnbextension~=3.5.0->ipywidgets>=7.5.0->fairlearn) (0.1.2)\n",
      "Requirement already satisfied: testpath in c:\\users\\nanrahman\\anaconda3\\envs\\mytap\\lib\\site-packages (from nbconvert->notebook>=4.4.1->widgetsnbextension~=3.5.0->ipywidgets>=7.5.0->fairlearn) (0.5.0)\n",
      "Requirement already satisfied: defusedxml in c:\\users\\nanrahman\\anaconda3\\envs\\mytap\\lib\\site-packages (from nbconvert->notebook>=4.4.1->widgetsnbextension~=3.5.0->ipywidgets>=7.5.0->fairlearn) (0.7.1)\n",
      "Requirement already satisfied: nbclient<0.6.0,>=0.5.0 in c:\\users\\nanrahman\\anaconda3\\envs\\mytap\\lib\\site-packages (from nbconvert->notebook>=4.4.1->widgetsnbextension~=3.5.0->ipywidgets>=7.5.0->fairlearn) (0.5.3)\n",
      "Requirement already satisfied: bleach in c:\\users\\nanrahman\\anaconda3\\envs\\mytap\\lib\\site-packages (from nbconvert->notebook>=4.4.1->widgetsnbextension~=3.5.0->ipywidgets>=7.5.0->fairlearn) (4.0.0)\n",
      "Requirement already satisfied: mistune<2,>=0.8.1 in c:\\users\\nanrahman\\anaconda3\\envs\\mytap\\lib\\site-packages (from nbconvert->notebook>=4.4.1->widgetsnbextension~=3.5.0->ipywidgets>=7.5.0->fairlearn) (0.8.4)\n",
      "Requirement already satisfied: pandocfilters>=1.4.1 in c:\\users\\nanrahman\\anaconda3\\envs\\mytap\\lib\\site-packages (from nbconvert->notebook>=4.4.1->widgetsnbextension~=3.5.0->ipywidgets>=7.5.0->fairlearn) (1.4.3)\n",
      "Requirement already satisfied: async-generator in c:\\users\\nanrahman\\anaconda3\\envs\\mytap\\lib\\site-packages (from nbclient<0.6.0,>=0.5.0->nbconvert->notebook>=4.4.1->widgetsnbextension~=3.5.0->ipywidgets>=7.5.0->fairlearn) (1.10)\n",
      "Requirement already satisfied: packaging in c:\\users\\nanrahman\\anaconda3\\envs\\mytap\\lib\\site-packages (from bleach->nbconvert->notebook>=4.4.1->widgetsnbextension~=3.5.0->ipywidgets>=7.5.0->fairlearn) (21.0)\n",
      "Requirement already satisfied: webencodings in c:\\users\\nanrahman\\anaconda3\\envs\\mytap\\lib\\site-packages (from bleach->nbconvert->notebook>=4.4.1->widgetsnbextension~=3.5.0->ipywidgets>=7.5.0->fairlearn) (0.5.1)\n",
      "Requirement already satisfied: pyparsing>=2.0.2 in c:\\users\\nanrahman\\anaconda3\\envs\\mytap\\lib\\site-packages (from packaging->bleach->nbconvert->notebook>=4.4.1->widgetsnbextension~=3.5.0->ipywidgets>=7.5.0->fairlearn) (3.0.4)\n"
     ]
    },
    {
     "name": "stdout",
     "output_type": "stream",
     "text": [
      "Requirement already satisfied: BlackBoxAuditing in c:\\users\\nanrahman\\anaconda3\\envs\\mytap\\lib\\site-packages (0.1.54)\n",
      "Requirement already satisfied: pandas in c:\\users\\nanrahman\\anaconda3\\envs\\mytap\\lib\\site-packages (from BlackBoxAuditing) (1.3.4)\n",
      "Requirement already satisfied: networkx in c:\\users\\nanrahman\\anaconda3\\envs\\mytap\\lib\\site-packages (from BlackBoxAuditing) (2.6.3)\n",
      "Requirement already satisfied: matplotlib in c:\\users\\nanrahman\\anaconda3\\envs\\mytap\\lib\\site-packages (from BlackBoxAuditing) (3.4.3)\n",
      "Requirement already satisfied: numpy in c:\\users\\nanrahman\\anaconda3\\envs\\mytap\\lib\\site-packages (from BlackBoxAuditing) (1.20.3)\n",
      "Requirement already satisfied: pyparsing>=2.2.1 in c:\\users\\nanrahman\\anaconda3\\envs\\mytap\\lib\\site-packages (from matplotlib->BlackBoxAuditing) (3.0.4)\n",
      "Requirement already satisfied: pillow>=6.2.0 in c:\\users\\nanrahman\\anaconda3\\envs\\mytap\\lib\\site-packages (from matplotlib->BlackBoxAuditing) (8.4.0)\n",
      "Requirement already satisfied: kiwisolver>=1.0.1 in c:\\users\\nanrahman\\anaconda3\\envs\\mytap\\lib\\site-packages (from matplotlib->BlackBoxAuditing) (1.3.2)\n",
      "Requirement already satisfied: cycler>=0.10 in c:\\users\\nanrahman\\anaconda3\\envs\\mytap\\lib\\site-packages (from matplotlib->BlackBoxAuditing) (0.11.0)\n",
      "Requirement already satisfied: python-dateutil>=2.7 in c:\\users\\nanrahman\\anaconda3\\envs\\mytap\\lib\\site-packages (from matplotlib->BlackBoxAuditing) (2.8.2)\n",
      "Requirement already satisfied: six>=1.5 in c:\\users\\nanrahman\\anaconda3\\envs\\mytap\\lib\\site-packages (from python-dateutil>=2.7->matplotlib->BlackBoxAuditing) (1.16.0)\n",
      "Requirement already satisfied: pytz>=2017.3 in c:\\users\\nanrahman\\anaconda3\\envs\\mytap\\lib\\site-packages (from pandas->BlackBoxAuditing) (2021.3)\n",
      "Requirement already satisfied: lime in c:\\users\\nanrahman\\anaconda3\\envs\\mytap\\lib\\site-packages (0.2.0.1)\n",
      "Requirement already satisfied: matplotlib in c:\\users\\nanrahman\\anaconda3\\envs\\mytap\\lib\\site-packages (from lime) (3.4.3)\n",
      "Requirement already satisfied: scikit-learn>=0.18 in c:\\users\\nanrahman\\anaconda3\\envs\\mytap\\lib\\site-packages (from lime) (1.0.1)\n",
      "Requirement already satisfied: scikit-image>=0.12 in c:\\users\\nanrahman\\anaconda3\\envs\\mytap\\lib\\site-packages (from lime) (0.18.3)\n",
      "Requirement already satisfied: numpy in c:\\users\\nanrahman\\anaconda3\\envs\\mytap\\lib\\site-packages (from lime) (1.20.3)\n",
      "Requirement already satisfied: scipy in c:\\users\\nanrahman\\anaconda3\\envs\\mytap\\lib\\site-packages (from lime) (1.5.4)\n",
      "Requirement already satisfied: tqdm in c:\\users\\nanrahman\\anaconda3\\envs\\mytap\\lib\\site-packages (from lime) (4.62.3)\n",
      "Requirement already satisfied: pillow!=7.1.0,!=7.1.1,>=4.3.0 in c:\\users\\nanrahman\\anaconda3\\envs\\mytap\\lib\\site-packages (from scikit-image>=0.12->lime) (8.4.0)\n",
      "Requirement already satisfied: networkx>=2.0 in c:\\users\\nanrahman\\anaconda3\\envs\\mytap\\lib\\site-packages (from scikit-image>=0.12->lime) (2.6.3)\n",
      "Requirement already satisfied: tifffile>=2019.7.26 in c:\\users\\nanrahman\\anaconda3\\envs\\mytap\\lib\\site-packages (from scikit-image>=0.12->lime) (2021.11.2)\n",
      "Requirement already satisfied: PyWavelets>=1.1.1 in c:\\users\\nanrahman\\anaconda3\\envs\\mytap\\lib\\site-packages (from scikit-image>=0.12->lime) (1.1.1)\n",
      "Requirement already satisfied: imageio>=2.3.0 in c:\\users\\nanrahman\\anaconda3\\envs\\mytap\\lib\\site-packages (from scikit-image>=0.12->lime) (2.10.3)\n",
      "Requirement already satisfied: kiwisolver>=1.0.1 in c:\\users\\nanrahman\\anaconda3\\envs\\mytap\\lib\\site-packages (from matplotlib->lime) (1.3.2)\n",
      "Requirement already satisfied: python-dateutil>=2.7 in c:\\users\\nanrahman\\anaconda3\\envs\\mytap\\lib\\site-packages (from matplotlib->lime) (2.8.2)\n",
      "Requirement already satisfied: pyparsing>=2.2.1 in c:\\users\\nanrahman\\anaconda3\\envs\\mytap\\lib\\site-packages (from matplotlib->lime) (3.0.4)\n",
      "Requirement already satisfied: cycler>=0.10 in c:\\users\\nanrahman\\anaconda3\\envs\\mytap\\lib\\site-packages (from matplotlib->lime) (0.11.0)\n",
      "Requirement already satisfied: six>=1.5 in c:\\users\\nanrahman\\anaconda3\\envs\\mytap\\lib\\site-packages (from python-dateutil>=2.7->matplotlib->lime) (1.16.0)\n",
      "Requirement already satisfied: joblib>=0.11 in c:\\users\\nanrahman\\anaconda3\\envs\\mytap\\lib\\site-packages (from scikit-learn>=0.18->lime) (1.1.0)\n",
      "Requirement already satisfied: threadpoolctl>=2.0.0 in c:\\users\\nanrahman\\anaconda3\\envs\\mytap\\lib\\site-packages (from scikit-learn>=0.18->lime) (3.0.0)\n",
      "Requirement already satisfied: colorama in c:\\users\\nanrahman\\anaconda3\\envs\\mytap\\lib\\site-packages (from tqdm->lime) (0.4.4)\n",
      "Requirement already satisfied: imbalanced-learn in c:\\users\\nanrahman\\anaconda3\\envs\\mytap\\lib\\site-packages (0.8.1)\n",
      "Requirement already satisfied: numpy>=1.13.3 in c:\\users\\nanrahman\\anaconda3\\envs\\mytap\\lib\\site-packages (from imbalanced-learn) (1.20.3)\n",
      "Requirement already satisfied: scikit-learn>=0.24 in c:\\users\\nanrahman\\anaconda3\\envs\\mytap\\lib\\site-packages (from imbalanced-learn) (1.0.1)\n",
      "Requirement already satisfied: joblib>=0.11 in c:\\users\\nanrahman\\anaconda3\\envs\\mytap\\lib\\site-packages (from imbalanced-learn) (1.1.0)\n",
      "Requirement already satisfied: scipy>=0.19.1 in c:\\users\\nanrahman\\anaconda3\\envs\\mytap\\lib\\site-packages (from imbalanced-learn) (1.5.4)\n",
      "Requirement already satisfied: threadpoolctl>=2.0.0 in c:\\users\\nanrahman\\anaconda3\\envs\\mytap\\lib\\site-packages (from scikit-learn>=0.24->imbalanced-learn) (3.0.0)\n",
      "Collecting package metadata (current_repodata.json): ...working... failed\n"
     ]
    },
    {
     "name": "stderr",
     "output_type": "stream",
     "text": [
      "\n",
      "CondaHTTPError: HTTP 000 CONNECTION FAILED for url <https://conda.anaconda.org/conda-forge/win-64/current_repodata.json>\n",
      "Elapsed: -\n",
      "\n",
      "An HTTP error occurred when trying to retrieve this URL.\n",
      "HTTP errors are often intermittent, and a simple retry will get you on your way.\n",
      "'https://conda.anaconda.org/conda-forge/win-64'\n",
      "\n",
      "\n"
     ]
    }
   ],
   "source": [
    "!pip install sklearn\n",
    "!pip install xgboost\n",
    "!pip install aif360[all]\n",
    "!pip install wrapt\n",
    "!pip install fairlearn\n",
    "!pip install BlackBoxAuditing\n",
    "!pip install lime\n",
    "!pip install -U imbalanced-learn\n",
    "!conda install -c conda-forge imbalanced-learn"
   ]
  },
  {
   "cell_type": "code",
   "execution_count": 7,
   "metadata": {},
   "outputs": [
    {
     "ename": "AttributeError",
     "evalue": "module 'graphviz.backend' has no attribute 'ENCODING'",
     "output_type": "error",
     "traceback": [
      "\u001b[1;31m---------------------------------------------------------------------------\u001b[0m",
      "\u001b[1;31mAttributeError\u001b[0m                            Traceback (most recent call last)",
      "\u001b[1;32mC:\\Users\\NANRAH~1\\AppData\\Local\\Temp/ipykernel_14152/3058216239.py\u001b[0m in \u001b[0;36m<module>\u001b[1;34m\u001b[0m\n\u001b[0;32m     25\u001b[0m \u001b[1;33m\u001b[0m\u001b[0m\n\u001b[0;32m     26\u001b[0m \u001b[1;32mimport\u001b[0m \u001b[0maif360\u001b[0m\u001b[1;33m\u001b[0m\u001b[1;33m\u001b[0m\u001b[0m\n\u001b[1;32m---> 27\u001b[1;33m \u001b[1;32mfrom\u001b[0m \u001b[0maif360\u001b[0m\u001b[1;33m.\u001b[0m\u001b[0mdatasets\u001b[0m \u001b[1;32mimport\u001b[0m \u001b[0mBinaryLabelDataset\u001b[0m\u001b[1;33m\u001b[0m\u001b[1;33m\u001b[0m\u001b[0m\n\u001b[0m\u001b[0;32m     28\u001b[0m \u001b[1;32mfrom\u001b[0m \u001b[0maif360\u001b[0m\u001b[1;33m.\u001b[0m\u001b[0mmetrics\u001b[0m \u001b[1;32mimport\u001b[0m \u001b[0mClassificationMetric\u001b[0m\u001b[1;33m\u001b[0m\u001b[1;33m\u001b[0m\u001b[0m\n\u001b[0;32m     29\u001b[0m \u001b[1;32mfrom\u001b[0m \u001b[0maif360\u001b[0m\u001b[1;33m.\u001b[0m\u001b[0msklearn\u001b[0m\u001b[1;33m.\u001b[0m\u001b[0mmetrics\u001b[0m \u001b[1;32mimport\u001b[0m \u001b[0mdisparate_impact_ratio\u001b[0m\u001b[1;33m,\u001b[0m \u001b[0mstatistical_parity_difference\u001b[0m\u001b[1;33m\u001b[0m\u001b[1;33m\u001b[0m\u001b[0m\n",
      "\u001b[1;32m~\\Anaconda3\\envs\\mytap\\lib\\site-packages\\aif360\\datasets\\__init__.py\u001b[0m in \u001b[0;36m<module>\u001b[1;34m\u001b[0m\n\u001b[0;32m     11\u001b[0m \u001b[1;32mfrom\u001b[0m \u001b[0maif360\u001b[0m\u001b[1;33m.\u001b[0m\u001b[0mdatasets\u001b[0m\u001b[1;33m.\u001b[0m\u001b[0mmeps_dataset_panel21_fy2016\u001b[0m \u001b[1;32mimport\u001b[0m \u001b[0mMEPSDataset21\u001b[0m\u001b[1;33m\u001b[0m\u001b[1;33m\u001b[0m\u001b[0m\n\u001b[0;32m     12\u001b[0m \u001b[1;32mfrom\u001b[0m \u001b[0maif360\u001b[0m\u001b[1;33m.\u001b[0m\u001b[0mdatasets\u001b[0m\u001b[1;33m.\u001b[0m\u001b[0mregression_dataset\u001b[0m \u001b[1;32mimport\u001b[0m \u001b[0mRegressionDataset\u001b[0m\u001b[1;33m\u001b[0m\u001b[1;33m\u001b[0m\u001b[0m\n\u001b[1;32m---> 13\u001b[1;33m \u001b[1;32mfrom\u001b[0m \u001b[0maif360\u001b[0m\u001b[1;33m.\u001b[0m\u001b[0mdatasets\u001b[0m\u001b[1;33m.\u001b[0m\u001b[0mlaw_school_gpa_dataset\u001b[0m \u001b[1;32mimport\u001b[0m \u001b[0mLawSchoolGPADataset\u001b[0m\u001b[1;33m\u001b[0m\u001b[1;33m\u001b[0m\u001b[0m\n\u001b[0m",
      "\u001b[1;32m~\\Anaconda3\\envs\\mytap\\lib\\site-packages\\aif360\\datasets\\law_school_gpa_dataset.py\u001b[0m in \u001b[0;36m<module>\u001b[1;34m\u001b[0m\n\u001b[0;32m      2\u001b[0m \u001b[1;32mimport\u001b[0m \u001b[0mpandas\u001b[0m \u001b[1;32mas\u001b[0m \u001b[0mpd\u001b[0m\u001b[1;33m\u001b[0m\u001b[1;33m\u001b[0m\u001b[0m\n\u001b[0;32m      3\u001b[0m \u001b[1;32mfrom\u001b[0m \u001b[0maif360\u001b[0m\u001b[1;33m.\u001b[0m\u001b[0mdatasets\u001b[0m \u001b[1;32mimport\u001b[0m \u001b[0mRegressionDataset\u001b[0m\u001b[1;33m\u001b[0m\u001b[1;33m\u001b[0m\u001b[0m\n\u001b[1;32m----> 4\u001b[1;33m \u001b[1;32mimport\u001b[0m \u001b[0mtempeh\u001b[0m\u001b[1;33m.\u001b[0m\u001b[0mconfigurations\u001b[0m \u001b[1;32mas\u001b[0m \u001b[0mtc\u001b[0m\u001b[1;33m\u001b[0m\u001b[1;33m\u001b[0m\u001b[0m\n\u001b[0m\u001b[0;32m      5\u001b[0m \u001b[1;33m\u001b[0m\u001b[0m\n\u001b[0;32m      6\u001b[0m \u001b[1;33m\u001b[0m\u001b[0m\n",
      "\u001b[1;32m~\\Anaconda3\\envs\\mytap\\lib\\site-packages\\tempeh\\configurations.py\u001b[0m in \u001b[0;36m<module>\u001b[1;34m\u001b[0m\n\u001b[0;32m      7\u001b[0m     \u001b[0mBlobPerformanceDatasetWrapper\u001b[0m\u001b[1;33m,\u001b[0m \u001b[0mCompasPerformanceDatasetWrapper\u001b[0m\u001b[1;33m,\u001b[0m\u001b[0;31m \u001b[0m\u001b[0;31m\\\u001b[0m\u001b[1;33m\u001b[0m\u001b[1;33m\u001b[0m\u001b[0m\n\u001b[0;32m      8\u001b[0m     \u001b[0mSEAPHEPerformanceDatasetWrapper\u001b[0m\u001b[1;33m\u001b[0m\u001b[1;33m\u001b[0m\u001b[0m\n\u001b[1;32m----> 9\u001b[1;33m \u001b[1;32mfrom\u001b[0m \u001b[0mtempeh\u001b[0m\u001b[1;33m.\u001b[0m\u001b[0mmodels\u001b[0m \u001b[1;32mimport\u001b[0m \u001b[0mRBMSVMModelWrapper\u001b[0m\u001b[1;33m,\u001b[0m \u001b[0mLinearSVMModelWrapper\u001b[0m\u001b[1;33m,\u001b[0m \u001b[0mLogisticModelWrapper\u001b[0m\u001b[1;33m,\u001b[0m\u001b[0;31m \u001b[0m\u001b[0;31m\\\u001b[0m\u001b[1;33m\u001b[0m\u001b[1;33m\u001b[0m\u001b[0m\n\u001b[0m\u001b[0;32m     10\u001b[0m     \u001b[0mRidgeModelWrapper\u001b[0m\u001b[1;33m,\u001b[0m \u001b[0mDecisionTreeClassifierWrapper\u001b[0m\u001b[1;33m,\u001b[0m \u001b[0mRandomForestClassifierWrapper\u001b[0m\u001b[1;33m,\u001b[0m\u001b[0;31m \u001b[0m\u001b[0;31m\\\u001b[0m\u001b[1;33m\u001b[0m\u001b[1;33m\u001b[0m\u001b[0m\n\u001b[0;32m     11\u001b[0m     \u001b[0mRandomForestRegressorWrapper\u001b[0m\u001b[1;33m,\u001b[0m \u001b[0mPytorchMulticlassClassifierWrapper\u001b[0m\u001b[1;33m,\u001b[0m\u001b[0;31m \u001b[0m\u001b[0;31m\\\u001b[0m\u001b[1;33m\u001b[0m\u001b[1;33m\u001b[0m\u001b[0m\n",
      "\u001b[1;32m~\\Anaconda3\\envs\\mytap\\lib\\site-packages\\tempeh\\models\\__init__.py\u001b[0m in \u001b[0;36m<module>\u001b[1;34m\u001b[0m\n\u001b[0;32m     12\u001b[0m     \u001b[0mPytorchBinaryClassifierWrapper\u001b[0m\u001b[1;33m,\u001b[0m \u001b[0mPytorchRegressionWrapper\u001b[0m\u001b[1;33m\u001b[0m\u001b[1;33m\u001b[0m\u001b[0m\n\u001b[0;32m     13\u001b[0m \u001b[1;32mfrom\u001b[0m \u001b[1;33m.\u001b[0m\u001b[0mxgboost_model\u001b[0m \u001b[1;32mimport\u001b[0m \u001b[0mXGBoostClassifierWrapper\u001b[0m\u001b[1;33m,\u001b[0m \u001b[0mXGBoostRegressorWrapper\u001b[0m\u001b[1;33m\u001b[0m\u001b[1;33m\u001b[0m\u001b[0m\n\u001b[1;32m---> 14\u001b[1;33m \u001b[1;32mfrom\u001b[0m \u001b[1;33m.\u001b[0m\u001b[0mlightgbm_model\u001b[0m \u001b[1;32mimport\u001b[0m \u001b[0mLightGBMClassifierWrapper\u001b[0m\u001b[1;33m,\u001b[0m \u001b[0mLightGBMRegressorWrapper\u001b[0m\u001b[1;33m\u001b[0m\u001b[1;33m\u001b[0m\u001b[0m\n\u001b[0m\u001b[0;32m     15\u001b[0m \u001b[1;32mfrom\u001b[0m \u001b[1;33m.\u001b[0m\u001b[0mkeras_model\u001b[0m \u001b[1;32mimport\u001b[0m \u001b[0mKerasMulticlassClassifierWrapper\u001b[0m\u001b[1;33m,\u001b[0m\u001b[0;31m \u001b[0m\u001b[0;31m\\\u001b[0m\u001b[1;33m\u001b[0m\u001b[1;33m\u001b[0m\u001b[0m\n\u001b[0;32m     16\u001b[0m     \u001b[0mKerasBinaryClassifierWrapper\u001b[0m\u001b[1;33m,\u001b[0m \u001b[0mKerasRegressionWrapper\u001b[0m\u001b[1;33m\u001b[0m\u001b[1;33m\u001b[0m\u001b[0m\n",
      "\u001b[1;32m~\\Anaconda3\\envs\\mytap\\lib\\site-packages\\tempeh\\models\\lightgbm_model.py\u001b[0m in \u001b[0;36m<module>\u001b[1;34m\u001b[0m\n\u001b[0;32m      8\u001b[0m \u001b[1;33m\u001b[0m\u001b[0m\n\u001b[0;32m      9\u001b[0m \u001b[1;32mtry\u001b[0m\u001b[1;33m:\u001b[0m\u001b[1;33m\u001b[0m\u001b[1;33m\u001b[0m\u001b[0m\n\u001b[1;32m---> 10\u001b[1;33m     \u001b[1;32mfrom\u001b[0m \u001b[0mlightgbm\u001b[0m \u001b[1;32mimport\u001b[0m \u001b[0mLGBMRegressor\u001b[0m\u001b[1;33m,\u001b[0m \u001b[0mLGBMClassifier\u001b[0m  \u001b[1;31m# noqa: E402\u001b[0m\u001b[1;33m\u001b[0m\u001b[1;33m\u001b[0m\u001b[0m\n\u001b[0m\u001b[0;32m     11\u001b[0m \u001b[1;32mexcept\u001b[0m \u001b[0mImportError\u001b[0m\u001b[1;33m:\u001b[0m\u001b[1;33m\u001b[0m\u001b[1;33m\u001b[0m\u001b[0m\n\u001b[0;32m     12\u001b[0m     logger.debug(\"No module named 'lightgbm'. If you want to use lightgbm with tempeh please \"\n",
      "\u001b[1;32m~\\Anaconda3\\envs\\mytap\\lib\\site-packages\\lightgbm\\__init__.py\u001b[0m in \u001b[0;36m<module>\u001b[1;34m\u001b[0m\n\u001b[0;32m      6\u001b[0m \u001b[1;32mfrom\u001b[0m \u001b[0mpathlib\u001b[0m \u001b[1;32mimport\u001b[0m \u001b[0mPath\u001b[0m\u001b[1;33m\u001b[0m\u001b[1;33m\u001b[0m\u001b[0m\n\u001b[0;32m      7\u001b[0m \u001b[1;33m\u001b[0m\u001b[0m\n\u001b[1;32m----> 8\u001b[1;33m \u001b[1;32mfrom\u001b[0m \u001b[1;33m.\u001b[0m\u001b[0mbasic\u001b[0m \u001b[1;32mimport\u001b[0m \u001b[0mBooster\u001b[0m\u001b[1;33m,\u001b[0m \u001b[0mDataset\u001b[0m\u001b[1;33m,\u001b[0m \u001b[0mSequence\u001b[0m\u001b[1;33m,\u001b[0m \u001b[0mregister_logger\u001b[0m\u001b[1;33m\u001b[0m\u001b[1;33m\u001b[0m\u001b[0m\n\u001b[0m\u001b[0;32m      9\u001b[0m \u001b[1;32mfrom\u001b[0m \u001b[1;33m.\u001b[0m\u001b[0mcallback\u001b[0m \u001b[1;32mimport\u001b[0m \u001b[0mearly_stopping\u001b[0m\u001b[1;33m,\u001b[0m \u001b[0mlog_evaluation\u001b[0m\u001b[1;33m,\u001b[0m \u001b[0mprint_evaluation\u001b[0m\u001b[1;33m,\u001b[0m \u001b[0mrecord_evaluation\u001b[0m\u001b[1;33m,\u001b[0m \u001b[0mreset_parameter\u001b[0m\u001b[1;33m\u001b[0m\u001b[1;33m\u001b[0m\u001b[0m\n\u001b[0;32m     10\u001b[0m \u001b[1;32mfrom\u001b[0m \u001b[1;33m.\u001b[0m\u001b[0mengine\u001b[0m \u001b[1;32mimport\u001b[0m \u001b[0mCVBooster\u001b[0m\u001b[1;33m,\u001b[0m \u001b[0mcv\u001b[0m\u001b[1;33m,\u001b[0m \u001b[0mtrain\u001b[0m\u001b[1;33m\u001b[0m\u001b[1;33m\u001b[0m\u001b[0m\n",
      "\u001b[1;32m~\\Anaconda3\\envs\\mytap\\lib\\site-packages\\lightgbm\\basic.py\u001b[0m in \u001b[0;36m<module>\u001b[1;34m\u001b[0m\n\u001b[0;32m     18\u001b[0m \u001b[1;32mimport\u001b[0m \u001b[0mscipy\u001b[0m\u001b[1;33m.\u001b[0m\u001b[0msparse\u001b[0m\u001b[1;33m\u001b[0m\u001b[1;33m\u001b[0m\u001b[0m\n\u001b[0;32m     19\u001b[0m \u001b[1;33m\u001b[0m\u001b[0m\n\u001b[1;32m---> 20\u001b[1;33m \u001b[1;32mfrom\u001b[0m \u001b[1;33m.\u001b[0m\u001b[0mcompat\u001b[0m \u001b[1;32mimport\u001b[0m \u001b[0mPANDAS_INSTALLED\u001b[0m\u001b[1;33m,\u001b[0m \u001b[0mconcat\u001b[0m\u001b[1;33m,\u001b[0m \u001b[0mdt_DataTable\u001b[0m\u001b[1;33m,\u001b[0m \u001b[0mis_dtype_sparse\u001b[0m\u001b[1;33m,\u001b[0m \u001b[0mpd_DataFrame\u001b[0m\u001b[1;33m,\u001b[0m \u001b[0mpd_Series\u001b[0m\u001b[1;33m\u001b[0m\u001b[1;33m\u001b[0m\u001b[0m\n\u001b[0m\u001b[0;32m     21\u001b[0m \u001b[1;32mfrom\u001b[0m \u001b[1;33m.\u001b[0m\u001b[0mlibpath\u001b[0m \u001b[1;32mimport\u001b[0m \u001b[0mfind_lib_path\u001b[0m\u001b[1;33m\u001b[0m\u001b[1;33m\u001b[0m\u001b[0m\n\u001b[0;32m     22\u001b[0m \u001b[1;33m\u001b[0m\u001b[0m\n",
      "\u001b[1;32m~\\Anaconda3\\envs\\mytap\\lib\\site-packages\\lightgbm\\compat.py\u001b[0m in \u001b[0;36m<module>\u001b[1;34m\u001b[0m\n\u001b[0;32m     34\u001b[0m \u001b[1;34m\"\"\"graphviz\"\"\"\u001b[0m\u001b[1;33m\u001b[0m\u001b[1;33m\u001b[0m\u001b[0m\n\u001b[0;32m     35\u001b[0m \u001b[1;32mtry\u001b[0m\u001b[1;33m:\u001b[0m\u001b[1;33m\u001b[0m\u001b[1;33m\u001b[0m\u001b[0m\n\u001b[1;32m---> 36\u001b[1;33m     \u001b[1;32mimport\u001b[0m \u001b[0mgraphviz\u001b[0m\u001b[1;33m\u001b[0m\u001b[1;33m\u001b[0m\u001b[0m\n\u001b[0m\u001b[0;32m     37\u001b[0m     \u001b[0mGRAPHVIZ_INSTALLED\u001b[0m \u001b[1;33m=\u001b[0m \u001b[1;32mTrue\u001b[0m\u001b[1;33m\u001b[0m\u001b[1;33m\u001b[0m\u001b[0m\n\u001b[0;32m     38\u001b[0m \u001b[1;32mexcept\u001b[0m \u001b[0mImportError\u001b[0m\u001b[1;33m:\u001b[0m\u001b[1;33m\u001b[0m\u001b[1;33m\u001b[0m\u001b[0m\n",
      "\u001b[1;32m~\\Anaconda3\\envs\\mytap\\lib\\site-packages\\graphviz\\__init__.py\u001b[0m in \u001b[0;36m<module>\u001b[1;34m\u001b[0m\n\u001b[0;32m     25\u001b[0m \"\"\"\n\u001b[0;32m     26\u001b[0m \u001b[1;33m\u001b[0m\u001b[0m\n\u001b[1;32m---> 27\u001b[1;33m \u001b[1;32mfrom\u001b[0m \u001b[1;33m.\u001b[0m\u001b[0mdot\u001b[0m \u001b[1;32mimport\u001b[0m \u001b[0mGraph\u001b[0m\u001b[1;33m,\u001b[0m \u001b[0mDigraph\u001b[0m\u001b[1;33m\u001b[0m\u001b[1;33m\u001b[0m\u001b[0m\n\u001b[0m\u001b[0;32m     28\u001b[0m \u001b[1;32mfrom\u001b[0m \u001b[1;33m.\u001b[0m\u001b[0mfiles\u001b[0m \u001b[1;32mimport\u001b[0m \u001b[0mSource\u001b[0m\u001b[1;33m\u001b[0m\u001b[1;33m\u001b[0m\u001b[0m\n\u001b[0;32m     29\u001b[0m \u001b[1;32mfrom\u001b[0m \u001b[1;33m.\u001b[0m\u001b[0mlang\u001b[0m \u001b[1;32mimport\u001b[0m \u001b[0mescape\u001b[0m\u001b[1;33m,\u001b[0m \u001b[0mnohtml\u001b[0m\u001b[1;33m\u001b[0m\u001b[1;33m\u001b[0m\u001b[0m\n",
      "\u001b[1;32m~\\Anaconda3\\envs\\mytap\\lib\\site-packages\\graphviz\\dot.py\u001b[0m in \u001b[0;36m<module>\u001b[1;34m\u001b[0m\n\u001b[0;32m     30\u001b[0m \u001b[1;33m\u001b[0m\u001b[0m\n\u001b[0;32m     31\u001b[0m \u001b[1;32mfrom\u001b[0m \u001b[1;33m.\u001b[0m \u001b[1;32mimport\u001b[0m \u001b[0mbackend\u001b[0m\u001b[1;33m\u001b[0m\u001b[1;33m\u001b[0m\u001b[0m\n\u001b[1;32m---> 32\u001b[1;33m \u001b[1;32mfrom\u001b[0m \u001b[1;33m.\u001b[0m \u001b[1;32mimport\u001b[0m \u001b[0mfiles\u001b[0m\u001b[1;33m\u001b[0m\u001b[1;33m\u001b[0m\u001b[0m\n\u001b[0m\u001b[0;32m     33\u001b[0m \u001b[1;32mfrom\u001b[0m \u001b[1;33m.\u001b[0m \u001b[1;32mimport\u001b[0m \u001b[0mlang\u001b[0m\u001b[1;33m\u001b[0m\u001b[1;33m\u001b[0m\u001b[0m\n\u001b[0;32m     34\u001b[0m \u001b[1;33m\u001b[0m\u001b[0m\n",
      "\u001b[1;32m~\\Anaconda3\\envs\\mytap\\lib\\site-packages\\graphviz\\files.py\u001b[0m in \u001b[0;36m<module>\u001b[1;34m\u001b[0m\n\u001b[0;32m     20\u001b[0m \u001b[1;33m\u001b[0m\u001b[0m\n\u001b[0;32m     21\u001b[0m \u001b[1;33m\u001b[0m\u001b[0m\n\u001b[1;32m---> 22\u001b[1;33m \u001b[1;32mclass\u001b[0m \u001b[0mBase\u001b[0m\u001b[1;33m(\u001b[0m\u001b[0mobject\u001b[0m\u001b[1;33m)\u001b[0m\u001b[1;33m:\u001b[0m\u001b[1;33m\u001b[0m\u001b[1;33m\u001b[0m\u001b[0m\n\u001b[0m\u001b[0;32m     23\u001b[0m \u001b[1;33m\u001b[0m\u001b[0m\n\u001b[0;32m     24\u001b[0m     \u001b[0m_engine\u001b[0m \u001b[1;33m=\u001b[0m \u001b[1;34m'dot'\u001b[0m\u001b[1;33m\u001b[0m\u001b[1;33m\u001b[0m\u001b[0m\n",
      "\u001b[1;32m~\\Anaconda3\\envs\\mytap\\lib\\site-packages\\graphviz\\files.py\u001b[0m in \u001b[0;36mBase\u001b[1;34m()\u001b[0m\n\u001b[0;32m     26\u001b[0m     \u001b[0m_format\u001b[0m \u001b[1;33m=\u001b[0m \u001b[1;34m'pdf'\u001b[0m\u001b[1;33m\u001b[0m\u001b[1;33m\u001b[0m\u001b[0m\n\u001b[0;32m     27\u001b[0m \u001b[1;33m\u001b[0m\u001b[0m\n\u001b[1;32m---> 28\u001b[1;33m     \u001b[0m_encoding\u001b[0m \u001b[1;33m=\u001b[0m \u001b[0mbackend\u001b[0m\u001b[1;33m.\u001b[0m\u001b[0mENCODING\u001b[0m\u001b[1;33m\u001b[0m\u001b[1;33m\u001b[0m\u001b[0m\n\u001b[0m\u001b[0;32m     29\u001b[0m \u001b[1;33m\u001b[0m\u001b[0m\n\u001b[0;32m     30\u001b[0m     \u001b[1;33m@\u001b[0m\u001b[0mproperty\u001b[0m\u001b[1;33m\u001b[0m\u001b[1;33m\u001b[0m\u001b[0m\n",
      "\u001b[1;31mAttributeError\u001b[0m: module 'graphviz.backend' has no attribute 'ENCODING'"
     ]
    }
   ],
   "source": [
    "%matplotlib inline\n",
    "from IPython.core.interactiveshell import InteractiveShell\n",
    "InteractiveShell.ast_node_interactivity = \"all\"\n",
    "\n",
    "import numpy as np\n",
    "import pandas as pd\n",
    "import matplotlib.pyplot as plt\n",
    "import seaborn as sns\n",
    "import datetime\n",
    "from datetime import date\n",
    "from statsmodels.stats.outliers_influence import variance_inflation_factor\n",
    "import imblearn\n",
    "from imblearn.over_sampling import SMOTE\n",
    "import xgboost as xgb\n",
    "\n",
    "from sklearn import metrics\n",
    "from sklearn.metrics import confusion_matrix\n",
    "from sklearn import preprocessing\n",
    "from sklearn.preprocessing import StandardScaler\n",
    "from sklearn.model_selection import RandomizedSearchCV, StratifiedKFold, GridSearchCV, train_test_split\n",
    "from sklearn.ensemble import RandomForestClassifier\n",
    "from sklearn.linear_model import LogisticRegression\n",
    "from xgboost.sklearn import XGBClassifier\n",
    "\n",
    "\n",
    "import aif360\n",
    "from aif360.datasets import BinaryLabelDataset\n",
    "from aif360.metrics import ClassificationMetric\n",
    "from aif360.sklearn.metrics import disparate_impact_ratio, statistical_parity_difference\n",
    "from aif360.algorithms.preprocessing import DisparateImpactRemover\n",
    "from aif360.sklearn.inprocessing import AdversarialDebiasing\n",
    "from aif360.algorithms.postprocessing.calibrated_eq_odds_postprocessing import CalibratedEqOddsPostprocessing\n",
    "\n",
    "import shap\n"
   ]
  },
  {
   "cell_type": "markdown",
   "metadata": {},
   "source": [
    "# 1. HMDA Mortgage Lending Data\n",
    "### Data Source: \n",
    "*Add data source here*"
   ]
  },
  {
   "cell_type": "code",
   "execution_count": null,
   "metadata": {
    "scrolled": true
   },
   "outputs": [],
   "source": [
    "# Load HMDA data\n",
    "data = pd.read_csv('./data/HMDA_2019.csv')\n",
    "\n",
    "data.info()\n",
    "data.head()"
   ]
  },
  {
   "cell_type": "markdown",
   "metadata": {},
   "source": [
    "# 1.1 HMDA Data Dictionary\n",
    "*Add data dictionary*"
   ]
  },
  {
   "cell_type": "code",
   "execution_count": null,
   "metadata": {},
   "outputs": [],
   "source": [
    "data.shape\n",
    "data.describe()"
   ]
  },
  {
   "cell_type": "markdown",
   "metadata": {},
   "source": [
    "# 2. Data Preparation"
   ]
  },
  {
   "cell_type": "markdown",
   "metadata": {},
   "source": [
    "## 2.1 Defining Data Scope\n",
    "The mortgage lending dataset is filtered on:\n",
    "- Loan originations and applications denied\n",
    "- Single family household with 1 to 4 members ***Need data dictionary***\n",
    "- Occupancy type = 1? ***Need data dictionary***\n",
    "- Lien status first time mortgage loans ***Need data dictionary***\n",
    "    -  An example of a lien is a bank holding the title to a car until the car loan has been completely paid\n",
    "    \n",
    "Records that were removed:\n",
    "- Derived ethnicity when the value is 'Free Form Text Only'\n",
    "- Derived race when the value is 'Free Form Text Only'\n",
    "- Applicant age when the value is '8888'\n",
    "- Loan purposes that were not applicable\n",
    "- Interest payments when the value is '1111'"
   ]
  },
  {
   "cell_type": "code",
   "execution_count": null,
   "metadata": {},
   "outputs": [],
   "source": [
    "# Filter on loan originations and applications denied\n",
    "df=data[(data['action_taken']==1)|(data['action_taken']==3)]\n",
    "\n",
    "# Filter dfset on singlefamily 1-4 units\n",
    "df = df[(df['derived_dwelling_category']=='Single Family (1-4 Units):Manufactured') |(data['derived_dwelling_category']=='Single Family (1-4 Units):Site-Built')]\n",
    "\n",
    "# Filter dfset on occupancy type = 1 - principal residences\n",
    "df = df[df['occupancy_type']==1]\n",
    "\n",
    "# Filter dfset on lien_status = 1 - first mortgage loans\n",
    "df = df[df['lien_status']==1]\n",
    "\n",
    "# Remove values that arent useful \n",
    "df = df[df['derived_ethnicity']!='Free Form Text Only']\n",
    "df = df[df['derived_race']!='Free Form Text Only']\n",
    "df = df[df['applicant_age']!='8888']\n",
    "\n",
    "# Remove Not Applicable values for Loan Purpose\n",
    "df = df[df['loan_purpose']!=5]\n",
    "\n",
    "# Remove exempt values for interest_only_payment\n",
    "df = df[df['interest_only_payment']!=1111]\n",
    "\n",
    "df = df[df['loan_to_value_ratio']!='Exempt']\n"
   ]
  },
  {
   "cell_type": "markdown",
   "metadata": {},
   "source": [
    "## 2.2 Transform into Binary Classification Problem\n",
    "A new column that translates the loan approval or denial decision will be used as the binary target to classify individuuals who are identified as approved for a mortgage loan."
   ]
  },
  {
   "cell_type": "code",
   "execution_count": null,
   "metadata": {},
   "outputs": [],
   "source": [
    "# Turn into a binary classification problem\n",
    "df.loc[df.action_taken == 3, 'action_taken'] = 0"
   ]
  },
  {
   "cell_type": "markdown",
   "metadata": {},
   "source": [
    "## 2.3 Outlier Detection and Handling \n",
    "Records that were among the top 2% of loan amount values were classified as outliers and removed to balance the dataset. Similarly, records that were among the top 3% and bottom 1% of income levels were classified as outliers and removed."
   ]
  },
  {
   "cell_type": "code",
   "execution_count": null,
   "metadata": {},
   "outputs": [],
   "source": [
    "# Detect outliers by using quantile threshold\n",
    "print(\"Top 2% of loan amounts: \",df['loan_amount'].quantile(.98),\"\\nBottom 1% of income levels: \",df['income'].quantile(.01),\"\\nTop 3% of income levels: \",df['income'].quantile(.97))\n",
    "\n",
    "# Remove the top 2% of loan amount values as they are outliers\n",
    "df = df[(df['loan_amount']<df['loan_amount'].quantile(.98))]\n",
    "\n",
    "# Remove the top 3% and the bottom 1% of income values as they are outliers\n",
    "df = df[(df['income']>df['income'].quantile(.01))&(df['income']<df['income'].quantile(.97))]"
   ]
  },
  {
   "cell_type": "markdown",
   "metadata": {},
   "source": [
    "# 3. Feature Selection \n",
    "1. Create one model with hand picked features (HUD OG model). \n",
    "2. Create one model with features that were chosen using a SHAP feature selection implementation. \n",
    "3. Compare both models with TAP robust model evaluation techniques\n",
    "\n",
    "- ***Need understanding of why these features were selected***: selected by HUD SME\n",
    "- Do we want to use explainable techniques for feature selection? SHAP feature importance \n",
    "    - Compare SHAP feature selection to SME feature selection \n",
    "    "
   ]
  },
  {
   "cell_type": "code",
   "execution_count": null,
   "metadata": {},
   "outputs": [],
   "source": [
    "columns = [\n",
    "    'income', \n",
    "    'debt_to_income_ratio',\n",
    "    'loan_to_value_ratio',\n",
    "    'loan_amount',\n",
    "    'derived_ethnicity', \n",
    "    'derived_race', \n",
    "    'derived_sex', \n",
    "    'applicant_age',\n",
    "    'preapproval',\n",
    "    'loan_type',\n",
    "    'loan_purpose',\n",
    "    'interest_only_payment',\n",
    "    'balloon_payment',\n",
    "    'action_taken']\n",
    "\n",
    "df = df[columns]\n",
    "# df=df.sample(n=100000) # Sample the data to address performance issues"
   ]
  },
  {
   "cell_type": "markdown",
   "metadata": {},
   "source": [
    "## 3.1 Mising Values\n",
    "*Need to look into missing value handling and potentially use a normalization technique similar to what was used in the HUD POC*"
   ]
  },
  {
   "cell_type": "code",
   "execution_count": null,
   "metadata": {},
   "outputs": [],
   "source": [
    "# Visualize missing values \n",
    "plt.figure(figsize = (18,5))\n",
    "df.isnull().sum().plot(kind='bar',color=sns.color_palette(\"husl\", 8))"
   ]
  },
  {
   "cell_type": "code",
   "execution_count": null,
   "metadata": {},
   "outputs": [],
   "source": [
    "# Drop missing values \n",
    "df = df.dropna()\n",
    "df.shape"
   ]
  },
  {
   "cell_type": "markdown",
   "metadata": {},
   "source": [
    "# 4. Exploratory Data Analysis"
   ]
  },
  {
   "cell_type": "code",
   "execution_count": null,
   "metadata": {},
   "outputs": [],
   "source": [
    "df.shape\n",
    "df.describe()\n",
    "df.head()"
   ]
  },
  {
   "cell_type": "markdown",
   "metadata": {},
   "source": [
    "#### Correlation Matrix"
   ]
  },
  {
   "cell_type": "code",
   "execution_count": null,
   "metadata": {},
   "outputs": [],
   "source": [
    "df.corr()"
   ]
  },
  {
   "cell_type": "markdown",
   "metadata": {},
   "source": [
    "#### Correlation Plot\n",
    "This may show us relationships between protected attributes or variables masked as proxies for those protected attribtues."
   ]
  },
  {
   "cell_type": "code",
   "execution_count": null,
   "metadata": {},
   "outputs": [],
   "source": [
    "plt.figure(figsize=(15,8))\n",
    "sns.heatmap(df.corr(),\n",
    "           cmap='BuPu',\n",
    "           annot=True,\n",
    "           fmt=\".2f\",\n",
    "           annot_kws={'size':16},\n",
    "           cbar=False)"
   ]
  },
  {
   "cell_type": "markdown",
   "metadata": {},
   "source": [
    "#### Check Correlations among Variables"
   ]
  },
  {
   "cell_type": "code",
   "execution_count": null,
   "metadata": {},
   "outputs": [],
   "source": [
    "correlations = df.corr()\n",
    "correlations.replace(1,0).idxmax()"
   ]
  },
  {
   "cell_type": "code",
   "execution_count": null,
   "metadata": {},
   "outputs": [],
   "source": [
    "df[['income','loan_amount']].plot.scatter('income','loan_amount')"
   ]
  },
  {
   "cell_type": "markdown",
   "metadata": {},
   "source": [
    "#### Check for Categorical Variables"
   ]
  },
  {
   "cell_type": "code",
   "execution_count": null,
   "metadata": {},
   "outputs": [],
   "source": [
    "cat_cols = df.loc[:,df.dtypes=='object'].columns\n",
    "for column in cat_cols:\n",
    "    print('Unique Values in ', column, df[column].unique())\n",
    "    print(df[column].value_counts())"
   ]
  },
  {
   "cell_type": "markdown",
   "metadata": {},
   "source": [
    "#### Target: Loan Origination \n",
    "The target variable, the action taken, is highly imbalanced, with more of the dataset having loan origination outcomes. "
   ]
  },
  {
   "cell_type": "code",
   "execution_count": null,
   "metadata": {},
   "outputs": [],
   "source": [
    "print(df['action_taken'].value_counts())\n",
    "print(df['action_taken'].value_counts().plot(kind='bar',color=\"yellowgreen\"))"
   ]
  },
  {
   "cell_type": "markdown",
   "metadata": {},
   "source": [
    "#### Income\n",
    "The income feature is skewed to the right, with more of the dataset having lower income levels. "
   ]
  },
  {
   "cell_type": "code",
   "execution_count": null,
   "metadata": {},
   "outputs": [],
   "source": [
    "plt.hist(df['income'],bins = 20, color='yellowgreen')"
   ]
  },
  {
   "cell_type": "markdown",
   "metadata": {},
   "source": [
    "#### Debt to Income Ratio\n",
    "Bin the debt to income ratio feature "
   ]
  },
  {
   "cell_type": "code",
   "execution_count": null,
   "metadata": {},
   "outputs": [],
   "source": [
    "def getDebtIncomeRatio(var):\n",
    "    value = 'NaN'\n",
    "    if (var)=='36':\n",
    "        value = '36-39'\n",
    "    elif (var)=='37':\n",
    "        value = '36-39'\n",
    "    elif (var)=='38':\n",
    "        value = '36-39'\n",
    "    elif (var)=='39':\n",
    "        value = '36-39'\n",
    "    elif (var)=='40':\n",
    "        value = '40-45'\n",
    "    elif (var)=='41':\n",
    "        value = '40-45'\n",
    "    elif (var)=='42':\n",
    "        value = '40-45'\n",
    "    elif (var)=='43':\n",
    "        value = '40-45'\n",
    "    elif (var)=='44':\n",
    "        value = '40-45'\n",
    "    elif (var)=='45':\n",
    "        value = '40-45'\n",
    "    elif (var)=='46':\n",
    "        value = '46-49'   \n",
    "    elif (var)=='47':\n",
    "        value = '46-49'  \n",
    "    elif (var)=='48':\n",
    "        value = '46-49'  \n",
    "    elif (var)=='49':\n",
    "        value = '46-49'  \n",
    "    else: \n",
    "        value = var\n",
    "    return(value)"
   ]
  },
  {
   "cell_type": "code",
   "execution_count": null,
   "metadata": {},
   "outputs": [],
   "source": [
    "df['debt_to_income_ratio'] = df['debt_to_income_ratio'].apply(lambda x: getDebtIncomeRatio(x))\n",
    "df['debt_to_income_ratio'].value_counts()"
   ]
  },
  {
   "cell_type": "markdown",
   "metadata": {},
   "source": [
    "#### Loan to Value Ratio\n",
    "The loan to value ratio feature is skewed to the right, with more of the dataset having lower debt to income ratios. "
   ]
  },
  {
   "cell_type": "code",
   "execution_count": null,
   "metadata": {},
   "outputs": [],
   "source": [
    "plt.hist(df['loan_amount'],bins = 20, color='yellowgreen')"
   ]
  },
  {
   "cell_type": "markdown",
   "metadata": {},
   "source": [
    "#### Protected Classes"
   ]
  },
  {
   "cell_type": "code",
   "execution_count": null,
   "metadata": {},
   "outputs": [],
   "source": [
    "protectedClassCols = ['derived_ethnicity',\n",
    " 'derived_race',\n",
    " 'derived_sex',\n",
    " 'applicant_age']"
   ]
  },
  {
   "cell_type": "markdown",
   "metadata": {},
   "source": [
    "#### Ethnicity Categories\n",
    "After filtering the dataset, the ethnicity break down: "
   ]
  },
  {
   "cell_type": "code",
   "execution_count": null,
   "metadata": {},
   "outputs": [],
   "source": [
    "df['derived_ethnicity'].value_counts(normalize = True)\n",
    "print(df['derived_ethnicity'].value_counts().plot(kind='bar',color=sns.color_palette(\"husl\", 8)))"
   ]
  },
  {
   "cell_type": "markdown",
   "metadata": {},
   "source": [
    "#### Race Categories\n",
    "After filtering the dataset, the race demographic groups break down: "
   ]
  },
  {
   "cell_type": "code",
   "execution_count": null,
   "metadata": {},
   "outputs": [],
   "source": [
    "df['derived_race'].value_counts(normalize = True)\n",
    "print(df['derived_race'].value_counts().plot(kind='bar',color=sns.color_palette(\"husl\", 8)))"
   ]
  },
  {
   "cell_type": "markdown",
   "metadata": {},
   "source": [
    "#### Sex Categories\n",
    "After filtering the dataset, the sex categories break down: "
   ]
  },
  {
   "cell_type": "code",
   "execution_count": null,
   "metadata": {},
   "outputs": [],
   "source": [
    "df['derived_sex'].value_counts(normalize = True)\n",
    "print(df['derived_sex'].value_counts().plot(kind='bar',color=sns.color_palette(\"husl\", 8)))"
   ]
  },
  {
   "cell_type": "markdown",
   "metadata": {},
   "source": [
    "#### Age\n",
    "After filtering the dataset, the age groups break down: "
   ]
  },
  {
   "cell_type": "code",
   "execution_count": null,
   "metadata": {},
   "outputs": [],
   "source": [
    "df['applicant_age'].value_counts(normalize = True)\n",
    "print(df['applicant_age'].value_counts().plot(kind='bar',color=sns.color_palette(\"husl\", 8)))"
   ]
  },
  {
   "cell_type": "markdown",
   "metadata": {},
   "source": [
    "#### Loan Type \n",
    "After filtering the dataset, the loan types break down: "
   ]
  },
  {
   "cell_type": "code",
   "execution_count": null,
   "metadata": {},
   "outputs": [],
   "source": [
    "df['loan_type'].value_counts(normalize = True)\n",
    "print(df['loan_type'].value_counts().plot(kind='bar',color=sns.color_palette(\"husl\", 8)))"
   ]
  },
  {
   "cell_type": "markdown",
   "metadata": {},
   "source": [
    "#### Loan Purpose \n",
    "After filtering the dataset, the loan_purpose groups break down: "
   ]
  },
  {
   "cell_type": "code",
   "execution_count": null,
   "metadata": {},
   "outputs": [],
   "source": [
    "df['loan_purpose'].value_counts(normalize = True)\n",
    "print(df['loan_purpose'].value_counts().plot(kind='bar',color=sns.color_palette(\"husl\", 8)))"
   ]
  },
  {
   "cell_type": "markdown",
   "metadata": {},
   "source": [
    "#### Interest Only Payments\n",
    "After filtering the dataset, the interest only payment indicator break down: "
   ]
  },
  {
   "cell_type": "code",
   "execution_count": null,
   "metadata": {},
   "outputs": [],
   "source": [
    "df['interest_only_payment'].value_counts(normalize = True)\n",
    "print(df['interest_only_payment'].value_counts().plot(kind='bar',color=sns.color_palette(\"husl\", 8)))"
   ]
  },
  {
   "cell_type": "markdown",
   "metadata": {},
   "source": [
    "#### Balloon Payment Indicator\n",
    "After filtering the dataset, the balloon payment indicator break down:"
   ]
  },
  {
   "cell_type": "code",
   "execution_count": null,
   "metadata": {},
   "outputs": [],
   "source": [
    "df['balloon_payment'].value_counts()\n",
    "print(df['balloon_payment'].value_counts().plot(kind='bar',color=sns.color_palette(\"husl\", 8)))"
   ]
  },
  {
   "cell_type": "code",
   "execution_count": null,
   "metadata": {},
   "outputs": [],
   "source": [
    "df.head()"
   ]
  },
  {
   "cell_type": "markdown",
   "metadata": {},
   "source": [
    "## 4.1 Exploratory Data Analysis Insights and Explanation \n",
    "*Add verbiage here about the data*\n"
   ]
  },
  {
   "cell_type": "markdown",
   "metadata": {},
   "source": [
    "# 5. Data Preparation "
   ]
  },
  {
   "cell_type": "markdown",
   "metadata": {},
   "source": [
    "#### Map values in place\n",
    "Mapping values in place is used instead of one hot encoding to perform the fairness assessment using IBM's AIF360 package.\n",
    "\n",
    "##### Derived Ethnicity\n",
    "- 0: Ethnicity Not Available\n",
    "- 1: Hispanic or Latino \n",
    "- 2: Joint\n",
    "- 3: Not Hispanic or Latino\n",
    "\n",
    "##### Derived Race\n",
    "- 0: Race not Available\n",
    "- 1: \n",
    "- 2: Asian ?\n",
    "- 3: Black or African American\n",
    "- 4: Joint\n",
    "- 5: \n",
    "- 6: Race not Available ?\n",
    "- 7: White\n",
    "\n",
    "##### Derived Sex\n",
    "- 0: Female\n",
    "- 1: Joint\n",
    "- 2: Male\n",
    "- 3: Sex not Available \n",
    "\n",
    "##### Derived Age\n",
    "- 0: 25-34\n",
    "- 1: 35-44?\n",
    "- 2: 45-54?\n",
    "- 3: 55-64\n",
    "- 4: 65-74\n",
    "- 5: <25?\n",
    "- 6: >74\n",
    "\n",
    "##### Debt to Income Ratio \n",
    "- 0: 20-30\n",
    "- 1: 30-36\n",
    "- 2: 36-39\n",
    "- 3: 40-45\n",
    "- 4: 46-49\n",
    "- 5: 50-60"
   ]
  },
  {
   "cell_type": "code",
   "execution_count": null,
   "metadata": {
    "scrolled": true
   },
   "outputs": [],
   "source": [
    "df['derived_ethnicity'] = df.derived_ethnicity.astype(\"category\").cat.codes\n",
    "df['derived_race'] = df.derived_race.astype(\"category\").cat.codes\n",
    "df['derived_sex'] = df.derived_sex.astype(\"category\").cat.codes\n",
    "df['applicant_age'] = df.applicant_age.astype(\"category\").cat.codes\n",
    "df['debt_to_income_ratio'] = df.debt_to_income_ratio.astype(\"category\").cat.codes\n",
    "df['loan_to_value_ratio'] = pd.to_numeric(df['loan_to_value_ratio'])\n",
    "df.head()"
   ]
  },
  {
   "cell_type": "markdown",
   "metadata": {},
   "source": [
    "# 6. Split the Dataset into Training and Testing Sets\n",
    "In this section I will define the target variable and features, apply a SMOTE data oversampling technique to minimize the effect of an imbalanced dataset, and split data into 70/30 segments."
   ]
  },
  {
   "cell_type": "code",
   "execution_count": null,
   "metadata": {},
   "outputs": [],
   "source": [
    "# Define target and features\n",
    "target = df['action_taken']\n",
    "features = df.drop(['action_taken'], axis=1)"
   ]
  },
  {
   "cell_type": "code",
   "execution_count": null,
   "metadata": {},
   "outputs": [],
   "source": [
    "# Split into train/test while maintaining stratification to maintain class balance\n",
    "X_train, X_test, y_train, y_test = train_test_split(features, target, test_size=0.30, random_state=42)\n",
    "\n",
    "print('Number of data points in train data:', X_train.shape)\n",
    "print('Number of data points in test data:', X_test.shape)"
   ]
  },
  {
   "cell_type": "markdown",
   "metadata": {},
   "source": [
    "#### SMOTE Data Sampling \n",
    "A problem with imbalanced classification is that there are too few examples of the minority class for a model to effectively learn the decision boundary.\n",
    "\n",
    "One way to solve this problem is to oversample the examples in the minority class. This can be achieved by simply duplicating examples from the minority class in the training dataset prior to fitting a model. This can balance the class distribution but does not provide any additional information to the model.\n",
    "\n",
    "An improvement on duplicating examples from the minority class is to synthesize new examples from the minority class. This is a type of data augmentation for tabular data and can be very effective."
   ]
  },
  {
   "cell_type": "code",
   "execution_count": null,
   "metadata": {},
   "outputs": [],
   "source": [
    "sm = SMOTE(random_state=42)\n",
    "X_res, y_res = sm.fit_resample(X_train, y_train)"
   ]
  },
  {
   "cell_type": "markdown",
   "metadata": {},
   "source": [
    "# 7. Create and Compare ML Classification Models"
   ]
  },
  {
   "cell_type": "markdown",
   "metadata": {},
   "source": [
    "### XGBoost Model Grid Search\n",
    "Create a XGBoost model with the best performing parameters from a grid search to classify individuals who are approved for a mortgage."
   ]
  },
  {
   "cell_type": "code",
   "execution_count": null,
   "metadata": {},
   "outputs": [],
   "source": [
    "# # Comment out when XGBoost params have been identified\n",
    "# # Create a XGBoost classifier \n",
    "# xgb_clf=xgb.XGBClassifier()\n",
    "\n",
    "# # Define param grid to use random reach on \n",
    "# param_grid = {\n",
    "#     'silent': [False],\n",
    "#     'max_depth': [6, 10, 15, 20],\n",
    "#     'learning_rate': [0.001, 0.01, 0.1, 0.2, 0.3], \n",
    "#     'subsample': [0.6, 0.7, 0.8, 0.9, 1.0],\n",
    "#     'colsample_bytree': [0.4, 0.5, 0.6, 0.7, 0.8, 0.9, 1.0],\n",
    "#     'colsample_bylevel': [0.4, 0.5, 0.6, 0.7, 0.8, 0.9, 1.0],\n",
    "#     'min_child_weight': [0.5, 1.0, 3.0, 5.0, 7.0, 10.0],\n",
    "#     'gamma': [0, 0.25, 0.5, 1.0],\n",
    "#     'reg_lambda': [0.1, 1.0, 5.0, 10.0, 50.0, 100.0],\n",
    "#     'reg_alpha': [0.1, 1.0, 5.0, 10.0, 50.0, 100.0],\n",
    "#     'n_estimators': [100, 200, 400, 500, 1000],\n",
    "#     'objective': ['binary:logistic']\n",
    "# }\n",
    "\n",
    "# fit_params = {'eval_metric': 'logloss',\n",
    "#              'early_stopping_rounds': 10,\n",
    "#              'eval_set':[(X_test, y_test)]}\n",
    "\n",
    "# rs_clf = RandomizedSearchCV(xgb_clf, param_grid, n_iter = 20,\n",
    "#                            n_jobs=-1, verbose=2, cv=3,\n",
    "#                            scoring='neg_log_loss', refit=False, random_state=42)\n",
    "\n",
    "# print(\"Randomized Search\")\n",
    "# rs_clf.fit(X_train, y_train, **fit_params)\n",
    "# print('Randomized Search Complete')\n",
    "\n",
    "# best_score = rs_clf.best_score_\n",
    "# best_params = rs_clf.best_params_\n",
    "# print(\"Best Score: {}\".format(best_score))\n",
    "# print(\"Best Params: \")\n",
    "\n",
    "# for param_name in sorted(best_params.keys()):\n",
    "#     print('%s: %r' % (param_name, best_params[param_name]))"
   ]
  },
  {
   "cell_type": "markdown",
   "metadata": {},
   "source": [
    "### XGBoost Model\n",
    "Apply the optimal hyperparameters to train the XGBoost classifier to classify individuals who are approved of a mortgage loan. Predict on the test set. "
   ]
  },
  {
   "cell_type": "code",
   "execution_count": null,
   "metadata": {},
   "outputs": [],
   "source": [
    "# Fit final model with best params\n",
    "x_clf = XGBClassifier(colsample_bylevel= 0.5, colsample_bytree= 1.0, gamma= 0.0, learning_rate= 0.1, max_depth= 10, \n",
    "                      min_child_weight= 0.5, n_estimators= 200, objective= 'binary:logistic', reg_alpha= 0.1, \n",
    "                      reg_lambda= 1.0, silent= False, subsample= 1.0, eval_metrics='logloss',random_state=42)\n",
    "\n",
    "x_clf.fit(X_train,y_train)\n",
    "\n",
    "# Predict using test set\n",
    "x_pred = x_clf.predict(X_test)\n",
    "x_prob_pred = x_clf.predict_proba(X_test)[:,1]"
   ]
  },
  {
   "cell_type": "markdown",
   "metadata": {},
   "source": [
    "### SMOTE XGBoost Model\n",
    "Apply the optimal hyperparameters to train the XGBoost classifier to classify individuals who are approved of a mortgage loan. Predict on the test set. "
   ]
  },
  {
   "cell_type": "code",
   "execution_count": null,
   "metadata": {},
   "outputs": [],
   "source": [
    "# Fit final model with best params\n",
    "res_x_clf = XGBClassifier(colsample_bylevel= 0.5, colsample_bytree= 1.0, gamma= 0.0, learning_rate= 0.1, max_depth= 10, \n",
    "                      min_child_weight= 0.5, n_estimators= 200, objective= 'binary:logistic', reg_alpha= 0.1, \n",
    "                      reg_lambda= 1.0, silent= False, subsample= 1.0, eval_metrics='logloss',random_state=42)\n",
    "\n",
    "res_x_clf.fit(X_res,y_res)\n",
    "\n",
    "# Predict using test set\n",
    "res_x_pred = res_x_clf.predict(X_test)\n",
    "res_x_prob_pred = res_x_clf.predict_proba(X_test)[:,1]"
   ]
  },
  {
   "cell_type": "markdown",
   "metadata": {},
   "source": [
    "### Random Forest Model\n",
    "Create a Random Forest to classify individuals who are approved of a mortgage loan."
   ]
  },
  {
   "cell_type": "code",
   "execution_count": null,
   "metadata": {},
   "outputs": [],
   "source": [
    "# Fit final model with best params\n",
    "rf_clf = RandomForestClassifier(random_state=42)\n",
    "rf_clf.fit(X_train,y_train)\n",
    "\n",
    "# Predict using test set\n",
    "rf_pred = rf_clf.predict(X_test)\n",
    "rf_prob_pred = rf_clf.predict_proba(X_test)[:,1]"
   ]
  },
  {
   "cell_type": "markdown",
   "metadata": {},
   "source": [
    "### SMOTE Random Forest Model\n",
    "Create a Random Forest to classify individuals who are approved of a mortgage loan."
   ]
  },
  {
   "cell_type": "code",
   "execution_count": null,
   "metadata": {},
   "outputs": [],
   "source": [
    "# Fit final model with best params\n",
    "res_rf_clf = RandomForestClassifier(random_state=42)\n",
    "res_rf_clf.fit(X_res,y_res)\n",
    "\n",
    "# Predict using test set\n",
    "res_rf_pred = res_rf_clf.predict(X_test)\n",
    "res_rf_prob_pred = res_rf_clf.predict_proba(X_test)[:,1]"
   ]
  },
  {
   "cell_type": "markdown",
   "metadata": {},
   "source": [
    "### Logistic Regression Model\n",
    "Create a Logistic Regression to classify individuals who are approved of a mortgage loan."
   ]
  },
  {
   "cell_type": "code",
   "execution_count": null,
   "metadata": {},
   "outputs": [],
   "source": [
    "# Fit final model with best params\n",
    "lr_clf = LogisticRegression(random_state=42)\n",
    "lr_clf.fit(X_train,y_train)\n",
    "\n",
    "# Predict using test set\n",
    "lr_pred = lr_clf.predict(X_test)\n",
    "lr_prob_pred = lr_clf.predict_proba(X_test)[:,1]"
   ]
  },
  {
   "cell_type": "markdown",
   "metadata": {},
   "source": [
    "### SMOTE Logistic Regression Model\n",
    "Create a Logistic Regression to classify individuals who are approved of a mortgage loan."
   ]
  },
  {
   "cell_type": "code",
   "execution_count": null,
   "metadata": {},
   "outputs": [],
   "source": [
    "# Fit final model with best params\n",
    "res_lr_clf = LogisticRegression(random_state=42)\n",
    "res_lr_clf.fit(X_res,y_res)\n",
    "\n",
    "# Predict using test set\n",
    "res_lr_pred = res_lr_clf.predict(X_test)\n",
    "res_lr_prob_pred = res_lr_clf.predict_proba(X_test)[:,1]"
   ]
  },
  {
   "attachments": {
    "image.png": {
     "image/png": "[encoded data removed]"
    }
   },
   "cell_type": "markdown",
   "metadata": {},
   "source": [
    "# 8. Model Evaluation Metrics\n",
    "\n",
    "### Accuracy\n",
    "Classification Accuracy is what we usually mean, when we use the term accuracy. It is the ratio of number of correct predictions to the total number of input samples.\n",
    "![image.png](attachment:image.png) \n",
    "\n",
    "### Sensitivity\n",
    "True Positive Rate is defined as TP/ (FN+TP). True Positive Rate corresponds to the proportion of positive data points that are correctly considered as positive, with respect to all positive data points.\n",
    "![image.png](attachment:image.png)\n",
    "\n",
    "### Specificity \n",
    "True Negative Rate is defined as TN / (FP+TN). False Positive Rate corresponds to the proportion of negative data points that are correctly considered as negative, with respect to all negative data points.\n",
    "![image.png](attachment:image.png)\n",
    "\n",
    "### Precision \n",
    "It is the number of correct positive results divided by the number of positive results predicted by the classifier.\n",
    "![image.png](attachment:image.png)\n",
    "\n",
    "### F1 Score\n",
    "F1 Score is the Harmonic Mean between precision and recall. F1 Score tries to find the balance between precision and recall. It tells you how precise your classifier is (how many instances it classifies correctly), as well as how robust it is (it does not miss a significant number of instances). High precision but lower recall, gives you an extremely accurate, but it then misses a large number of instances that are difficult to classify. \n",
    "![image.png](attachment:image.png)\n"
   ]
  },
  {
   "cell_type": "code",
   "execution_count": null,
   "metadata": {},
   "outputs": [],
   "source": [
    "# Create classification model eval method\n",
    "def model_eval(y, prediction): \n",
    "    \"\"\"\n",
    "    Method to calculate model evaluation metrics to measure the effectiveness of the model. \n",
    "    \n",
    "    :param y (numpy array): Train or test target values for ML model\n",
    "    :param prediction (numpy array): Predictions from the ML model\n",
    "    \"\"\"\n",
    "    accuracy = round(metrics.accuracy_score(y, prediction), 4)\n",
    "    recall_sensitivity = round(metrics.recall_score(y, prediction), 4)\n",
    "    recall_specificity = round(metrics.recall_score(y, prediction, pos_label=0), 4)\n",
    "    precision_positive = round(metrics.precision_score(y, prediction), 4)\n",
    "    precision_negative = round(metrics.precision_score(y, prediction, pos_label=0), 4)\n",
    "    positive_f1_score = round(metrics.f1_score(y, prediction), 4)\n",
    "    negative_f1_score = round(metrics.f1_score(y, prediction, pos_label=0), 4)\n",
    "    \n",
    "    model_eval_metrics = {'Accuracy': accuracy,\n",
    "              'Sensitivity': recall_sensitivity,\n",
    "              'Specificity': recall_specificity,\n",
    "              'Precision Positive': precision_positive,\n",
    "              'Precision Negative': precision_negative,\n",
    "              'F1 Score Positive': positive_f1_score,\n",
    "              'F1 Score Negative': negative_f1_score}\n",
    "    \n",
    "    return(model_eval_metrics)\n",
    "\n",
    "# Call model evaluation metrics\n",
    "x_results = model_eval(y_test, x_pred)\n",
    "rf_results = model_eval(y_test, rf_pred)\n",
    "lr_results = model_eval(y_test, lr_pred)\n",
    "smote_x_results = model_eval(y_test, res_x_pred)\n",
    "smote_rf_results = model_eval(y_test, res_rf_pred)\n",
    "smote_lr_results = model_eval(y_test, res_lr_pred)\n",
    "\n",
    "# Visualize model evaluation metrics in a heatmap \n",
    "xgbmodel = x_results\n",
    "rfmodel = rf_results\n",
    "lrmodel = lr_results\n",
    "smote_xgbmodel = smote_x_results\n",
    "smote_rfmodel = smote_rf_results\n",
    "smote_lrmodel = smote_lr_results\n",
    "\n",
    "viz = pd.DataFrame.from_dict(xgbmodel, orient='index', columns=['XGBoost'])\n",
    "viz['Random Forest'] = pd.DataFrame.from_dict(rfmodel, orient='index', columns=['Random Forest'])\n",
    "viz['Logistic Regression'] = pd.DataFrame.from_dict(lrmodel, orient='index', columns=['Logistic Regression'])\n",
    "viz['SMOTE XGBoost'] = pd.DataFrame.from_dict(smote_xgbmodel, orient='index', columns=['SMOTE XGBoost'])\n",
    "viz['SMOTE Random Forest'] = pd.DataFrame.from_dict(smote_rfmodel, orient='index', columns=['SMOTE Random Forest'])\n",
    "viz['SMOTE Logistic Regression'] = pd.DataFrame.from_dict(smote_lrmodel, orient='index', columns=['SMOTE Logistic Regression'])\n",
    "\n",
    "viz.head(10)\n",
    "ax = sns.heatmap(viz,\n",
    "                cmap = 'BuPu',\n",
    "                linewidths = .5,\n",
    "                annot = True)"
   ]
  },
  {
   "cell_type": "markdown",
   "metadata": {},
   "source": [
    "## 8.1 Model Evaluation Explanation\n",
    "\n",
    "*Update analysis below*\n",
    "\n",
    "#### SMOTE Oversampling vs No Oversampling\n",
    "Class imbalance is a common issue and if not handled can have a telling impact on the model performance and is especially critical for the minority class. As we can see from the results, the models that used a SMOTE oversampling technique had better accuracy for the minority class. However, overall the SMOTE models were less performant in all other model evaluation scores. For the purpose of this project, I will be selecting a model that uses the SMOTE oversampling technique because I'm interested in explaining the minority class. \n",
    "\n",
    "#### Logistic Regression vs Random Forest vs XGBoost\n",
    "The logistic regression model performs less accurately and efficiently than the XGBoost and random forest models. The XGBoost and random forest models are highly complex algorithms that could potentially be complicated to understand or explain how the alogrithms make decisions. The logistic regression is less computationally heavy and can be explained better than the more complicated algorithms like xgboost and random forest. For the purpose of this project, I will be selecting the most performant model because I'm interested in explaining the accuracy overall. \n",
    "\n",
    "#### Final Model Selection\n",
    "For the remaining analysis I will be using the <b>SMOTE XGBoost model</b>. It is the most performant of the models that used an oversampling technique. There are ultimately more factors when selecting a final model and I'll be exploring the fairness of the XGBoost model.  "
   ]
  },
  {
   "cell_type": "markdown",
   "metadata": {},
   "source": [
    "# 9. Fairness Evaluation and Bias Detection\n",
    "Fairness Detection Documentation: https://aif360.readthedocs.io/en/latest/modules/sklearn.html#module-aif360.sklearn.metrics \n",
    "\n",
    "### Individual vs. Group Fairness, or Both\n",
    "Group fairness, in its broadest sense, partitions a population into groups defined by protected attributes and seeks for some statistical measure to be equal across groups.  Individual fairness, in its broadest sense, seeks for similar individuals to be treated similarly.  If the application is concerned with individual fairness, then the metrics in the SampleDistortionMetric class should be used.  If the application is concerned with group fairness, then the metrics in the DatasetMetric class (and in its children classes such as the BinaryLabelDatasetMetric class) as well as the ClassificationMetric class (except the ones noted in the next sentence) should be used.  If the application is concerned with both individual and group fairness, and requires the use of a single metric, then the generalized entropy index and its specializations to Theil index and coefficient of variation in the ClassificationMetric class should be used.  Of course, multiple metrics, including ones from both individual and group fairness can be examined simultaneously."
   ]
  },
  {
   "cell_type": "markdown",
   "metadata": {},
   "source": [
    "### Convert Test Data into a BinaryLabelDataset to Calculate ClassificationMetric Methods\n",
    "Binary label datasets are the base class for all structured datasets with binary labels in the AIF360 library. Data must be converted to the BLD format in order to utilize the packages features and metrics. "
   ]
  },
  {
   "cell_type": "code",
   "execution_count": null,
   "metadata": {},
   "outputs": [],
   "source": [
    "# Construct the test dataframe \n",
    "test_df = pd.DataFrame(X_test)\n",
    "test_df['action_taken'] = y_test\n",
    "\n",
    "# Convert the test dataframe into a BinaryLabelDataset\n",
    "bld_df = BinaryLabelDataset(favorable_label=1,\n",
    "                            unfavorable_label=0,\n",
    "                            df=test_df,\n",
    "                            label_names=['action_taken'],\n",
    "                            protected_attribute_names=['derived_race','derived_sex','derived_ethnicity'])\n",
    "\n",
    "# Copy the test BinaryLabelDataset format and add the logistic regression predictions \n",
    "bld_df_pred = bld_df.copy()\n",
    "bld_df_pred.labels = res_x_pred\n",
    "\n",
    "# Initialize the unprivileged and privileged groups\n",
    "unprivileged_groups = [{'derived_race':3}] # African American \n",
    "privileged_groups = [{'derived_race':7}] # Caucasian  \n",
    "\n",
    "# Create the ClassificationMetric that will be used in fairness assessment \n",
    "clf_metric = ClassificationMetric(bld_df,\n",
    "                                  bld_df_pred,\n",
    "                                  unprivileged_groups,\n",
    "                                  privileged_groups)"
   ]
  },
  {
   "cell_type": "markdown",
   "metadata": {},
   "source": [
    "### HUD Fairness Assessment\n",
    "In this section, I'll be conducting a fairness assessment. The goal is to detect bias and will be focussing on protected classes like race, sex, and other factors that could be proxies to protected attributes.\n",
    "\n",
    "The first step in creating trustworthy AI is bias identification. Once algorithmic bias has been detected, data scientists can then take steps towards mitigating bias. With the help of open-source libraries, there are fairness measures available for evaluating models for unintentional bias. Below is the bias detection function that will be used to conduct the fairness assessment. It will also be used in the bias mitigation step to identify changes in bias. "
   ]
  },
  {
   "cell_type": "code",
   "execution_count": null,
   "metadata": {},
   "outputs": [],
   "source": [
    "def fairness_bias_detection(clf_metric):    \n",
    "    metrics = {\"Accuracy\":clf_metric.accuracy(),\n",
    "               \"Disparate Impact\":clf_metric.disparate_impact(),\n",
    "               \"Statistical Parity Difference\":clf_metric.statistical_parity_difference(),\n",
    "               \"Equal Opportunity Difference\":clf_metric.equal_opportunity_difference(),\n",
    "               \"Average Odds Difference\":clf_metric.average_odds_difference(),\n",
    "               \"Theil Index\":clf_metric.theil_index(),\n",
    "               \"False Positive Rate\":clf_metric.false_positive_rate(),\n",
    "               \"False Negative Rate\":clf_metric.false_negative_rate(),\n",
    "               \"False Omission Rate\":clf_metric.false_omission_rate(),\n",
    "               \"False Discovery Rate\":clf_metric.false_discovery_rate(),\n",
    "               \"Error Rate\":clf_metric.error_rate(),\n",
    "               \"Differential Fairness Bias Amplification\":clf_metric.differential_fairness_bias_amplification()}\n",
    "    \n",
    "    return(metrics)"
   ]
  },
  {
   "cell_type": "code",
   "execution_count": null,
   "metadata": {},
   "outputs": [],
   "source": [
    "# Call fairness assessment metrics \n",
    "fair_assessment = fairness_bias_detection(clf_metric)"
   ]
  },
  {
   "cell_type": "markdown",
   "metadata": {},
   "source": [
    "### Visualize Fairness Assessment: Bias Detection Metrics "
   ]
  },
  {
   "cell_type": "code",
   "execution_count": null,
   "metadata": {},
   "outputs": [],
   "source": [
    "fair_viz = pd.DataFrame.from_dict(fair_assessment, orient='index', columns=['SMOTE XGBoost Fairness Assessment'])\n",
    "fair_viz = fair_viz.iloc[0:12]\n",
    "fair_viz['SMOTE XGBoost Fairness Assessment'] = fair_viz['SMOTE XGBoost Fairness Assessment'].astype(float)\n",
    "fair_viz.head(15)\n",
    "\n",
    "fair_results = sns.heatmap(fair_viz,\n",
    "                           cmap=\"BuPu\",\n",
    "                           linewidths=.5,\n",
    "                           annot=True)"
   ]
  },
  {
   "attachments": {
    "image.png": {
     "image/png": "[encoded data removed]"
    }
   },
   "cell_type": "markdown",
   "metadata": {},
   "source": [
    "## Deep Dive into the Fairness Assessment: Group Fairness Metrics\n",
    "\n",
    "### Disparate Impact \n",
    "\n",
    "Legal theory that states a practice is considered illegal discrimination if it has a “disproportionately adverse” effect on members of a protected group. “disproportionately adverse” is usually defined using the 80% Rule, otherwise known as the four fifths rule.\n",
    "\n",
    "Disparate impact and the four fifths rule are directly related. Disparate impact is used in legal proceedings and can be typically found in law affecting employment policies. It enables challenges to policies that place a disproportionate burden on members of a protected class. It’s a way to prove employment discrimination and can be used to prove discrimination in other scenarios. The four fifths rule, also known as the 80% rule, is a guideline used to prove adverse effect on marginalized groups. The two bias detection techniques are typically used together to prove discrimination against protected groups.\n",
    "\n",
    "![image.png](attachment:image.png)"
   ]
  },
  {
   "cell_type": "code",
   "execution_count": null,
   "metadata": {},
   "outputs": [],
   "source": [
    "clf_metric.disparate_impact()"
   ]
  },
  {
   "cell_type": "markdown",
   "metadata": {},
   "source": [
    "### Four Fifths Rule\n",
    "The Four-Fifths rule states that if the selection rate for a certain group is less than 80 percent of that of the group with the highest selection rate, there is adverse impact on that group. "
   ]
  },
  {
   "cell_type": "code",
   "execution_count": null,
   "metadata": {},
   "outputs": [],
   "source": [
    "# create a dataframe for bias detection   \n",
    "bias_detect_df = test_df\n",
    "bias_detect_df['pred'] = res_x_pred"
   ]
  },
  {
   "cell_type": "markdown",
   "metadata": {},
   "source": [
    "#### Derived Race\n",
    "- 0: Race not Available\n",
    "- 1: \n",
    "- 2: Asian ?\n",
    "- 3: Black or African American\n",
    "- 4: Joint\n",
    "- 5: \n",
    "- 6: Race not Available ?\n",
    "- 7: White\n",
    "\n",
    "*Add analysis here*"
   ]
  },
  {
   "cell_type": "code",
   "execution_count": null,
   "metadata": {},
   "outputs": [],
   "source": [
    "# define race sub categories\n",
    "race_na1 = bias_detect_df[bias_detect_df['derived_race']==0]\n",
    "unknown1 = bias_detect_df[bias_detect_df['derived_race']==1]\n",
    "asian = bias_detect_df[bias_detect_df['derived_race']==2]\n",
    "african_american = bias_detect_df[bias_detect_df['derived_race']==3]\n",
    "joint = bias_detect_df[bias_detect_df['derived_race']==4]\n",
    "unknown2 = bias_detect_df[bias_detect_df['derived_race']==5]\n",
    "race_na2 = bias_detect_df[bias_detect_df['derived_race']==6]\n",
    "caucasian = bias_detect_df[bias_detect_df['derived_race']==7]\n",
    "\n",
    "# calculate race sub category rates\n",
    "rate_race_na1 = sum(race_na1['pred'])/len(race_na1)\n",
    "rate_unknown1 = sum(unknown1['pred'])/len(unknown1)\n",
    "rate_asian = sum(asian['pred'])/len(asian)\n",
    "rate_african_american = sum(african_american['pred'])/len(african_american)\n",
    "rate_joint = sum(joint['pred'])/len(joint)\n",
    "rate_unknown2 = sum(unknown2['pred'])/len(unknown2)\n",
    "rate_race_na2 = sum(race_na2['pred'])/len(race_na2)\n",
    "rate_caucasian = sum(caucasian['pred'])/len(caucasian)\n",
    "\n",
    "# print(rate_race_na1, rate_unknown1, rate_asian, rate_african_american, rate_joint, rate_unknown2, rate_race_na2, rate_caucasian)\n",
    "\n",
    "# calculate race sub category ratio \n",
    "ratio_african_american = rate_african_american/rate_caucasian\n",
    "ratio_race_na1 = rate_race_na1/rate_caucasian\n",
    "ratio_unknown1 = rate_unknown1/rate_caucasian\n",
    "ratio_asian = rate_asian/rate_caucasian\n",
    "ratio_joint = rate_joint/rate_caucasian\n",
    "ratio_unknown2 = rate_unknown2/rate_caucasian\n",
    "ratio_race_na2 = rate_race_na2/rate_caucasian\n",
    "\n",
    "# plot four fifths visualization for race sub categories\n",
    "fig = plt.figure()\n",
    "race_four_fifth = fig.add_axes([0,0,1,1])\n",
    "classes = ['Caucasian','African American','Race NA1','Unknown1', 'Asian', 'Joint', 'Unknown2', 'Race NA2']\n",
    "rates = [1, ratio_african_american, ratio_race_na1, ratio_unknown1, ratio_asian, ratio_joint, ratio_unknown2, ratio_race_na2]\n",
    "race_four_fifth.bar(classes,rates,color=sns.color_palette(\"husl\", 8))\n",
    "race_four_fifth.set_ylabel('Relative Positive Classification Rates')\n",
    "race_four_fifth.axhline(.8, ls='--', c='red')\n",
    "plt.show()"
   ]
  },
  {
   "cell_type": "markdown",
   "metadata": {},
   "source": [
    "#### Derived Sex\n",
    "- 0: Female\n",
    "- 1: Joint\n",
    "- 2: Male\n",
    "- 3: Sex not Available \n",
    "\n",
    "*Add analysis here*"
   ]
  },
  {
   "cell_type": "code",
   "execution_count": null,
   "metadata": {},
   "outputs": [],
   "source": [
    "# define sex sub categories\n",
    "female = bias_detect_df[bias_detect_df['derived_sex']==0]\n",
    "joint = bias_detect_df[bias_detect_df['derived_sex']==1]\n",
    "male = bias_detect_df[bias_detect_df['derived_sex']==2]\n",
    "sex_na = bias_detect_df[bias_detect_df['derived_sex']==3]\n",
    "\n",
    "# calculate sex sub category rates\n",
    "rate_female = sum(female['pred'])/len(female)\n",
    "rate_male = sum(male['pred'])/len(male)\n",
    "rate_joint = sum(joint['pred'])/len(joint)\n",
    "rate_sex_na = sum(sex_na['pred'])/len(sex_na)\n",
    "\n",
    "# print(rate_female,rate_male,rate_joint,rate_sex_na)    \n",
    "\n",
    "# calculate the sex sub category ratio\n",
    "ratio_female = rate_female/rate_sex_na\n",
    "ratio_male = rate_male/rate_sex_na\n",
    "ratio_joint = rate_joint/rate_sex_na\n",
    "\n",
    "# plot four fifths visualization for sex sub categories\n",
    "fig = plt.figure()\n",
    "sex_four_fifth = fig.add_axes([0,0,1,1])\n",
    "classes = ['Sex NA', 'Female', 'Male', 'Joint']\n",
    "rates = [1, ratio_female, ratio_male, ratio_joint]\n",
    "sex_four_fifth.bar(classes,rates,color=sns.color_palette(\"husl\", 8))\n",
    "sex_four_fifth.set_ylabel('Relative Positive Classification Rates')\n",
    "sex_four_fifth.axhline(.8, ls='--', c='red')\n",
    "plt.show()"
   ]
  },
  {
   "cell_type": "markdown",
   "metadata": {},
   "source": [
    "#### Derived Age\n",
    "- 0: 25-34\n",
    "- 1: 35-44?\n",
    "- 2: 45-54?\n",
    "- 3: 55-64\n",
    "- 4: 65-74\n",
    "- 5: <25?\n",
    "- 6: >74\n",
    "\n",
    "*Add analysis here*"
   ]
  },
  {
   "cell_type": "code",
   "execution_count": null,
   "metadata": {},
   "outputs": [],
   "source": [
    "# define age sub categories\n",
    "age_25_34 = bias_detect_df[bias_detect_df['applicant_age']==0]\n",
    "age_35_44 = bias_detect_df[bias_detect_df['applicant_age']==1]\n",
    "age_45_54 = bias_detect_df[bias_detect_df['applicant_age']==2]\n",
    "age_55_64 = bias_detect_df[bias_detect_df['applicant_age']==3]\n",
    "age_65_74 = bias_detect_df[bias_detect_df['applicant_age']==4]\n",
    "age_young_25 = bias_detect_df[bias_detect_df['applicant_age']==5]\n",
    "age_old_74 = bias_detect_df[bias_detect_df['applicant_age']==6]\n",
    "\n",
    "\n",
    "# calculate age sub category rates\n",
    "rate_age_25_34 = sum(age_25_34['pred'])/len(age_25_34)\n",
    "rate_age_35_44 = sum(age_35_44['pred'])/len(age_35_44)\n",
    "rate_age_45_54 = sum(age_45_54['pred'])/len(age_45_54)\n",
    "rate_age_55_64 = sum(age_55_64['pred'])/len(age_55_64)\n",
    "rate_age_65_74 = sum(age_65_74['pred'])/len(age_65_74)\n",
    "rate_age_young_25 = sum(age_young_25['pred'])/len(age_young_25)\n",
    "rate_age_old_74 = sum(age_old_74['pred'])/len(age_old_74)\n",
    "\n",
    "# print(rate_age_25_34, rate_age_35_44, rate_age_45_54, rate_age_55_64, rate_age_65_74, rate_age_young_25, rate_age_old_74)    \n",
    "\n",
    "# calculate age sub category ratio \n",
    "ratio_age_25_34 = rate_age_25_34/rate_age_young_25\n",
    "ratio_age_35_44 = rate_age_35_44/rate_age_young_25\n",
    "ratio_age_45_54 = rate_age_45_54/rate_age_young_25\n",
    "ratio_age_55_64 = rate_age_55_64/rate_age_young_25\n",
    "ratio_age_65_74 = rate_age_65_74/rate_age_young_25\n",
    "ratio_age_old_74 = rate_age_old_74/rate_age_young_25\n",
    "\n",
    "# plot four fifths visualization for age sub categories\n",
    "fig = plt.figure()\n",
    "age_four_fifth = fig.add_axes([0,0,1,1])\n",
    "classes = ['< 25', '25-34', '35-44', '45-54', '55-64', '65-74', '> 74']\n",
    "rates = [1, ratio_age_25_34, ratio_age_35_44, ratio_age_45_54, ratio_age_55_64, ratio_age_65_74, ratio_age_old_74]\n",
    "age_four_fifth.bar(classes,rates,color=sns.color_palette(\"husl\", 8))\n",
    "age_four_fifth.set_ylabel('Relative Positive Classification Rates')\n",
    "age_four_fifth.axhline(.8, ls='--', c='red')\n",
    "plt.show()"
   ]
  },
  {
   "cell_type": "markdown",
   "metadata": {},
   "source": [
    "#### Debt to Income Ratio \n",
    "- 0: 20-30\n",
    "- 1: 30-36\n",
    "- 2: 36-39\n",
    "- 3: 40-45\n",
    "- 4: 46-49\n",
    "- 5: 50-60\n",
    "\n",
    "*Add analysis here*"
   ]
  },
  {
   "cell_type": "code",
   "execution_count": null,
   "metadata": {},
   "outputs": [],
   "source": [
    "# define debt to income ratio sub categories\n",
    "dir_20_30 = bias_detect_df[bias_detect_df['debt_to_income_ratio']==0]\n",
    "dir_30_36 = bias_detect_df[bias_detect_df['debt_to_income_ratio']==1]\n",
    "dir_36_39 = bias_detect_df[bias_detect_df['debt_to_income_ratio']==2]\n",
    "dir_40_45 = bias_detect_df[bias_detect_df['debt_to_income_ratio']==3]\n",
    "dir_46_49 = bias_detect_df[bias_detect_df['debt_to_income_ratio']==4]\n",
    "dir_50_60 = bias_detect_df[bias_detect_df['debt_to_income_ratio']==5]\n",
    "\n",
    "# calculate debt to income ratio sub category rates\n",
    "rate_dir_20_30 = sum(dir_20_30['pred'])/len(dir_20_30)\n",
    "rate_dir_30_36 = sum(dir_30_36['pred'])/len(dir_30_36)\n",
    "rate_dir_36_39 = sum(dir_36_39['pred'])/len(dir_36_39)\n",
    "rate_dir_40_45 = sum(dir_40_45['pred'])/len(dir_40_45)\n",
    "rate_dir_46_49 = sum(dir_46_49['pred'])/len(dir_46_49)\n",
    "rate_dir_50_60 = sum(dir_50_60['pred'])/len(dir_50_60)\n",
    "\n",
    "# print(rate_dir_20_30, rate_dir_30_36, rate_dir_36_39, rate_dir_40_45, rate_dir_46_49, rate_dir_50_60)    \n",
    "\n",
    "# calculate debt to income ratio sub category ratio \n",
    "ratio_dir_20_30 = rate_dir_20_30/rate_dir_30_36\n",
    "ratio_dir_36_39 = rate_dir_36_39/rate_dir_30_36\n",
    "ratio_dir_40_45 = rate_dir_40_45/rate_dir_30_36\n",
    "ratio_dir_46_49 = rate_dir_46_49/rate_dir_30_36\n",
    "ratio_dir_50_60 = rate_dir_50_60/rate_dir_30_36\n",
    "\n",
    "# plot four fifths visualization for debt to income ratio sub categories\n",
    "fig = plt.figure()\n",
    "age_four_fifth = fig.add_axes([0,0,1,1])\n",
    "classes = ['30-36', '20-30', '36-39', '40-45', '46-49', '50-60']\n",
    "rates = [1, ratio_dir_20_30, ratio_dir_36_39, ratio_dir_40_45, ratio_dir_46_49, ratio_dir_50_60]\n",
    "age_four_fifth.bar(classes,rates,color=sns.color_palette(\"husl\", 8))\n",
    "age_four_fifth.set_ylabel('Relative Positive Classification Rates')\n",
    "age_four_fifth.axhline(.8, ls='--', c='red')\n",
    "plt.show()"
   ]
  },
  {
   "attachments": {
    "image.png": {
     "image/png": "[encoded data removed]"
    }
   },
   "cell_type": "markdown",
   "metadata": {},
   "source": [
    "### Statistical Parity Difference\n",
    "The mathematical equivalence of the disparate impact principle at its most extreme version (allowing no adverse effect on members of the protected group) for binary classification tasks is the Statistical Parity condition: it essentially equalizes the outcomes across the protected and non-protected groups.\n",
    "\n",
    "Statistical parity suggests that a predictor is unbiased if the prediction is independent of the protected attribute. Deviations from statistical parity are measured by the statistical parity difference which is what we will be using to identify statistical parity.\n",
    "\n",
    "![image.png](attachment:image.png)\n"
   ]
  },
  {
   "cell_type": "code",
   "execution_count": null,
   "metadata": {},
   "outputs": [],
   "source": [
    "clf_metric.statistical_parity_difference()"
   ]
  },
  {
   "cell_type": "markdown",
   "metadata": {},
   "source": [
    "### Balance\n",
    "The balance test examine whether the average score received by individuals in positive and negative instances are similar regardless of their protected attributes."
   ]
  },
  {
   "cell_type": "code",
   "execution_count": null,
   "metadata": {},
   "outputs": [],
   "source": [
    "# Add prediction probability to dataframe for balance calculation \n",
    "bias_detect_df['pred_prob'] = res_x_prob_pred\n",
    "bias_detect_df.head()"
   ]
  },
  {
   "cell_type": "markdown",
   "metadata": {},
   "source": [
    "#### Derived Ethnicity\n",
    "- 0: Ethnicity Not Available\n",
    "- 1: Hispanic or Latino \n",
    "- 2: Joint\n",
    "- 3: Not Hispanic or Latino\n",
    "\n",
    "The model tends to assign a higher probability of mortgage lending approvals to individuals whose ethnicity is defined as not hispanic or latino."
   ]
  },
  {
   "cell_type": "code",
   "execution_count": null,
   "metadata": {},
   "outputs": [],
   "source": [
    "# Calculate the average prediction probability for each prediction and ethnicity \n",
    "avg_pred_prob = bias_detect_df.groupby(['derived_ethnicity','pred'])['pred_prob'].mean()\n",
    "ethnicity_balance = pd.DataFrame(avg_pred_prob)\n",
    "ethnicity_balance = ethnicity_balance.reset_index()\n",
    "\n",
    "# Convert race from numeric to string\n",
    "ethnicity_balance.loc[0:1,['derived_ethnicity']] = 'Ethnicity N/A'\n",
    "ethnicity_balance.loc[2:3,['derived_ethnicity']] = 'Hispanic or Latino'\n",
    "ethnicity_balance.loc[4:5,['derived_ethnicity']] = 'Joint'\n",
    "ethnicity_balance.loc[6:7,['derived_ethnicity']] = 'Not Hispanic or Latino'\n",
    "\n",
    "sns.barplot(x='pred',y='pred_prob',hue='derived_ethnicity',data=ethnicity_balance, palette=sns.color_palette(\"husl\", 8)).set_title('Balance of Predictions for Each Ethnicity')"
   ]
  },
  {
   "cell_type": "markdown",
   "metadata": {},
   "source": [
    "#### Derived Race\n",
    "- 0: Race not Available\n",
    "- 1: \n",
    "- 2: Asian ?\n",
    "- 3: Black or African American\n",
    "- 4: Joint\n",
    "- 5: \n",
    "- 6: Race not Available ?\n",
    "- 7: White\n",
    "\n",
    "The model tends to assign a higher probability of mortgage lending approvals to individuals whose race is defined as white."
   ]
  },
  {
   "cell_type": "code",
   "execution_count": null,
   "metadata": {},
   "outputs": [],
   "source": [
    "# Calculate the average prediction probability for each prediction and race \n",
    "avg_pred_prob = bias_detect_df.groupby(['derived_race','pred'])['pred_prob'].mean()\n",
    "race_balance = pd.DataFrame(avg_pred_prob)\n",
    "race_balance = race_balance.reset_index()\n",
    "\n",
    "# Convert sex from numeric to string\n",
    "race_balance.loc[0:1,['derived_race']] = 'Race N/A'\n",
    "race_balance.loc[2:3,['derived_race']] = 'Unknown'\n",
    "race_balance.loc[4:5,['derived_race']] = 'Asian'\n",
    "race_balance.loc[6:7,['derived_race']] = 'Black or African American'\n",
    "race_balance.loc[8:9,['derived_race']] = 'Joint'\n",
    "race_balance.loc[10:11,['derived_race']] = 'Unknown'\n",
    "race_balance.loc[12:13,['derived_race']] = 'Race N/A'\n",
    "race_balance.loc[14:15,['derived_race']] = 'White'\n",
    "\n",
    "sns.barplot(x='pred',y='pred_prob',hue='derived_race',data=race_balance, palette=sns.color_palette(\"husl\", 8)).set_title('Balance of Predictions for Each Race')"
   ]
  },
  {
   "cell_type": "markdown",
   "metadata": {},
   "source": [
    "#### Derived Sex\n",
    "- 0: Female\n",
    "- 1: Joint\n",
    "- 2: Male\n",
    "- 3: Sex not Available\n",
    "\n",
    "The model tends to assign a higher probability of mortgage lending approvals to individuals whose sex is defined as male or unknown."
   ]
  },
  {
   "cell_type": "code",
   "execution_count": null,
   "metadata": {},
   "outputs": [],
   "source": [
    "# Calculate the average prediction probability for each prediction and sex \n",
    "avg_pred_prob = bias_detect_df.groupby(['derived_sex','pred'])['pred_prob'].mean()\n",
    "sex_balance = pd.DataFrame(avg_pred_prob)\n",
    "sex_balance = sex_balance.reset_index()\n",
    "\n",
    "# Convert poverty from numeric to string\n",
    "sex_balance.loc[0:1,['derived_sex']] = 'Female'\n",
    "sex_balance.loc[2:3,['derived_sex']] = 'Joint'\n",
    "sex_balance.loc[4:5,['derived_sex']] = 'Male'\n",
    "sex_balance.loc[6:7,['derived_sex']] = 'Sex Not Available'\n",
    "\n",
    "sns.barplot(x='pred',y='pred_prob',hue='derived_sex',data=sex_balance, palette=sns.color_palette(\"husl\", 8)).set_title('Balance of Predictions for Each Sex')"
   ]
  },
  {
   "cell_type": "markdown",
   "metadata": {},
   "source": [
    "#### Derived Age\n",
    "- 0: 25-34\n",
    "- 1: 35-44?\n",
    "- 2: 45-54?\n",
    "- 3: 55-64\n",
    "- 4: 65-74\n",
    "- 5: <25?\n",
    "- 6: >74\n",
    "\n",
    "The model tends to assign a higher probability of mortgage lending approvals to individuals whose age group is defined as younger than 25 years old."
   ]
  },
  {
   "cell_type": "code",
   "execution_count": null,
   "metadata": {},
   "outputs": [],
   "source": [
    "# Calculate the average prediction probability for each prediction and age \n",
    "avg_pred_prob = bias_detect_df.groupby(['applicant_age','pred'])['pred_prob'].mean()\n",
    "age_balance = pd.DataFrame(avg_pred_prob)\n",
    "age_balance = age_balance.reset_index()\n",
    "\n",
    "# age_balance.head(40)\n",
    "\n",
    "# Convert poverty from numeric to string\n",
    "age_balance.loc[0:1,['applicant_age']] = '25-34'\n",
    "age_balance.loc[2:3,['applicant_age']] = '35-44'\n",
    "age_balance.loc[4:5,['applicant_age']] = '45-54'\n",
    "age_balance.loc[6:7,['applicant_age']] = '55-64'\n",
    "age_balance.loc[8:9,['applicant_age']] = '65-74'\n",
    "age_balance.loc[10:11,['applicant_age']] = '< 25'\n",
    "age_balance.loc[12:13,['applicant_age']] = '> 74'\n",
    "\n",
    "sns.barplot(x='pred',y='pred_prob',hue='applicant_age',data=age_balance, palette=sns.color_palette(\"husl\", 8)).set_title('Balance of Predictions for Each Age Group')"
   ]
  },
  {
   "cell_type": "markdown",
   "metadata": {},
   "source": [
    "#### Debt to Income Ratio \n",
    "- 0: 20-30\n",
    "- 1: 30-36\n",
    "- 2: 36-39\n",
    "- 3: 40-45\n",
    "- 4: 46-49\n",
    "- 5: 50-60\n",
    "\n",
    "The model tends to assign a higher probability of mortgage lending approvals to individuals whose debt to income ratio group is defined as 20% - 30%."
   ]
  },
  {
   "cell_type": "code",
   "execution_count": null,
   "metadata": {},
   "outputs": [],
   "source": [
    "# Calculate the average prediction probability for each prediction and dir group \n",
    "avg_pred_prob = bias_detect_df.groupby(['debt_to_income_ratio','pred'])['pred_prob'].mean()\n",
    "dir_balance = pd.DataFrame(avg_pred_prob)\n",
    "dir_balance = dir_balance.reset_index()\n",
    "\n",
    "# Convert poverty from numeric to string\n",
    "dir_balance.loc[0:1,['debt_to_income_ratio']] = '20-30'\n",
    "dir_balance.loc[2:3,['debt_to_income_ratio']] = '30-36'\n",
    "dir_balance.loc[4:5,['debt_to_income_ratio']] = '36-39'\n",
    "dir_balance.loc[6:7,['debt_to_income_ratio']] = '40-45'\n",
    "dir_balance.loc[8:9,['debt_to_income_ratio']] = '46-49'\n",
    "dir_balance.loc[10:11,['debt_to_income_ratio']] = '50-60'\n",
    "\n",
    "\n",
    "sns.barplot(x='pred',y='pred_prob',hue='debt_to_income_ratio',data=dir_balance, palette=sns.color_palette(\"husl\", 8)).set_title('Balance of Predictions for Each Debt ot Income Ratio Level')"
   ]
  },
  {
   "attachments": {
    "image.png": {
     "image/png": "[encoded data removed]"
    }
   },
   "cell_type": "markdown",
   "metadata": {},
   "source": [
    "### Equal Opportunity Difference\n",
    "Equal opportunity is the idea that all people are given an equitable chance in order to ensure fairness. Algorithms that lack equitable opportunities can exacerbate discrimination in already marginalized groups and can foster social exclusion. Using the difference in recall scores between unprivileged and privileged groups can calculate the equality of how the subclasses of protected attributes are treated by algorithms. \n",
    "\n",
    "![image.png](attachment:image.png)"
   ]
  },
  {
   "cell_type": "code",
   "execution_count": null,
   "metadata": {},
   "outputs": [],
   "source": [
    "clf_metric.equal_opportunity_difference()"
   ]
  },
  {
   "attachments": {
    "image.png": {
     "image/png": "[encoded data removed]"
    }
   },
   "cell_type": "markdown",
   "metadata": {},
   "source": [
    "### Average Odds Difference\n",
    "The average odds difference is the average of difference in false positive rates and true positive rates between unpriviliged and privileged groups. A value of 0 implies both groups have equal benefit. \n",
    "\n",
    "![image.png](attachment:image.png)"
   ]
  },
  {
   "cell_type": "code",
   "execution_count": null,
   "metadata": {},
   "outputs": [],
   "source": [
    "clf_metric.average_odds_difference()"
   ]
  },
  {
   "attachments": {
    "image.png": {
     "image/png": "[encoded data removed]"
    }
   },
   "cell_type": "markdown",
   "metadata": {},
   "source": [
    "## Individual Fairness\n",
    "\n",
    "### Theil Index\n",
    "The Theil index is a statistic used to measure economic inequality. The Theil index measures entropic distance the population is away from the ideal egalitarian state of everyone having the same income. the numerical result is in terms of negative entropy so that a higher number indicates more order that is further away from the ideal of maximum disorder. Forumulating the index to represent negative entropy instead of entropy allows it to be a measure of inequality rather than equality.\n",
    "\n",
    "![image.png](attachment:image.png)"
   ]
  },
  {
   "cell_type": "code",
   "execution_count": null,
   "metadata": {},
   "outputs": [],
   "source": [
    "clf_metric.theil_index()"
   ]
  },
  {
   "attachments": {
    "image.png": {
     "image/png": "[encoded data removed]"
    }
   },
   "cell_type": "markdown",
   "metadata": {},
   "source": [
    "### False Positive Rate\n",
    "The false positive rate is the proportion of the individuals with a known negative condition for which the test result is positive. This rate is sometimes called the fall-out. \n",
    "\n",
    "![image.png](attachment:image.png)"
   ]
  },
  {
   "cell_type": "code",
   "execution_count": null,
   "metadata": {},
   "outputs": [],
   "source": [
    "clf_metric.false_positive_rate()"
   ]
  },
  {
   "attachments": {
    "image.png": {
     "image/png": "[encoded data removed]"
    }
   },
   "cell_type": "markdown",
   "metadata": {},
   "source": [
    "### False Negative Rate\n",
    "The false negative rate is the proportion of the individuals with a known positive condition for which the testresult is negative. This rate is sometimes called the miss rate. \n",
    "![image.png](attachment:image.png)"
   ]
  },
  {
   "cell_type": "code",
   "execution_count": null,
   "metadata": {},
   "outputs": [],
   "source": [
    "clf_metric.false_negative_rate()"
   ]
  },
  {
   "attachments": {
    "image.png": {
     "image/png": "[encoded data removed]"
    }
   },
   "cell_type": "markdown",
   "metadata": {},
   "source": [
    "### False Omission Rate\n",
    "The false omission rate is the proportion of the individuals with a negative test result for which the true condition\n",
    "is positive. \n",
    "\n",
    "![image.png](attachment:image.png)"
   ]
  },
  {
   "cell_type": "code",
   "execution_count": null,
   "metadata": {},
   "outputs": [],
   "source": [
    "clf_metric.false_omission_rate()"
   ]
  },
  {
   "attachments": {
    "image.png": {
     "image/png": "[encoded data removed]"
    }
   },
   "cell_type": "markdown",
   "metadata": {},
   "source": [
    "### False Discovery Rate\n",
    "The false discovery rate is the proportion of the individuals with a positive test result for which the true condition is negative.\n",
    "\n",
    "![image.png](attachment:image.png)"
   ]
  },
  {
   "cell_type": "code",
   "execution_count": null,
   "metadata": {},
   "outputs": [],
   "source": [
    "clf_metric.false_discovery_rate()"
   ]
  },
  {
   "attachments": {
    "image.png": {
     "image/png": "[encoded data removed]"
    }
   },
   "cell_type": "markdown",
   "metadata": {},
   "source": [
    "### Error Rate\n",
    "![image.png](attachment:image.png)"
   ]
  },
  {
   "cell_type": "code",
   "execution_count": null,
   "metadata": {},
   "outputs": [],
   "source": [
    "clf_metric.error_rate()"
   ]
  },
  {
   "attachments": {
    "image.png": {
     "image/png": "[encoded data removed]"
    }
   },
   "cell_type": "markdown",
   "metadata": {},
   "source": [
    "### Accuracy\n",
    "The accuracy reflects the total proportion of individuals that are correctly classified.\n",
    "\n",
    "![image.png](attachment:image.png)"
   ]
  },
  {
   "cell_type": "code",
   "execution_count": null,
   "metadata": {},
   "outputs": [],
   "source": [
    "clf_metric.accuracy()"
   ]
  },
  {
   "cell_type": "markdown",
   "metadata": {},
   "source": [
    "### Differential Fairness Bias Amplification\n",
    "Bias amplification is the difference in smoothed EDF between the classifier and the original dataset."
   ]
  },
  {
   "cell_type": "code",
   "execution_count": null,
   "metadata": {},
   "outputs": [],
   "source": [
    "clf_metric.differential_fairness_bias_amplification()"
   ]
  },
  {
   "cell_type": "markdown",
   "metadata": {},
   "source": [
    "### Binary Confusion Matrix\n",
    "Computes the number of true/false positives/negatives, optionally conditioned on protected attributes.\n",
    "\n"
   ]
  },
  {
   "cell_type": "code",
   "execution_count": null,
   "metadata": {},
   "outputs": [],
   "source": [
    "clf_metric.binary_confusion_matrix()"
   ]
  },
  {
   "cell_type": "markdown",
   "metadata": {},
   "source": [
    "## 9.1 Bias Identification Explanation\n",
    "#### Fairness Metrics\n",
    "*Add analysis here*\n",
    "\n",
    "\n",
    "#### Four Fifths Analysis\n",
    "\n",
    "*Add analysis here*"
   ]
  },
  {
   "cell_type": "markdown",
   "metadata": {},
   "source": [
    "# 10. Mitigating Bias\n",
    "To mitigate bias, I utilized an open-source toolkit/Python package of metrics and algorithms introduced by IBM Research in 2018. Bias mitigation algorithms can be generally categorized into three categories: pre-process (which affects the data, prior to training), in-process (which affects the classifier itself), and post-process (which affects the prediction labels that are output). \n",
    "\n",
    "Bias mitigation algorithms attempt to improve the fairness metrics by modifying the training data, the learning algorithm, or the predictions. These algorithm categories are known as pre-processing, in-processing, and post-processing, respectively. Bias mitigation algorithms attempt to improve algorithmic fairness by modifying the training data, the learning algorithm, or predictions. These algorithm categories are known as pre-processing, in-processing, and post-processing. Debiasing is a complex technique that cannot be applied for all problems in the same way. With the use of the pre, in, and post-processing debiasing techniques, comes with the risk of losing interpretability of the model. \n"
   ]
  },
  {
   "cell_type": "markdown",
   "metadata": {},
   "source": [
    "### Bias Mitigation with Pre-Processing\n",
    "One approach for mitigating bias that some people often suggest is simply to remove the feature that should be protected. For example, if you are concerned of a model being sexist and you have gender available in your data set, remove it from the features passed to the machine learning algorithm. Unfortunately, this rarely fixes the problem. \n",
    "\n",
    "Pre-processing algorithms can be used to mitigate algorithmic bias. Pre-processing algorithms are applied prior to training the model. There are many pre-processing techniques but the most common and widely used are reweighing and applying a disparate impact remover. Reweighing is a technique that generates weights for labels differently to ensure fairness before fitting a classification model. The disparate impact remover is a variable repair technique. It modifies feature values to increase group fairness while preserving rank-ordering within groups."
   ]
  },
  {
   "cell_type": "code",
   "execution_count": null,
   "metadata": {},
   "outputs": [],
   "source": [
    "# Disparate impact remover preprocessing \n",
    "di = DisparateImpactRemover(repair_level = 1.0)\n",
    "dataset_transf_train = di.fit_transform(bld_df)\n",
    "transformed = dataset_transf_train.convert_to_dataframe()[0]"
   ]
  },
  {
   "cell_type": "markdown",
   "metadata": {},
   "source": [
    "#### Retrain the SMOTE XGBoost Model"
   ]
  },
  {
   "cell_type": "code",
   "execution_count": null,
   "metadata": {},
   "outputs": [],
   "source": [
    "x_trans = transformed.drop(['action_taken'], axis = 1)\n",
    "y_trans = transformed['action_taken']\n",
    "\n",
    "scaler = StandardScaler()\n",
    "data_std = scaler.fit_transform(x_trans)\n",
    "X_trans_train,X_trans_test,y_trans_train,y_trans_test = train_test_split(x_trans, y_trans, test_size=0.3, random_state = 42)\n",
    "\n",
    "res_x_clf.fit(X_trans_train,y_trans_train)\n",
    "\n",
    "# # Predict using test set\n",
    "pre_res_x_pred = res_x_clf.predict(X_trans_test)\n",
    "pre_res_x_prob_pred = res_x_clf.predict_proba(X_trans_test)[:,1]"
   ]
  },
  {
   "cell_type": "markdown",
   "metadata": {},
   "source": [
    "#### Model Evaluation Results: SMOTE XGBoost Model using PreProcessing Disparate Impact Remover Technique"
   ]
  },
  {
   "cell_type": "code",
   "execution_count": null,
   "metadata": {},
   "outputs": [],
   "source": [
    "# Call model evaluation metrics\n",
    "pre_results = model_eval(y_trans_test, pre_res_x_pred)\n",
    "smote_x_results = model_eval(y_test, res_x_pred)\n",
    "\n",
    "# Visualize model evaluation metrics in a heatmap \n",
    "results = pre_results\n",
    "smote_xgbmodel = smote_x_results\n",
    "\n",
    "\n",
    "viz = pd.DataFrame.from_dict(results, orient='index', columns=['SMOTE XGBoost PreProcessing'])\n",
    "viz['SMOTE XGBoost'] = pd.DataFrame.from_dict(smote_xgbmodel, orient='index', columns=['SMOTE XGBoost'])\n",
    "\n",
    "viz.head(10)\n",
    "ax = sns.heatmap(viz,\n",
    "                cmap = 'BuPu',\n",
    "                linewidths = .5,\n",
    "                annot = True)"
   ]
  },
  {
   "cell_type": "markdown",
   "metadata": {},
   "source": [
    "#### Fairness Results: SMOTE XGBoost Model using PreProcessing Disparate Impact Remover Technique"
   ]
  },
  {
   "cell_type": "code",
   "execution_count": null,
   "metadata": {},
   "outputs": [],
   "source": [
    "# Construct the test dataframe \n",
    "trans_test_df = pd.DataFrame(X_trans_test)\n",
    "trans_test_df['action_taken'] = y_trans_test\n",
    "\n",
    "# Convert the test dataframe into a BinaryLabelDataset\n",
    "bld_df = BinaryLabelDataset(favorable_label=1,\n",
    "                            unfavorable_label=0,\n",
    "                            df=trans_test_df,\n",
    "                            label_names=['action_taken'],\n",
    "                            protected_attribute_names=['derived_race','derived_sex','derived_ethnicity'])\n",
    "\n",
    "# Copy the test BinaryLabelDataset format and add the logistic regression predictions \n",
    "bld_df_pred = bld_df.copy()\n",
    "bld_df_pred.labels = pre_res_x_pred\n",
    "\n",
    "# Initialize the unprivileged and privileged groups\n",
    "unprivileged_groups = [{'derived_race':3}] # African American \n",
    "privileged_groups = [{'derived_race':7}] # Caucasian  \n",
    "\n",
    "# Create the ClassificationMetric that will be used in fairness assessment \n",
    "trans_clf_metric = ClassificationMetric(bld_df,\n",
    "                                    bld_df_pred,\n",
    "                                    unprivileged_groups,\n",
    "                                    privileged_groups)"
   ]
  },
  {
   "cell_type": "code",
   "execution_count": null,
   "metadata": {
    "scrolled": false
   },
   "outputs": [],
   "source": [
    "# Call fairness assessment metrics \n",
    "preproc_fair_assessment = fairness_bias_detection(trans_clf_metric)\n",
    "fair_assessment = fairness_bias_detection(clf_metric)\n",
    "\n",
    "fair_viz = pd.DataFrame.from_dict(preproc_fair_assessment, orient='index', columns=['Preprocessing SMOTE XGBoost Fairness Assessment'])\n",
    "fair_viz['Preprocessing SMOTE XGBoost Fairness Assessment'] = fair_viz['Preprocessing SMOTE XGBoost Fairness Assessment'].astype(float)\n",
    "fair_viz['SMOTE XGBoost Fairness Assessment'] = pd.DataFrame.from_dict(fair_assessment, orient='index', columns=['SMOTE XGBoost Fairness Assessment'])\n",
    "fair_viz.head(15)\n",
    "\n",
    "fair_results = sns.heatmap(fair_viz,\n",
    "                           cmap=\"BuPu\",\n",
    "                           linewidths=.5,\n",
    "                           annot=True)"
   ]
  },
  {
   "cell_type": "markdown",
   "metadata": {},
   "source": [
    "## 10.1 Preprocessing Bias Mitigation Results Explanation \n",
    "Preprocessing algorithms like the disparate impact remover are used to mitigate bias. From knowledge of bias within ML, a fairness through unawareness approach can never fully mitigate bias like an algorithm can. Fairness though unawareness is a technique where protected attributes like race, age, and sex are removed from the model. However, typically bias will still remain. The disparate impact remover preprocessing bias mitigation technique can be applied to the training data and used when fitting and predicting a new model. \n",
    "\n",
    "From understanding the results of applying the disparate impact remover to the newly trained ‘fair’ SMOTE XGBoost model, we can see the ‘fair’ model performs better in several of the model evaluation categories like overall accuracy and in predicting the negative class. However, the newly trained ‘fair’ model has a harder time predicting the positive class where the previous model excelled. This may come as an interesting conclusion. Logically it makes more sense if the ‘fair’ model performs better at every model evaluation category than the original model. However, there is a trade-off between accuracy and fairness. When algorithms are built for accuracy needs, they typically don’t pay mind to perpetuating potential bias. When algorithms are built with fairness in mind, they are less accurate than if they had exploited the bias. While although there is no right way to handle the accuracy and fairness trade off, there are tools that can help data scientists optimize their models for a level of accuracy and fairness they’re comfortable implementing.  \n",
    "\n",
    "The fairness results of the ‘fair’ model and the original SMOTE XGBoost model indicate that the model’s fairness improved with the disparate impact remover technique. The disparate impact the model has on marginalized groups decreased, the overall accuracy increased, and many of the other metrics improved within the ‘fair’ model. However, there is still bias that remains, which we can see with the increase of the differential fairness bias amplification and Theil index. While although the fairness improved in some ways, it is ultimately a judgement call on which model to choose for final implementation. \n"
   ]
  },
  {
   "cell_type": "markdown",
   "metadata": {},
   "source": [
    "### Bias Mitigation with Post-Processing\n",
    "Post-processing algorithms are bias mitigation strategies to build accurate performing models while ensuring models are less discriminant. Post-processing algorithms are applied after training the model. There are several post-processing techniques but the most used are the equalized odds post-processing and calibrated equalized odds post-processing techniques. The equalized odds technique solves a linear program to find probabilities with which to change output labels to optimize equalized odds. Calibrated equalized odds postprocessing optimizes over calibrated classifier score outputs to find probabilities with which to change output labels with an equalized odds objective.\n",
    "\n",
    "#### Calibrated Equalized Odds Post-Processing"
   ]
  },
  {
   "cell_type": "code",
   "execution_count": null,
   "metadata": {},
   "outputs": [],
   "source": [
    "# Construct the test dataframe \n",
    "test_df = pd.DataFrame(X_test)\n",
    "test_df['action_taken'] = y_test\n",
    "\n",
    "# Convert the test dataframe into a BinaryLabelDataset\n",
    "bld_df = BinaryLabelDataset(favorable_label=1,\n",
    "                            unfavorable_label=0,\n",
    "                            df=test_df,\n",
    "                            label_names=['action_taken'],\n",
    "                            protected_attribute_names=['derived_race','derived_sex','derived_ethnicity'])\n",
    "\n",
    "# Copy the test BinaryLabelDataset format and add the logistic regression predictions \n",
    "bld_df_pred = bld_df.copy()\n",
    "bld_df_pred.labels = res_x_pred"
   ]
  },
  {
   "cell_type": "code",
   "execution_count": null,
   "metadata": {},
   "outputs": [],
   "source": [
    "cost_constraint='weighted'\n",
    "# Learn parameters to equalize odds and apply to create a new dataset\n",
    "copost = CalibratedEqOddsPostprocessing(privileged_groups = privileged_groups,\n",
    "                                     unprivileged_groups = unprivileged_groups,\n",
    "                                     cost_constraint=cost_constraint,\n",
    "                                     seed=42)\n",
    "\n",
    "copost = copost.fit(bld_df, bld_df_pred)\n",
    "data_transf_test_pred = copost.predict(bld_df_pred)\n",
    "post_res_x_pred=data_transf_test_pred.labels"
   ]
  },
  {
   "cell_type": "markdown",
   "metadata": {},
   "source": [
    "#### Model Evaluation Results: SMOTE XGBoost Model using PostProcessing Calibrated Equalized Odds Technique"
   ]
  },
  {
   "cell_type": "code",
   "execution_count": null,
   "metadata": {},
   "outputs": [],
   "source": [
    "# Convert the test dataframe into a BinaryLabelDataset\n",
    "bld_df = BinaryLabelDataset(favorable_label=1,\n",
    "                            unfavorable_label=0,\n",
    "                            df=test_df,\n",
    "                            label_names=['action_taken'],\n",
    "                            protected_attribute_names=['derived_race','derived_sex', 'derived_ethnicity'])\n",
    "\n",
    "# Copy the test BinaryLabelDataset format and add the logistic regression predictions \n",
    "bld_df_pred = bld_df.copy()\n",
    "bld_df_pred.labels = post_res_x_pred\n",
    "\n",
    "# Initialize the unprivileged and privileged groups\n",
    "unprivileged_groups = [{'derived_race':3}] # African American \n",
    "privileged_groups = [{'derived_race':7}] # Caucasian  \n",
    "\n",
    "# Create the ClassificationMetric that will be used in fairness assessment \n",
    "post_clf_metric = ClassificationMetric(bld_df,\n",
    "                                        bld_df_pred,\n",
    "                                        unprivileged_groups,\n",
    "                                        privileged_groups)"
   ]
  },
  {
   "cell_type": "code",
   "execution_count": null,
   "metadata": {
    "scrolled": true
   },
   "outputs": [],
   "source": [
    "# Call fairness assessment metrics \n",
    "postproc_fair_assessment = fairness_bias_detection(post_clf_metric)\n",
    "\n",
    "fair_viz = pd.DataFrame.from_dict(postproc_fair_assessment, orient='index', columns=['Postprocessing SMOTE XGBoost Fairness Assessment'])\n",
    "fair_viz['Postprocessing SMOTE XGBoost Fairness Assessment'] = fair_viz['Postprocessing SMOTE XGBoost Fairness Assessment'].astype(float)\n",
    "fair_viz['Preprocessing SMOTE XGBoost Fairness Assessment'] = pd.DataFrame.from_dict(preproc_fair_assessment, orient='index', columns=['Preprocessing SMOTE XGBoost Fairness Assessment'])\n",
    "fair_viz['SMOTE XGBoost Fairness Assessment'] = pd.DataFrame.from_dict(fair_assessment, orient='index', columns=['SMOTE XGBoost Fairness Assessment'])\n",
    "\n",
    "fair_viz.head(15)\n",
    "\n",
    "fair_results = sns.heatmap(fair_viz,\n",
    "                           cmap=\"BuPu\",\n",
    "                           linewidths=.5,\n",
    "                           annot=True)"
   ]
  },
  {
   "cell_type": "markdown",
   "metadata": {},
   "source": [
    "## 10.2 Postprocessing Bias Mitigation Results Explanation\n",
    "Postprocessing algorithms like the calibrated equalized odds technique are used to mitigate bias after a model has been trained. There is often debate surrounding which processing technique is better to use. Often, postprocessing techniques rarely remove bias from an already trained model and instead remove bias from the outcomes. Refer to Figure 8 on the next page. \n",
    "The results of applying the calibrated equalized odds postprocessing bias mitigation technique show that the postprocessing model improved overall accuracy, Theil index, false discovery rate, and false omission rate. However, it did not perform as well as the preprocessing ‘fair’ model or original SMOTE XGBoost model in differential fairness bias amplification or disparate impact. \n",
    "\n",
    "While although each technique improved model fairness, there is no concise answer as to which technique subjectively improved fairness overall. \n"
   ]
  },
  {
   "cell_type": "markdown",
   "metadata": {},
   "source": [
    "# 11. Explain Model Predictions\n",
    "The first step in explaining the model's predictions is to create an explainer. We can use SHAP Tree explainer, which is the main explainer used for tabular data for tree based problems. SHAP uses feature importance and shapley values that are an adaptation of game theory.  SHAP scales and generates new data using locality and computes statistics like mean for numerical data and frequency for categorical data, due to this we need to pass our training data as a parameter."
   ]
  },
  {
   "cell_type": "code",
   "execution_count": null,
   "metadata": {
    "scrolled": true
   },
   "outputs": [],
   "source": [
    "# Explain predictions using the SHAP TreeExplainer\n",
    "shap.initjs()\n",
    "explainer = shap.TreeExplainer(res_x_clf)\n",
    "shap_values = explainer.shap_values(X_res)"
   ]
  },
  {
   "cell_type": "markdown",
   "metadata": {},
   "source": [
    "#### Local Explainability: Visualize a Single Prediction "
   ]
  },
  {
   "cell_type": "code",
   "execution_count": null,
   "metadata": {},
   "outputs": [],
   "source": [
    "shap.force_plot(explainer.expected_value, shap_values[0,:], X_res.iloc[0,:])"
   ]
  },
  {
   "cell_type": "markdown",
   "metadata": {},
   "source": [
    "#### Local Explainability: Visualize 1,000 Predictions "
   ]
  },
  {
   "cell_type": "code",
   "execution_count": null,
   "metadata": {},
   "outputs": [],
   "source": [
    "shap.force_plot(explainer.expected_value, shap_values[:1000,:], X_res.iloc[:1000,:])"
   ]
  },
  {
   "cell_type": "markdown",
   "metadata": {},
   "source": [
    "#### Gloabl Explainability: Bar Chart Mean of Feature Importance"
   ]
  },
  {
   "cell_type": "code",
   "execution_count": null,
   "metadata": {},
   "outputs": [],
   "source": [
    "shap.summary_plot(shap_values, X_res, plot_type=\"bar\")"
   ]
  },
  {
   "cell_type": "markdown",
   "metadata": {},
   "source": [
    "#### Global Explainability: Summary Density Scatter Feature Importance\n",
    "Rather than use a typical feature importance bar chart, we can use a density scatter plot of SHAP values for each feature to identify how much impact each feature has on the model output for individuals in the validation dataset. Features are sorted by the sum of the SHAP value magnitudes across all samples. Note that when the scatter points don’t fit on a line they pile up to show density, and the color of each point represents the feature value of that individual."
   ]
  },
  {
   "cell_type": "code",
   "execution_count": null,
   "metadata": {},
   "outputs": [],
   "source": [
    "shap.summary_plot(shap_values, X_res)"
   ]
  },
  {
   "cell_type": "markdown",
   "metadata": {},
   "source": [
    "#### Local Explainability: Dependence Plots\n",
    "Dependence plots show the effect of a single feature across the whole dataset. They plot a feature’s value vs. the SHAP value of that feature across many samples. SHAP dependence plots are similar to partial dependence plots, but account for the interaction effects present in the features, and are only defined in regions of the input space supported by data. The vertical dispersion of SHAP values at a single feature value is driven by interaction effects, and another feature is chosen for coloring to highlight possible interactions."
   ]
  },
  {
   "cell_type": "code",
   "execution_count": null,
   "metadata": {
    "scrolled": false
   },
   "outputs": [],
   "source": [
    "for name in X_train.columns:\n",
    "    shap.dependence_plot(name, shap_values, X_res, display_features=X_res)"
   ]
  },
  {
   "cell_type": "code",
   "execution_count": null,
   "metadata": {},
   "outputs": [],
   "source": [
    "explainer = shap.Explainer(res_x_clf, X_res)\n",
    "shap_values = explainer(X_res[:1000])"
   ]
  },
  {
   "cell_type": "markdown",
   "metadata": {},
   "source": [
    "#### Heatmap"
   ]
  },
  {
   "cell_type": "code",
   "execution_count": null,
   "metadata": {},
   "outputs": [],
   "source": [
    "shap.plots.heatmap(shap_values, max_display=20)"
   ]
  },
  {
   "cell_type": "markdown",
   "metadata": {},
   "source": [
    "#### Local Explainability: Dependence Scatter Plot"
   ]
  },
  {
   "cell_type": "code",
   "execution_count": null,
   "metadata": {},
   "outputs": [],
   "source": [
    "shap.plots.scatter(shap_values[:,'derived_race'],color=shap_values)"
   ]
  },
  {
   "cell_type": "markdown",
   "metadata": {},
   "source": [
    "#### Local Explainability: Waterfall Plot"
   ]
  },
  {
   "cell_type": "code",
   "execution_count": null,
   "metadata": {},
   "outputs": [],
   "source": [
    "shap.plots.waterfall(shap_values[0])"
   ]
  },
  {
   "cell_type": "markdown",
   "metadata": {},
   "source": [
    "## 11.1 Explain Interpetable Model Results\n",
    "The goal of explainable AI is to ensure all participants in the ML model lifecycle can understand how AI algorithms and AI system make decisions. Often times, black box algorithms are used to derive insights. Algorithms vary from simple to understand and explain to complicated models. Which is why transparency into decision making is important. \n",
    "\n",
    "*Add analysis here*"
   ]
  },
  {
   "cell_type": "markdown",
   "metadata": {},
   "source": [
    "# 12. Mortgage Lending Summary\n",
    "\n",
    "*Add analysis here*"
   ]
  }
 ],
 "metadata": {
  "kernelspec": {
   "display_name": "Python 3 (ipykernel)",
   "language": "python",
   "name": "python3"
  },
  "language_info": {
   "codemirror_mode": {
    "name": "ipython",
    "version": 3
   },
   "file_extension": ".py",
   "mimetype": "text/x-python",
   "name": "python",
   "nbconvert_exporter": "python",
   "pygments_lexer": "ipython3",
   "version": "3.8.12"
  }
 },
 "nbformat": 4,
 "nbformat_minor": 4
}
