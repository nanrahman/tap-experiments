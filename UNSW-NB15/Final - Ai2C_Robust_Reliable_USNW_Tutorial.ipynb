{
 "cells": [
  {
   "cell_type": "markdown",
   "metadata": {},
   "source": [
    "# AI2C Robust, Reliable and Explainable - Use case with UNSW-NB15\n",
    "#### AFC-AI2C Pre-Proposal\n",
    "###### Authors\n",
    "* Nandita Rahman\n",
    "* Marissa McKee\n"
   ]
  },
  {
   "cell_type": "code",
   "execution_count": 1,
   "metadata": {},
   "outputs": [],
   "source": [
    "# # Install required packages from PyPi Note: After installing these packages you will need to restart your notebook kernel\n",
    "# !pip install sklearn\n",
    "# !pip install xgboost\n",
    "# !pip install aif360['all']\n",
    "# !pip install wrapt\n",
    "# !pip install fairlearn\n",
    "# !pip install BlackBoxAuditing\n",
    "# !pip install lime\n",
    "# !pip install -U imbalanced-learn\n",
    "# !pip install statsmodels\n",
    "# conda install -c conda-forge imbalanced-learn\n",
    "# !pip install seaborn --user\n",
    "# !pip install chart_studio --user\n",
    "# !pip install aif360['all'] --user\n",
    "# !pip install plotly --user\n",
    "# !pip install Minio --user"
   ]
  },
  {
   "cell_type": "code",
   "execution_count": 2,
   "metadata": {},
   "outputs": [
    {
     "name": "stdout",
     "output_type": "stream",
     "text": [
      "./input/raw/raw_features.csv\n",
      "./input/raw/list_events.csv\n",
      "./input/data-preprocessing/importance.csv\n",
      "./input/data-preprocessing/test.csv\n",
      "./input/data-preprocessing/features.csv\n",
      "./input/data-preprocessing/train.csv\n"
     ]
    },
    {
     "data": {
      "text/html": [
       "        <script type=\"text/javascript\">\n",
       "        window.PlotlyConfig = {MathJaxConfig: 'local'};\n",
       "        if (window.MathJax) {MathJax.Hub.Config({SVG: {font: \"STIX-Web\"}});}\n",
       "        if (typeof require !== 'undefined') {\n",
       "        require.undef(\"plotly\");\n",
       "        requirejs.config({\n",
       "            paths: {\n",
       "                'plotly': ['https://cdn.plot.ly/plotly-2.4.2.min']\n",
       "            }\n",
       "        });\n",
       "        require(['plotly'], function(Plotly) {\n",
       "            window._Plotly = Plotly;\n",
       "        });\n",
       "        }\n",
       "        </script>\n",
       "        "
      ]
     },
     "metadata": {},
     "output_type": "display_data"
    }
   ],
   "source": [
    "# Must be imported before importing other libraries\n",
    "import warnings\n",
    "warnings.simplefilter(action='ignore', category=FutureWarning)\n",
    "\n",
    "from sklearn import metrics, neighbors\n",
    "\n",
    "# Input data files are available in the \"../input/\" directory.\n",
    "# For example, running this (by clicking run or pressing Shift+Enter) will list all files under the input directory\n",
    "\n",
    "import os\n",
    "for dirname, _, filenames in os.walk('./input'):\n",
    "    for filename in filenames:\n",
    "        if '.csv' in filename:\n",
    "            print(os.path.join(dirname, filename))\n",
    "            %matplotlib inline\n",
    "from IPython.core.interactiveshell import InteractiveShell\n",
    "InteractiveShell.ast_node_interactivity = \"all\"\n",
    "\n",
    "# Any results you write to the current directory are saved as output.\n",
    "import numpy as np\n",
    "import pandas as pd \n",
    "import matplotlib.pyplot as plt\n",
    "from datetime import date\n",
    "from statsmodels.stats.outliers_influence import variance_inflation_factor\n",
    "from tqdm import tqdm\n",
    "import seaborn as sns\n",
    "import datetime\n",
    "import imblearn\n",
    "from imblearn.over_sampling import SMOTE, RandomOverSampler\n",
    "import boto3\n",
    "import numba\n",
    "import shap\n",
    "import minio\n",
    "from minio import Minio\n",
    "\n",
    "\n",
    "#visualization libraries \n",
    "import seaborn as sns\n",
    "from plotly import tools\n",
    "import chart_studio.plotly  as py\n",
    "import plotly.graph_objs as go\n",
    "from plotly.offline import download_plotlyjs, init_notebook_mode, plot, iplot\n",
    "import warnings\n",
    "init_notebook_mode(connected=True)\n",
    "\n",
    "#TAP libraries\n",
    "from tap.trustworthy import mlobject,robust #if you receive a warning for tensorflow to enable adversarial debiasing you can ignore it\n",
    "\n",
    "\n",
    "#modeling libraries\n",
    "import sklearn\n",
    "from sklearn import metrics, neighbors\n",
    "from sklearn.metrics import confusion_matrix\n",
    "from sklearn import preprocessing\n",
    "from sklearn.preprocessing import StandardScaler\n",
    "from sklearn.model_selection import RandomizedSearchCV, StratifiedKFold, GridSearchCV, train_test_split\n",
    "from sklearn.ensemble import RandomForestClassifier\n",
    "from sklearn.linear_model import LogisticRegression\n",
    "from xgboost.sklearn import XGBClassifier\n",
    "\n",
    "import xgboost as xgb # needs testing\n",
    "\n",
    "\n",
    "import aif360\n",
    "from aif360.datasets import BinaryLabelDataset\n",
    "from aif360.metrics import ClassificationMetric\n",
    "from aif360.sklearn.metrics import disparate_impact_ratio, statistical_parity_difference\n",
    "from aif360.algorithms.preprocessing import DisparateImpactRemover\n",
    "from aif360.sklearn.inprocessing import AdversarialDebiasing\n",
    "from aif360.algorithms.postprocessing.calibrated_eq_odds_postprocessing import CalibratedEqOddsPostprocessing\n"
   ]
  },
  {
   "cell_type": "markdown",
   "metadata": {},
   "source": [
    "# 1. UNSW-NB15 network data set: a comprehensive data set for network intrusion detection systems\n",
    "\n",
    "\n",
    "### Problem statement\n",
    "\n",
    "In the cyber security field, an Intrusion Detection System (IDS) is essential for achieving a solid line of defense against cyber intrusions. One of the major research challenges in this field is the unavailability of a comprehensive network based data set which can reflect modern network traffic scenarios, vast varieties of low footprint intrusions and depth structured information about the network traffic. Evaluating network intrusion detection systems research efforts, KDD98, KDDCUP99 and NSLKDD benchmark data sets were generated a decade ago. However, numerous current studies showed that for the current network threat environment, these data sets do not inclusively reflect network traffic and modern low footprint attacks. An intrusion detection system has become a vital mechanism to detect a wide variety of malicious activities in the cyber domain. However, this system still faces an important limitation when it comes to detecting zero-day attacks, concerning the reduction of relatively high false alarm rates (Moustafa, 2017). \n",
    "\n",
    "### The Dataset \n",
    "Countering the unavailability of network benchmark data set challenges, this tutorial examines a UNSW-NB15 data set creation. This data set has a hybrid of the real modern normal and the contemporary synthesized attack activities of the network traffic. The raw network packets of the UNSW-NB 15 dataset was created by the IXIA PerfectStorm tool in the Cyber Range Lab of UNSW Canberra for generating a hybrid of real modern normal activities and synthetic contemporary attack behaviours. The tcpdump tool was utilised to capture 100 GB of the raw traffic (e.g., Pcap files). This data set is available for research purposes and can be accessed from the link.\n",
    "\n",
    "Source: https://research.unsw.edu.au/projects/unsw-nb15-dataset\n",
    "\n",
    "\n",
    "#### Full Dataset\n",
    "The total number of records is two million and 540,044 which are stored in the four CSV files: \n",
    "* UNSW-NB15_1.csv\n",
    "* UNSW-NB15_2.csv\n",
    "* UNSW-NB15_3.csv\n",
    "* UNSW-NB15_4.csv.\n",
    "\n",
    "#### Ground truth, features, event (description) files\n",
    "\n",
    "The Argus, Bro-IDS tools are used and twelve algorithms are developed to generate totally 49 features with the class label. \n",
    "* These features are described in UNSW-NB15_features.csv file.\n",
    "* The ground truth table is named 'UNSW-NB15_GT.csv'\n",
    "* List of event file is called 'UNSW-NB15_LIST_EVENTS.csv\n",
    "\n",
    "#### Data Partition (Used in this tutorial) \n",
    "A partition from this dataset was configured as a training set and testing set, namely, 'train.csv' and 'test.csv' respectively.\n",
    "\n",
    "* The dataset contains raw network packets and use labels for different types, attack and normal.\n",
    "* It contains nine different attacks, includes DoS, worms, Backdoors, and Fuzzers\n",
    "* The number of records in the training set is 175,341\n",
    "* The number of records in the testing set is 82,332\n",
    "\n",
    "\n",
    "### Trustworthy AI Framework Tools: Robust and Reliable\n",
    "\n",
    "#### Git Repo:\n",
    "https://github.com/Deloitte/aiops-package/tree/master/aiops/trustworthy\n",
    "\n",
    "#### Application to USNW-NB15\n",
    "Existing and novel methods are utilised to generate the features of the UNSWNB15 data set. This is a widely known classification problem in the defense space where we want to detect whether intrusions are attacks, and what type. More importantly, reduction in the frequency of false-positives is of high concern.  Deloitte's Trustworthy AI Framework is an early step in our efforts to ensure that AI products and models we deliver are both functional and ethical. Our teams are working to implement features that allow TAP users to easily assess their work along multiple dimensions.Furthermore, we want to drive home the importance of understandability in decision-making models and will highlight utility of TAP’s outputs. This tutorial will survey several widely used models such as Randomforest, Xgboost, Linear-Regression we will present a scalable framework for evaluating a model use-case for anomaly detection systems.\n",
    "\n",
    "#### What model evaluation metrics are apart of the robust and reliable module? \n",
    "The robust package contains several metrics that help data scientists evaluate their model's results. \n",
    "- _Accuracy_: percentage of correct predictions.\n",
    "- _Recall:_ percentage of correct positive predictions compared to all actual positive classifications.\n",
    "- _Precision:_ percentage of correct positive predictions compared to all positive predictions.\n",
    "- _Specificity:_ true negative rate and measures to how accurately the negative class is predicted.\n",
    "- _F1-Score:_ harmonic average of the Recall and Precision. F1 implicitly gives equal weight to Recall and Precision\n",
    "- _AUC Score:_ AUC provides an aggregate measure of performance across all possible classification thresholds. \n",
    "\n",
    "\n",
    "#### Why are these metrics important?\n",
    "- Model evaluation is an integral part of the model development process. \n",
    "- Robust and reliable evaluation metrics can aid in finding the best model that represents your data"
   ]
  },
  {
   "cell_type": "markdown",
   "metadata": {},
   "source": [
    "## 1.1a Previous Work:\n",
    "\n",
    "### Additional feature down-selection, EDA and Data-preprocessing have already been conducted and links will be added here"
   ]
  },
  {
   "cell_type": "code",
   "execution_count": 32,
   "metadata": {
    "scrolled": true
   },
   "outputs": [],
   "source": [
    "# Load UNSW data\n",
    "# download data to local from TAP artifact store via client\n",
    "#-----------------------------------------------------------#\n",
    "client = Minio(\n",
    "        \"minio-service.kubeflow.svc.cluster.local:9000\",\n",
    "        access_key=\"admin\",\n",
    "        secret_key=\"AV9%6ymFo2u^\",\n",
    "        secure=False)\n",
    "bucket=\"tai-experiments\"\n",
    "\n",
    "# Training\n",
    "path=\"unsw/train.csv\"\n",
    "data= client.get_object(bucket_name=bucket, object_name=path)\n",
    "train = pd.read_csv(data, index_col=0) # Load data and munge for modeling\n",
    "\n",
    "# Testing\n",
    "path=\"unsw/test.csv\"\n",
    "data = client.get_object(bucket_name=bucket, object_name=path)\n",
    "test = pd.read_csv(data) # Load data and munge for modeling\n",
    "\n",
    "# Features\n",
    "path=\"unsw/features.csv\"\n",
    "data = client.get_object(bucket_name=bucket, object_name=path)\n",
    "features = pd.read_csv(data) # Load data and munge for modeling\n",
    "\n",
    "# Importance\n",
    "path=\"unsw/importance.csv\"\n",
    "data = client.get_object(bucket_name=bucket, object_name=path)\n",
    "importance = pd.read_csv(data) # Load data and munge for modeling\n",
    "\n",
    "# Event-lists\n",
    "path=\"unsw/UNSW-NB15_LIST_EVENTS.csv\"\n",
    "data = client.get_object(bucket_name=bucket, object_name=path)\n",
    "list_events = pd.read_csv(data) # Load data and munge for modeling\n"
   ]
  },
  {
   "cell_type": "code",
   "execution_count": 33,
   "metadata": {},
   "outputs": [],
   "source": [
    "# Optional if prefer to pull data locally\n",
    "# root = \"input/data-preprocessing/\"\n",
    "# train = pd.read_csv(root+\"test.csv\")\n",
    "# test = pd.read_csv(root+\"train.csv\")\n",
    "# list_events = pd.read_csv(root+\"list_events.csv\")\n",
    "# features = pd.read_csv(root+\"raw_features.csv\", encoding='cp1252')"
   ]
  },
  {
   "cell_type": "markdown",
   "metadata": {},
   "source": [
    "## 1.1b Utilities"
   ]
  },
  {
   "cell_type": "code",
   "execution_count": 34,
   "metadata": {},
   "outputs": [],
   "source": [
    "def standardize(df):\n",
    "    return (df-df.mean())/df.std()\n",
    "    \n",
    "def min_max(df):\n",
    "    return (df-df.min())/(df.max() - df.min())\n",
    "\n",
    "def normalize(df):\n",
    "    return pd.Dataframe(preprocessing.normalize(df), columns=df.columns)"
   ]
  },
  {
   "cell_type": "markdown",
   "metadata": {},
   "source": [
    "# 1.1c USNW-NB15 Data Dictionary\n",
    "*Add data dictionary*"
   ]
  },
  {
   "cell_type": "markdown",
   "metadata": {},
   "source": [
    "# 2. Data Inspection, Preparation"
   ]
  },
  {
   "cell_type": "code",
   "execution_count": 35,
   "metadata": {},
   "outputs": [
    {
     "data": {
      "text/plain": [
       "(175341, 53)"
      ]
     },
     "execution_count": 35,
     "metadata": {},
     "output_type": "execute_result"
    },
    {
     "data": {
      "text/html": [
       "<div>\n",
       "<style scoped>\n",
       "    .dataframe tbody tr th:only-of-type {\n",
       "        vertical-align: middle;\n",
       "    }\n",
       "\n",
       "    .dataframe tbody tr th {\n",
       "        vertical-align: top;\n",
       "    }\n",
       "\n",
       "    .dataframe thead th {\n",
       "        text-align: right;\n",
       "    }\n",
       "</style>\n",
       "<table border=\"1\" class=\"dataframe\">\n",
       "  <thead>\n",
       "    <tr style=\"text-align: right;\">\n",
       "      <th></th>\n",
       "      <th>sjit</th>\n",
       "      <th>proto_udp</th>\n",
       "      <th>sload</th>\n",
       "      <th>proto_others</th>\n",
       "      <th>ct_srv_src</th>\n",
       "      <th>tcprtt</th>\n",
       "      <th>dload</th>\n",
       "      <th>state_REQ</th>\n",
       "      <th>swin</th>\n",
       "      <th>dinpkt</th>\n",
       "      <th>...</th>\n",
       "      <th>service_smtp</th>\n",
       "      <th>state_others</th>\n",
       "      <th>ct_dst_sport_ltm</th>\n",
       "      <th>dur</th>\n",
       "      <th>sloss</th>\n",
       "      <th>state_RST</th>\n",
       "      <th>dmean</th>\n",
       "      <th>rate</th>\n",
       "      <th>state_INT</th>\n",
       "      <th>label</th>\n",
       "    </tr>\n",
       "  </thead>\n",
       "  <tbody>\n",
       "    <tr>\n",
       "      <th>count</th>\n",
       "      <td>1.753410e+05</td>\n",
       "      <td>175341.000000</td>\n",
       "      <td>1.753410e+05</td>\n",
       "      <td>175341.000000</td>\n",
       "      <td>1.753410e+05</td>\n",
       "      <td>1.753410e+05</td>\n",
       "      <td>1.753410e+05</td>\n",
       "      <td>175341.000000</td>\n",
       "      <td>1.753410e+05</td>\n",
       "      <td>1.753410e+05</td>\n",
       "      <td>...</td>\n",
       "      <td>175341.000000</td>\n",
       "      <td>175341.000000</td>\n",
       "      <td>1.753410e+05</td>\n",
       "      <td>1.753410e+05</td>\n",
       "      <td>1.753410e+05</td>\n",
       "      <td>175341.000000</td>\n",
       "      <td>1.753410e+05</td>\n",
       "      <td>1.753410e+05</td>\n",
       "      <td>175341.000000</td>\n",
       "      <td>175341.000000</td>\n",
       "    </tr>\n",
       "    <tr>\n",
       "      <th>mean</th>\n",
       "      <td>5.024911e-17</td>\n",
       "      <td>0.360914</td>\n",
       "      <td>4.538630e-17</td>\n",
       "      <td>0.151841</td>\n",
       "      <td>5.965056e-17</td>\n",
       "      <td>6.872782e-17</td>\n",
       "      <td>1.426426e-17</td>\n",
       "      <td>0.011355</td>\n",
       "      <td>2.334152e-17</td>\n",
       "      <td>2.382781e-17</td>\n",
       "      <td>...</td>\n",
       "      <td>0.028847</td>\n",
       "      <td>0.000086</td>\n",
       "      <td>3.630904e-17</td>\n",
       "      <td>1.815452e-17</td>\n",
       "      <td>3.776788e-17</td>\n",
       "      <td>0.000473</td>\n",
       "      <td>-1.815452e-17</td>\n",
       "      <td>-3.241878e-17</td>\n",
       "      <td>0.469229</td>\n",
       "      <td>0.680622</td>\n",
       "    </tr>\n",
       "    <tr>\n",
       "      <th>std</th>\n",
       "      <td>1.000003e+00</td>\n",
       "      <td>0.480267</td>\n",
       "      <td>1.000003e+00</td>\n",
       "      <td>0.358868</td>\n",
       "      <td>1.000003e+00</td>\n",
       "      <td>1.000003e+00</td>\n",
       "      <td>1.000003e+00</td>\n",
       "      <td>0.105954</td>\n",
       "      <td>1.000003e+00</td>\n",
       "      <td>1.000003e+00</td>\n",
       "      <td>...</td>\n",
       "      <td>0.167376</td>\n",
       "      <td>0.009249</td>\n",
       "      <td>1.000003e+00</td>\n",
       "      <td>1.000003e+00</td>\n",
       "      <td>1.000003e+00</td>\n",
       "      <td>0.021752</td>\n",
       "      <td>1.000003e+00</td>\n",
       "      <td>1.000003e+00</td>\n",
       "      <td>0.499054</td>\n",
       "      <td>0.466237</td>\n",
       "    </tr>\n",
       "    <tr>\n",
       "      <th>min</th>\n",
       "      <td>-1.106677e-01</td>\n",
       "      <td>0.000000</td>\n",
       "      <td>-3.899726e-01</td>\n",
       "      <td>0.000000</td>\n",
       "      <td>-7.759906e-01</td>\n",
       "      <td>-5.216596e-01</td>\n",
       "      <td>-2.772081e-01</td>\n",
       "      <td>0.000000</td>\n",
       "      <td>-9.154073e-01</td>\n",
       "      <td>-8.937003e-02</td>\n",
       "      <td>...</td>\n",
       "      <td>0.000000</td>\n",
       "      <td>0.000000</td>\n",
       "      <td>-5.543732e-01</td>\n",
       "      <td>-2.097747e-01</td>\n",
       "      <td>-7.503992e-02</td>\n",
       "      <td>0.000000</td>\n",
       "      <td>-4.807028e-01</td>\n",
       "      <td>-5.768192e-01</td>\n",
       "      <td>0.000000</td>\n",
       "      <td>0.000000</td>\n",
       "    </tr>\n",
       "    <tr>\n",
       "      <th>25%</th>\n",
       "      <td>-1.106677e-01</td>\n",
       "      <td>0.000000</td>\n",
       "      <td>-3.899033e-01</td>\n",
       "      <td>0.000000</td>\n",
       "      <td>-6.825702e-01</td>\n",
       "      <td>-5.216596e-01</td>\n",
       "      <td>-2.772081e-01</td>\n",
       "      <td>0.000000</td>\n",
       "      <td>-9.154073e-01</td>\n",
       "      <td>-8.937003e-02</td>\n",
       "      <td>...</td>\n",
       "      <td>0.000000</td>\n",
       "      <td>0.000000</td>\n",
       "      <td>-5.543732e-01</td>\n",
       "      <td>-2.097735e-01</td>\n",
       "      <td>-7.503992e-02</td>\n",
       "      <td>0.000000</td>\n",
       "      <td>-4.807028e-01</td>\n",
       "      <td>-5.766210e-01</td>\n",
       "      <td>0.000000</td>\n",
       "      <td>0.000000</td>\n",
       "    </tr>\n",
       "    <tr>\n",
       "      <th>50%</th>\n",
       "      <td>-1.106677e-01</td>\n",
       "      <td>0.000000</td>\n",
       "      <td>-3.853023e-01</td>\n",
       "      <td>0.000000</td>\n",
       "      <td>-4.023091e-01</td>\n",
       "      <td>-5.216596e-01</td>\n",
       "      <td>-2.766105e-01</td>\n",
       "      <td>0.000000</td>\n",
       "      <td>-9.154073e-01</td>\n",
       "      <td>-8.936395e-02</td>\n",
       "      <td>...</td>\n",
       "      <td>0.000000</td>\n",
       "      <td>0.000000</td>\n",
       "      <td>-5.543732e-01</td>\n",
       "      <td>-2.095306e-01</td>\n",
       "      <td>-7.503992e-02</td>\n",
       "      <td>0.000000</td>\n",
       "      <td>-3.103690e-01</td>\n",
       "      <td>-5.573162e-01</td>\n",
       "      <td>0.000000</td>\n",
       "      <td>1.000000</td>\n",
       "    </tr>\n",
       "    <tr>\n",
       "      <th>75%</th>\n",
       "      <td>-5.477415e-02</td>\n",
       "      <td>1.000000</td>\n",
       "      <td>8.194472e-02</td>\n",
       "      <td>0.000000</td>\n",
       "      <td>2.516337e-01</td>\n",
       "      <td>3.035188e-01</td>\n",
       "      <td>-2.657082e-01</td>\n",
       "      <td>0.000000</td>\n",
       "      <td>1.092456e+00</td>\n",
       "      <td>-3.764934e-02</td>\n",
       "      <td>...</td>\n",
       "      <td>0.000000</td>\n",
       "      <td>0.000000</td>\n",
       "      <td>-2.085659e-01</td>\n",
       "      <td>-1.066813e-01</td>\n",
       "      <td>-2.958873e-02</td>\n",
       "      <td>0.000000</td>\n",
       "      <td>-1.361640e-01</td>\n",
       "      <td>1.789221e-01</td>\n",
       "      <td>1.000000</td>\n",
       "      <td>1.000000</td>\n",
       "    </tr>\n",
       "    <tr>\n",
       "      <th>max</th>\n",
       "      <td>3.236919e+01</td>\n",
       "      <td>1.000000</td>\n",
       "      <td>3.140074e+01</td>\n",
       "      <td>1.000000</td>\n",
       "      <td>5.016074e+00</td>\n",
       "      <td>3.122093e+01</td>\n",
       "      <td>8.983387e+00</td>\n",
       "      <td>1.000000</td>\n",
       "      <td>1.092456e+00</td>\n",
       "      <td>5.736922e+01</td>\n",
       "      <td>...</td>\n",
       "      <td>1.000000</td>\n",
       "      <td>1.000000</td>\n",
       "      <td>7.226290e+00</td>\n",
       "      <td>9.049154e+00</td>\n",
       "      <td>7.269232e+01</td>\n",
       "      <td>1.000000</td>\n",
       "      <td>5.163540e+00</td>\n",
       "      <td>5.469112e+00</td>\n",
       "      <td>1.000000</td>\n",
       "      <td>1.000000</td>\n",
       "    </tr>\n",
       "  </tbody>\n",
       "</table>\n",
       "<p>8 rows × 53 columns</p>\n",
       "</div>"
      ],
      "text/plain": [
       "               sjit      proto_udp         sload   proto_others    ct_srv_src  \\\n",
       "count  1.753410e+05  175341.000000  1.753410e+05  175341.000000  1.753410e+05   \n",
       "mean   5.024911e-17       0.360914  4.538630e-17       0.151841  5.965056e-17   \n",
       "std    1.000003e+00       0.480267  1.000003e+00       0.358868  1.000003e+00   \n",
       "min   -1.106677e-01       0.000000 -3.899726e-01       0.000000 -7.759906e-01   \n",
       "25%   -1.106677e-01       0.000000 -3.899033e-01       0.000000 -6.825702e-01   \n",
       "50%   -1.106677e-01       0.000000 -3.853023e-01       0.000000 -4.023091e-01   \n",
       "75%   -5.477415e-02       1.000000  8.194472e-02       0.000000  2.516337e-01   \n",
       "max    3.236919e+01       1.000000  3.140074e+01       1.000000  5.016074e+00   \n",
       "\n",
       "             tcprtt         dload      state_REQ          swin        dinpkt  \\\n",
       "count  1.753410e+05  1.753410e+05  175341.000000  1.753410e+05  1.753410e+05   \n",
       "mean   6.872782e-17  1.426426e-17       0.011355  2.334152e-17  2.382781e-17   \n",
       "std    1.000003e+00  1.000003e+00       0.105954  1.000003e+00  1.000003e+00   \n",
       "min   -5.216596e-01 -2.772081e-01       0.000000 -9.154073e-01 -8.937003e-02   \n",
       "25%   -5.216596e-01 -2.772081e-01       0.000000 -9.154073e-01 -8.937003e-02   \n",
       "50%   -5.216596e-01 -2.766105e-01       0.000000 -9.154073e-01 -8.936395e-02   \n",
       "75%    3.035188e-01 -2.657082e-01       0.000000  1.092456e+00 -3.764934e-02   \n",
       "max    3.122093e+01  8.983387e+00       1.000000  1.092456e+00  5.736922e+01   \n",
       "\n",
       "       ...   service_smtp   state_others  ct_dst_sport_ltm           dur  \\\n",
       "count  ...  175341.000000  175341.000000      1.753410e+05  1.753410e+05   \n",
       "mean   ...       0.028847       0.000086      3.630904e-17  1.815452e-17   \n",
       "std    ...       0.167376       0.009249      1.000003e+00  1.000003e+00   \n",
       "min    ...       0.000000       0.000000     -5.543732e-01 -2.097747e-01   \n",
       "25%    ...       0.000000       0.000000     -5.543732e-01 -2.097735e-01   \n",
       "50%    ...       0.000000       0.000000     -5.543732e-01 -2.095306e-01   \n",
       "75%    ...       0.000000       0.000000     -2.085659e-01 -1.066813e-01   \n",
       "max    ...       1.000000       1.000000      7.226290e+00  9.049154e+00   \n",
       "\n",
       "              sloss      state_RST         dmean          rate      state_INT  \\\n",
       "count  1.753410e+05  175341.000000  1.753410e+05  1.753410e+05  175341.000000   \n",
       "mean   3.776788e-17       0.000473 -1.815452e-17 -3.241878e-17       0.469229   \n",
       "std    1.000003e+00       0.021752  1.000003e+00  1.000003e+00       0.499054   \n",
       "min   -7.503992e-02       0.000000 -4.807028e-01 -5.768192e-01       0.000000   \n",
       "25%   -7.503992e-02       0.000000 -4.807028e-01 -5.766210e-01       0.000000   \n",
       "50%   -7.503992e-02       0.000000 -3.103690e-01 -5.573162e-01       0.000000   \n",
       "75%   -2.958873e-02       0.000000 -1.361640e-01  1.789221e-01       1.000000   \n",
       "max    7.269232e+01       1.000000  5.163540e+00  5.469112e+00       1.000000   \n",
       "\n",
       "               label  \n",
       "count  175341.000000  \n",
       "mean        0.680622  \n",
       "std         0.466237  \n",
       "min         0.000000  \n",
       "25%         0.000000  \n",
       "50%         1.000000  \n",
       "75%         1.000000  \n",
       "max         1.000000  \n",
       "\n",
       "[8 rows x 53 columns]"
      ]
     },
     "execution_count": 35,
     "metadata": {},
     "output_type": "execute_result"
    },
    {
     "data": {
      "text/html": [
       "<div>\n",
       "<style scoped>\n",
       "    .dataframe tbody tr th:only-of-type {\n",
       "        vertical-align: middle;\n",
       "    }\n",
       "\n",
       "    .dataframe tbody tr th {\n",
       "        vertical-align: top;\n",
       "    }\n",
       "\n",
       "    .dataframe thead th {\n",
       "        text-align: right;\n",
       "    }\n",
       "</style>\n",
       "<table border=\"1\" class=\"dataframe\">\n",
       "  <thead>\n",
       "    <tr style=\"text-align: right;\">\n",
       "      <th></th>\n",
       "      <th>sjit</th>\n",
       "      <th>proto_udp</th>\n",
       "      <th>sload</th>\n",
       "      <th>proto_others</th>\n",
       "      <th>ct_srv_src</th>\n",
       "      <th>tcprtt</th>\n",
       "      <th>dload</th>\n",
       "      <th>state_REQ</th>\n",
       "      <th>swin</th>\n",
       "      <th>dinpkt</th>\n",
       "      <th>...</th>\n",
       "      <th>service_smtp</th>\n",
       "      <th>state_others</th>\n",
       "      <th>ct_dst_sport_ltm</th>\n",
       "      <th>dur</th>\n",
       "      <th>sloss</th>\n",
       "      <th>state_RST</th>\n",
       "      <th>dmean</th>\n",
       "      <th>rate</th>\n",
       "      <th>state_INT</th>\n",
       "      <th>label</th>\n",
       "    </tr>\n",
       "    <tr>\n",
       "      <th>ct_state_ttl</th>\n",
       "      <th></th>\n",
       "      <th></th>\n",
       "      <th></th>\n",
       "      <th></th>\n",
       "      <th></th>\n",
       "      <th></th>\n",
       "      <th></th>\n",
       "      <th></th>\n",
       "      <th></th>\n",
       "      <th></th>\n",
       "      <th></th>\n",
       "      <th></th>\n",
       "      <th></th>\n",
       "      <th></th>\n",
       "      <th></th>\n",
       "      <th></th>\n",
       "      <th></th>\n",
       "      <th></th>\n",
       "      <th></th>\n",
       "      <th></th>\n",
       "      <th></th>\n",
       "    </tr>\n",
       "  </thead>\n",
       "  <tbody>\n",
       "    <tr>\n",
       "      <th>-1.366486</th>\n",
       "      <td>-0.109997</td>\n",
       "      <td>0</td>\n",
       "      <td>-0.389897</td>\n",
       "      <td>0</td>\n",
       "      <td>-0.775991</td>\n",
       "      <td>-0.521660</td>\n",
       "      <td>-0.273700</td>\n",
       "      <td>0</td>\n",
       "      <td>1.092456</td>\n",
       "      <td>-0.080885</td>\n",
       "      <td>...</td>\n",
       "      <td>0</td>\n",
       "      <td>0</td>\n",
       "      <td>-0.554373</td>\n",
       "      <td>-0.191029</td>\n",
       "      <td>-0.075040</td>\n",
       "      <td>0</td>\n",
       "      <td>-0.314240</td>\n",
       "      <td>-0.576371</td>\n",
       "      <td>0</td>\n",
       "      <td>0</td>\n",
       "    </tr>\n",
       "    <tr>\n",
       "      <th>-0.318711</th>\n",
       "      <td>-0.109302</td>\n",
       "      <td>0</td>\n",
       "      <td>-0.389928</td>\n",
       "      <td>0</td>\n",
       "      <td>3.147666</td>\n",
       "      <td>-0.521660</td>\n",
       "      <td>-0.069233</td>\n",
       "      <td>0</td>\n",
       "      <td>1.092456</td>\n",
       "      <td>-0.073735</td>\n",
       "      <td>...</td>\n",
       "      <td>0</td>\n",
       "      <td>0</td>\n",
       "      <td>-0.554373</td>\n",
       "      <td>-0.109485</td>\n",
       "      <td>-0.044739</td>\n",
       "      <td>0</td>\n",
       "      <td>3.800869</td>\n",
       "      <td>-0.576345</td>\n",
       "      <td>0</td>\n",
       "      <td>0</td>\n",
       "    </tr>\n",
       "    <tr>\n",
       "      <th>-0.318711</th>\n",
       "      <td>0.271392</td>\n",
       "      <td>0</td>\n",
       "      <td>-0.389964</td>\n",
       "      <td>0</td>\n",
       "      <td>-0.215468</td>\n",
       "      <td>0.888444</td>\n",
       "      <td>-0.252044</td>\n",
       "      <td>0</td>\n",
       "      <td>1.092456</td>\n",
       "      <td>0.014711</td>\n",
       "      <td>...</td>\n",
       "      <td>0</td>\n",
       "      <td>0</td>\n",
       "      <td>-0.554373</td>\n",
       "      <td>0.040699</td>\n",
       "      <td>-0.059890</td>\n",
       "      <td>0</td>\n",
       "      <td>2.709185</td>\n",
       "      <td>-0.576734</td>\n",
       "      <td>0</td>\n",
       "      <td>0</td>\n",
       "    </tr>\n",
       "    <tr>\n",
       "      <th>-0.318711</th>\n",
       "      <td>-0.104906</td>\n",
       "      <td>0</td>\n",
       "      <td>-0.389958</td>\n",
       "      <td>0</td>\n",
       "      <td>-0.775991</td>\n",
       "      <td>-0.521660</td>\n",
       "      <td>-0.275821</td>\n",
       "      <td>0</td>\n",
       "      <td>1.092456</td>\n",
       "      <td>0.002046</td>\n",
       "      <td>...</td>\n",
       "      <td>0</td>\n",
       "      <td>0</td>\n",
       "      <td>-0.554373</td>\n",
       "      <td>0.049729</td>\n",
       "      <td>-0.059890</td>\n",
       "      <td>0</td>\n",
       "      <td>-0.232945</td>\n",
       "      <td>-0.576737</td>\n",
       "      <td>0</td>\n",
       "      <td>0</td>\n",
       "    </tr>\n",
       "    <tr>\n",
       "      <th>-0.318711</th>\n",
       "      <td>-0.056942</td>\n",
       "      <td>0</td>\n",
       "      <td>-0.389927</td>\n",
       "      <td>0</td>\n",
       "      <td>3.147666</td>\n",
       "      <td>1.096172</td>\n",
       "      <td>-0.275561</td>\n",
       "      <td>0</td>\n",
       "      <td>1.092456</td>\n",
       "      <td>-0.012721</td>\n",
       "      <td>...</td>\n",
       "      <td>0</td>\n",
       "      <td>0</td>\n",
       "      <td>-0.554373</td>\n",
       "      <td>-0.140417</td>\n",
       "      <td>-0.044739</td>\n",
       "      <td>0</td>\n",
       "      <td>-0.306498</td>\n",
       "      <td>-0.576617</td>\n",
       "      <td>0</td>\n",
       "      <td>0</td>\n",
       "    </tr>\n",
       "  </tbody>\n",
       "</table>\n",
       "<p>5 rows × 53 columns</p>\n",
       "</div>"
      ],
      "text/plain": [
       "                  sjit  proto_udp     sload  proto_others  ct_srv_src  \\\n",
       "ct_state_ttl                                                            \n",
       "-1.366486    -0.109997          0 -0.389897             0   -0.775991   \n",
       "-0.318711    -0.109302          0 -0.389928             0    3.147666   \n",
       "-0.318711     0.271392          0 -0.389964             0   -0.215468   \n",
       "-0.318711    -0.104906          0 -0.389958             0   -0.775991   \n",
       "-0.318711    -0.056942          0 -0.389927             0    3.147666   \n",
       "\n",
       "                tcprtt     dload  state_REQ      swin    dinpkt  ...  \\\n",
       "ct_state_ttl                                                     ...   \n",
       "-1.366486    -0.521660 -0.273700          0  1.092456 -0.080885  ...   \n",
       "-0.318711    -0.521660 -0.069233          0  1.092456 -0.073735  ...   \n",
       "-0.318711     0.888444 -0.252044          0  1.092456  0.014711  ...   \n",
       "-0.318711    -0.521660 -0.275821          0  1.092456  0.002046  ...   \n",
       "-0.318711     1.096172 -0.275561          0  1.092456 -0.012721  ...   \n",
       "\n",
       "              service_smtp  state_others  ct_dst_sport_ltm       dur  \\\n",
       "ct_state_ttl                                                           \n",
       "-1.366486                0             0         -0.554373 -0.191029   \n",
       "-0.318711                0             0         -0.554373 -0.109485   \n",
       "-0.318711                0             0         -0.554373  0.040699   \n",
       "-0.318711                0             0         -0.554373  0.049729   \n",
       "-0.318711                0             0         -0.554373 -0.140417   \n",
       "\n",
       "                 sloss  state_RST     dmean      rate  state_INT  label  \n",
       "ct_state_ttl                                                             \n",
       "-1.366486    -0.075040          0 -0.314240 -0.576371          0      0  \n",
       "-0.318711    -0.044739          0  3.800869 -0.576345          0      0  \n",
       "-0.318711    -0.059890          0  2.709185 -0.576734          0      0  \n",
       "-0.318711    -0.059890          0 -0.232945 -0.576737          0      0  \n",
       "-0.318711    -0.044739          0 -0.306498 -0.576617          0      0  \n",
       "\n",
       "[5 rows x 53 columns]"
      ]
     },
     "execution_count": 35,
     "metadata": {},
     "output_type": "execute_result"
    }
   ],
   "source": [
    "train.shape\n",
    "train.describe()\n",
    "train.head()"
   ]
  },
  {
   "cell_type": "code",
   "execution_count": 36,
   "metadata": {
    "scrolled": false
   },
   "outputs": [
    {
     "data": {
      "text/plain": [
       "(82332, 54)"
      ]
     },
     "execution_count": 36,
     "metadata": {},
     "output_type": "execute_result"
    },
    {
     "data": {
      "text/html": [
       "<div>\n",
       "<style scoped>\n",
       "    .dataframe tbody tr th:only-of-type {\n",
       "        vertical-align: middle;\n",
       "    }\n",
       "\n",
       "    .dataframe tbody tr th {\n",
       "        vertical-align: top;\n",
       "    }\n",
       "\n",
       "    .dataframe thead th {\n",
       "        text-align: right;\n",
       "    }\n",
       "</style>\n",
       "<table border=\"1\" class=\"dataframe\">\n",
       "  <thead>\n",
       "    <tr style=\"text-align: right;\">\n",
       "      <th></th>\n",
       "      <th>ct_state_ttl</th>\n",
       "      <th>sjit</th>\n",
       "      <th>proto_udp</th>\n",
       "      <th>sload</th>\n",
       "      <th>proto_others</th>\n",
       "      <th>ct_srv_src</th>\n",
       "      <th>tcprtt</th>\n",
       "      <th>dload</th>\n",
       "      <th>state_REQ</th>\n",
       "      <th>swin</th>\n",
       "      <th>...</th>\n",
       "      <th>service_smtp</th>\n",
       "      <th>state_others</th>\n",
       "      <th>ct_dst_sport_ltm</th>\n",
       "      <th>dur</th>\n",
       "      <th>sloss</th>\n",
       "      <th>state_RST</th>\n",
       "      <th>dmean</th>\n",
       "      <th>rate</th>\n",
       "      <th>state_INT</th>\n",
       "      <th>label</th>\n",
       "    </tr>\n",
       "  </thead>\n",
       "  <tbody>\n",
       "    <tr>\n",
       "      <th>count</th>\n",
       "      <td>82332.000000</td>\n",
       "      <td>82332.000000</td>\n",
       "      <td>82332.000000</td>\n",
       "      <td>82332.000000</td>\n",
       "      <td>82332.000000</td>\n",
       "      <td>82332.000000</td>\n",
       "      <td>82332.000000</td>\n",
       "      <td>82332.000000</td>\n",
       "      <td>82332.000000</td>\n",
       "      <td>82332.000000</td>\n",
       "      <td>...</td>\n",
       "      <td>82332.000000</td>\n",
       "      <td>82332.000000</td>\n",
       "      <td>82332.000000</td>\n",
       "      <td>82332.000000</td>\n",
       "      <td>82332.000000</td>\n",
       "      <td>82332.000000</td>\n",
       "      <td>82332.000000</td>\n",
       "      <td>82332.000000</td>\n",
       "      <td>82332.000000</td>\n",
       "      <td>82332.000000</td>\n",
       "    </tr>\n",
       "    <tr>\n",
       "      <th>mean</th>\n",
       "      <td>0.068204</td>\n",
       "      <td>0.030842</td>\n",
       "      <td>0.357309</td>\n",
       "      <td>-0.047277</td>\n",
       "      <td>0.098698</td>\n",
       "      <td>0.022436</td>\n",
       "      <td>0.183097</td>\n",
       "      <td>-0.016792</td>\n",
       "      <td>0.022373</td>\n",
       "      <td>0.135446</td>\n",
       "      <td>...</td>\n",
       "      <td>0.022482</td>\n",
       "      <td>0.000061</td>\n",
       "      <td>-0.093929</td>\n",
       "      <td>-0.054417</td>\n",
       "      <td>-0.003020</td>\n",
       "      <td>0.000012</td>\n",
       "      <td>-0.030576</td>\n",
       "      <td>-0.078569</td>\n",
       "      <td>0.414942</td>\n",
       "      <td>0.550600</td>\n",
       "    </tr>\n",
       "    <tr>\n",
       "      <th>std</th>\n",
       "      <td>1.118173</td>\n",
       "      <td>1.261495</td>\n",
       "      <td>0.479210</td>\n",
       "      <td>0.954899</td>\n",
       "      <td>0.298258</td>\n",
       "      <td>1.036059</td>\n",
       "      <td>1.462083</td>\n",
       "      <td>0.988310</td>\n",
       "      <td>0.147894</td>\n",
       "      <td>1.002806</td>\n",
       "      <td>...</td>\n",
       "      <td>0.148246</td>\n",
       "      <td>0.007793</td>\n",
       "      <td>1.022792</td>\n",
       "      <td>0.726895</td>\n",
       "      <td>0.979467</td>\n",
       "      <td>0.003485</td>\n",
       "      <td>0.946902</td>\n",
       "      <td>0.898548</td>\n",
       "      <td>0.492715</td>\n",
       "      <td>0.497436</td>\n",
       "    </tr>\n",
       "    <tr>\n",
       "      <th>min</th>\n",
       "      <td>-1.366486</td>\n",
       "      <td>-0.110668</td>\n",
       "      <td>0.000000</td>\n",
       "      <td>-0.389973</td>\n",
       "      <td>0.000000</td>\n",
       "      <td>-0.775991</td>\n",
       "      <td>-0.521660</td>\n",
       "      <td>-0.277208</td>\n",
       "      <td>0.000000</td>\n",
       "      <td>-0.915407</td>\n",
       "      <td>...</td>\n",
       "      <td>0.000000</td>\n",
       "      <td>0.000000</td>\n",
       "      <td>-0.554373</td>\n",
       "      <td>-0.209775</td>\n",
       "      <td>-0.075040</td>\n",
       "      <td>0.000000</td>\n",
       "      <td>-0.480703</td>\n",
       "      <td>-0.576819</td>\n",
       "      <td>0.000000</td>\n",
       "      <td>0.000000</td>\n",
       "    </tr>\n",
       "    <tr>\n",
       "      <th>25%</th>\n",
       "      <td>-0.318711</td>\n",
       "      <td>-0.110668</td>\n",
       "      <td>0.000000</td>\n",
       "      <td>-0.389913</td>\n",
       "      <td>0.000000</td>\n",
       "      <td>-0.682570</td>\n",
       "      <td>-0.521660</td>\n",
       "      <td>-0.277208</td>\n",
       "      <td>0.000000</td>\n",
       "      <td>-0.915407</td>\n",
       "      <td>...</td>\n",
       "      <td>0.000000</td>\n",
       "      <td>0.000000</td>\n",
       "      <td>-0.554373</td>\n",
       "      <td>-0.209774</td>\n",
       "      <td>-0.075040</td>\n",
       "      <td>0.000000</td>\n",
       "      <td>-0.480703</td>\n",
       "      <td>-0.576646</td>\n",
       "      <td>0.000000</td>\n",
       "      <td>0.000000</td>\n",
       "    </tr>\n",
       "    <tr>\n",
       "      <th>50%</th>\n",
       "      <td>-0.318711</td>\n",
       "      <td>-0.110276</td>\n",
       "      <td>0.000000</td>\n",
       "      <td>-0.386909</td>\n",
       "      <td>0.000000</td>\n",
       "      <td>-0.402309</td>\n",
       "      <td>-0.514716</td>\n",
       "      <td>-0.276335</td>\n",
       "      <td>0.000000</td>\n",
       "      <td>1.092456</td>\n",
       "      <td>...</td>\n",
       "      <td>0.000000</td>\n",
       "      <td>0.000000</td>\n",
       "      <td>-0.554373</td>\n",
       "      <td>-0.207593</td>\n",
       "      <td>-0.059890</td>\n",
       "      <td>0.000000</td>\n",
       "      <td>-0.310369</td>\n",
       "      <td>-0.560796</td>\n",
       "      <td>0.000000</td>\n",
       "      <td>1.000000</td>\n",
       "    </tr>\n",
       "    <tr>\n",
       "      <th>75%</th>\n",
       "      <td>0.729064</td>\n",
       "      <td>-0.039072</td>\n",
       "      <td>1.000000</td>\n",
       "      <td>-0.044125</td>\n",
       "      <td>0.000000</td>\n",
       "      <td>0.158213</td>\n",
       "      <td>0.808344</td>\n",
       "      <td>-0.270659</td>\n",
       "      <td>0.000000</td>\n",
       "      <td>1.092456</td>\n",
       "      <td>...</td>\n",
       "      <td>0.000000</td>\n",
       "      <td>0.000000</td>\n",
       "      <td>-0.208566</td>\n",
       "      <td>-0.098766</td>\n",
       "      <td>-0.029589</td>\n",
       "      <td>0.000000</td>\n",
       "      <td>-0.143906</td>\n",
       "      <td>0.094951</td>\n",
       "      <td>1.000000</td>\n",
       "      <td>1.000000</td>\n",
       "    </tr>\n",
       "    <tr>\n",
       "      <th>max</th>\n",
       "      <td>4.920164</td>\n",
       "      <td>32.888492</td>\n",
       "      <td>1.000000</td>\n",
       "      <td>27.578209</td>\n",
       "      <td>1.000000</td>\n",
       "      <td>5.016074</td>\n",
       "      <td>47.635677</td>\n",
       "      <td>8.321917</td>\n",
       "      <td>1.000000</td>\n",
       "      <td>1.092456</td>\n",
       "      <td>...</td>\n",
       "      <td>1.000000</td>\n",
       "      <td>1.000000</td>\n",
       "      <td>5.843061</td>\n",
       "      <td>9.049154</td>\n",
       "      <td>80.509923</td>\n",
       "      <td>1.000000</td>\n",
       "      <td>5.326131</td>\n",
       "      <td>5.469112</td>\n",
       "      <td>1.000000</td>\n",
       "      <td>1.000000</td>\n",
       "    </tr>\n",
       "  </tbody>\n",
       "</table>\n",
       "<p>8 rows × 54 columns</p>\n",
       "</div>"
      ],
      "text/plain": [
       "       ct_state_ttl          sjit     proto_udp         sload  proto_others  \\\n",
       "count  82332.000000  82332.000000  82332.000000  82332.000000  82332.000000   \n",
       "mean       0.068204      0.030842      0.357309     -0.047277      0.098698   \n",
       "std        1.118173      1.261495      0.479210      0.954899      0.298258   \n",
       "min       -1.366486     -0.110668      0.000000     -0.389973      0.000000   \n",
       "25%       -0.318711     -0.110668      0.000000     -0.389913      0.000000   \n",
       "50%       -0.318711     -0.110276      0.000000     -0.386909      0.000000   \n",
       "75%        0.729064     -0.039072      1.000000     -0.044125      0.000000   \n",
       "max        4.920164     32.888492      1.000000     27.578209      1.000000   \n",
       "\n",
       "         ct_srv_src        tcprtt         dload     state_REQ          swin  \\\n",
       "count  82332.000000  82332.000000  82332.000000  82332.000000  82332.000000   \n",
       "mean       0.022436      0.183097     -0.016792      0.022373      0.135446   \n",
       "std        1.036059      1.462083      0.988310      0.147894      1.002806   \n",
       "min       -0.775991     -0.521660     -0.277208      0.000000     -0.915407   \n",
       "25%       -0.682570     -0.521660     -0.277208      0.000000     -0.915407   \n",
       "50%       -0.402309     -0.514716     -0.276335      0.000000      1.092456   \n",
       "75%        0.158213      0.808344     -0.270659      0.000000      1.092456   \n",
       "max        5.016074     47.635677      8.321917      1.000000      1.092456   \n",
       "\n",
       "       ...  service_smtp  state_others  ct_dst_sport_ltm           dur  \\\n",
       "count  ...  82332.000000  82332.000000      82332.000000  82332.000000   \n",
       "mean   ...      0.022482      0.000061         -0.093929     -0.054417   \n",
       "std    ...      0.148246      0.007793          1.022792      0.726895   \n",
       "min    ...      0.000000      0.000000         -0.554373     -0.209775   \n",
       "25%    ...      0.000000      0.000000         -0.554373     -0.209774   \n",
       "50%    ...      0.000000      0.000000         -0.554373     -0.207593   \n",
       "75%    ...      0.000000      0.000000         -0.208566     -0.098766   \n",
       "max    ...      1.000000      1.000000          5.843061      9.049154   \n",
       "\n",
       "              sloss     state_RST         dmean          rate     state_INT  \\\n",
       "count  82332.000000  82332.000000  82332.000000  82332.000000  82332.000000   \n",
       "mean      -0.003020      0.000012     -0.030576     -0.078569      0.414942   \n",
       "std        0.979467      0.003485      0.946902      0.898548      0.492715   \n",
       "min       -0.075040      0.000000     -0.480703     -0.576819      0.000000   \n",
       "25%       -0.075040      0.000000     -0.480703     -0.576646      0.000000   \n",
       "50%       -0.059890      0.000000     -0.310369     -0.560796      0.000000   \n",
       "75%       -0.029589      0.000000     -0.143906      0.094951      1.000000   \n",
       "max       80.509923      1.000000      5.326131      5.469112      1.000000   \n",
       "\n",
       "              label  \n",
       "count  82332.000000  \n",
       "mean       0.550600  \n",
       "std        0.497436  \n",
       "min        0.000000  \n",
       "25%        0.000000  \n",
       "50%        1.000000  \n",
       "75%        1.000000  \n",
       "max        1.000000  \n",
       "\n",
       "[8 rows x 54 columns]"
      ]
     },
     "execution_count": 36,
     "metadata": {},
     "output_type": "execute_result"
    }
   ],
   "source": [
    "test.shape\n",
    "test.describe()"
   ]
  },
  {
   "cell_type": "code",
   "execution_count": 37,
   "metadata": {},
   "outputs": [
    {
     "data": {
      "text/plain": [
       "(45, 3)"
      ]
     },
     "execution_count": 37,
     "metadata": {},
     "output_type": "execute_result"
    },
    {
     "data": {
      "text/html": [
       "<div>\n",
       "<style scoped>\n",
       "    .dataframe tbody tr th:only-of-type {\n",
       "        vertical-align: middle;\n",
       "    }\n",
       "\n",
       "    .dataframe tbody tr th {\n",
       "        vertical-align: top;\n",
       "    }\n",
       "\n",
       "    .dataframe thead th {\n",
       "        text-align: right;\n",
       "    }\n",
       "</style>\n",
       "<table border=\"1\" class=\"dataframe\">\n",
       "  <thead>\n",
       "    <tr style=\"text-align: right;\">\n",
       "      <th></th>\n",
       "      <th>Name</th>\n",
       "      <th>Type</th>\n",
       "      <th>Description</th>\n",
       "    </tr>\n",
       "  </thead>\n",
       "  <tbody>\n",
       "    <tr>\n",
       "      <th>count</th>\n",
       "      <td>45</td>\n",
       "      <td>45</td>\n",
       "      <td>45</td>\n",
       "    </tr>\n",
       "    <tr>\n",
       "      <th>unique</th>\n",
       "      <td>45</td>\n",
       "      <td>7</td>\n",
       "      <td>45</td>\n",
       "    </tr>\n",
       "    <tr>\n",
       "      <th>top</th>\n",
       "      <td>ct_dst_src_ltm</td>\n",
       "      <td>integer</td>\n",
       "      <td>Source interpacket arrival time (mSec)</td>\n",
       "    </tr>\n",
       "    <tr>\n",
       "      <th>freq</th>\n",
       "      <td>1</td>\n",
       "      <td>18</td>\n",
       "      <td>1</td>\n",
       "    </tr>\n",
       "  </tbody>\n",
       "</table>\n",
       "</div>"
      ],
      "text/plain": [
       "                  Name    Type                              Description\n",
       "count               45       45                                      45\n",
       "unique              45        7                                      45\n",
       "top     ct_dst_src_ltm  integer  Source interpacket arrival time (mSec)\n",
       "freq                 1       18                                       1"
      ]
     },
     "execution_count": 37,
     "metadata": {},
     "output_type": "execute_result"
    },
    {
     "data": {
      "text/html": [
       "<div>\n",
       "<style scoped>\n",
       "    .dataframe tbody tr th:only-of-type {\n",
       "        vertical-align: middle;\n",
       "    }\n",
       "\n",
       "    .dataframe tbody tr th {\n",
       "        vertical-align: top;\n",
       "    }\n",
       "\n",
       "    .dataframe thead th {\n",
       "        text-align: right;\n",
       "    }\n",
       "</style>\n",
       "<table border=\"1\" class=\"dataframe\">\n",
       "  <thead>\n",
       "    <tr style=\"text-align: right;\">\n",
       "      <th></th>\n",
       "      <th>Name</th>\n",
       "      <th>Type</th>\n",
       "      <th>Description</th>\n",
       "    </tr>\n",
       "  </thead>\n",
       "  <tbody>\n",
       "    <tr>\n",
       "      <th>0</th>\n",
       "      <td>proto</td>\n",
       "      <td>nominal</td>\n",
       "      <td>Transaction protocol</td>\n",
       "    </tr>\n",
       "    <tr>\n",
       "      <th>1</th>\n",
       "      <td>state</td>\n",
       "      <td>nominal</td>\n",
       "      <td>Indicates to the state and its dependent proto...</td>\n",
       "    </tr>\n",
       "    <tr>\n",
       "      <th>2</th>\n",
       "      <td>dur</td>\n",
       "      <td>Float</td>\n",
       "      <td>Record total duration</td>\n",
       "    </tr>\n",
       "    <tr>\n",
       "      <th>3</th>\n",
       "      <td>sbytes</td>\n",
       "      <td>Integer</td>\n",
       "      <td>Source to destination transaction bytes</td>\n",
       "    </tr>\n",
       "    <tr>\n",
       "      <th>4</th>\n",
       "      <td>dbytes</td>\n",
       "      <td>Integer</td>\n",
       "      <td>Destination to source transaction bytes</td>\n",
       "    </tr>\n",
       "    <tr>\n",
       "      <th>5</th>\n",
       "      <td>sttl</td>\n",
       "      <td>Integer</td>\n",
       "      <td>Source to destination time to live value</td>\n",
       "    </tr>\n",
       "    <tr>\n",
       "      <th>6</th>\n",
       "      <td>dttl</td>\n",
       "      <td>Integer</td>\n",
       "      <td>Destination to source time to live value</td>\n",
       "    </tr>\n",
       "    <tr>\n",
       "      <th>7</th>\n",
       "      <td>sloss</td>\n",
       "      <td>Integer</td>\n",
       "      <td>Source packets retransmitted or dropped</td>\n",
       "    </tr>\n",
       "    <tr>\n",
       "      <th>8</th>\n",
       "      <td>dloss</td>\n",
       "      <td>Integer</td>\n",
       "      <td>Destination packets retransmitted or dropped</td>\n",
       "    </tr>\n",
       "    <tr>\n",
       "      <th>9</th>\n",
       "      <td>service</td>\n",
       "      <td>nominal</td>\n",
       "      <td>http, ftp, smtp, ssh, dns, ftp-data ,irc  and ...</td>\n",
       "    </tr>\n",
       "    <tr>\n",
       "      <th>10</th>\n",
       "      <td>sload</td>\n",
       "      <td>Float</td>\n",
       "      <td>Source bits per second</td>\n",
       "    </tr>\n",
       "    <tr>\n",
       "      <th>11</th>\n",
       "      <td>dload</td>\n",
       "      <td>Float</td>\n",
       "      <td>Destination bits per second</td>\n",
       "    </tr>\n",
       "    <tr>\n",
       "      <th>12</th>\n",
       "      <td>spkts</td>\n",
       "      <td>integer</td>\n",
       "      <td>Source to destination packet count</td>\n",
       "    </tr>\n",
       "    <tr>\n",
       "      <th>13</th>\n",
       "      <td>dpkts</td>\n",
       "      <td>integer</td>\n",
       "      <td>Destination to source packet count</td>\n",
       "    </tr>\n",
       "    <tr>\n",
       "      <th>14</th>\n",
       "      <td>swin</td>\n",
       "      <td>integer</td>\n",
       "      <td>Source TCP window advertisement value</td>\n",
       "    </tr>\n",
       "    <tr>\n",
       "      <th>15</th>\n",
       "      <td>dwin</td>\n",
       "      <td>integer</td>\n",
       "      <td>Destination TCP window advertisement value</td>\n",
       "    </tr>\n",
       "    <tr>\n",
       "      <th>16</th>\n",
       "      <td>stcpb</td>\n",
       "      <td>integer</td>\n",
       "      <td>Source TCP base sequence number</td>\n",
       "    </tr>\n",
       "    <tr>\n",
       "      <th>17</th>\n",
       "      <td>dtcpb</td>\n",
       "      <td>integer</td>\n",
       "      <td>Destination TCP base sequence number</td>\n",
       "    </tr>\n",
       "    <tr>\n",
       "      <th>18</th>\n",
       "      <td>smean</td>\n",
       "      <td>integer</td>\n",
       "      <td>Mean of the ?ow packet size transmitted by the...</td>\n",
       "    </tr>\n",
       "    <tr>\n",
       "      <th>19</th>\n",
       "      <td>dmean</td>\n",
       "      <td>integer</td>\n",
       "      <td>Mean of the ?ow packet size transmitted by the...</td>\n",
       "    </tr>\n",
       "    <tr>\n",
       "      <th>20</th>\n",
       "      <td>trans_depth</td>\n",
       "      <td>integer</td>\n",
       "      <td>Represents the pipelined depth into the connec...</td>\n",
       "    </tr>\n",
       "    <tr>\n",
       "      <th>21</th>\n",
       "      <td>response_body_len</td>\n",
       "      <td>integer</td>\n",
       "      <td>Actual uncompressed content size of the data t...</td>\n",
       "    </tr>\n",
       "    <tr>\n",
       "      <th>22</th>\n",
       "      <td>sjit</td>\n",
       "      <td>Float</td>\n",
       "      <td>Source jitter (mSec)</td>\n",
       "    </tr>\n",
       "    <tr>\n",
       "      <th>23</th>\n",
       "      <td>djit</td>\n",
       "      <td>Float</td>\n",
       "      <td>Destination jitter (mSec)</td>\n",
       "    </tr>\n",
       "    <tr>\n",
       "      <th>24</th>\n",
       "      <td>stime</td>\n",
       "      <td>Timestamp</td>\n",
       "      <td>record start time</td>\n",
       "    </tr>\n",
       "    <tr>\n",
       "      <th>25</th>\n",
       "      <td>ltime</td>\n",
       "      <td>Timestamp</td>\n",
       "      <td>record last time</td>\n",
       "    </tr>\n",
       "    <tr>\n",
       "      <th>26</th>\n",
       "      <td>sinpkt</td>\n",
       "      <td>Float</td>\n",
       "      <td>Source interpacket arrival time (mSec)</td>\n",
       "    </tr>\n",
       "    <tr>\n",
       "      <th>27</th>\n",
       "      <td>dinpkt</td>\n",
       "      <td>Float</td>\n",
       "      <td>Destination interpacket arrival time (mSec)</td>\n",
       "    </tr>\n",
       "    <tr>\n",
       "      <th>28</th>\n",
       "      <td>tcprtt</td>\n",
       "      <td>Float</td>\n",
       "      <td>TCP connection setup round-trip time, the sum ...</td>\n",
       "    </tr>\n",
       "    <tr>\n",
       "      <th>29</th>\n",
       "      <td>synack</td>\n",
       "      <td>Float</td>\n",
       "      <td>TCP connection setup time, the time between th...</td>\n",
       "    </tr>\n",
       "    <tr>\n",
       "      <th>30</th>\n",
       "      <td>ackdat</td>\n",
       "      <td>Float</td>\n",
       "      <td>TCP connection setup time, the time between th...</td>\n",
       "    </tr>\n",
       "    <tr>\n",
       "      <th>31</th>\n",
       "      <td>is_sm_ips_ports</td>\n",
       "      <td>Binary</td>\n",
       "      <td>If source (1) and destination (3)IP addresses ...</td>\n",
       "    </tr>\n",
       "    <tr>\n",
       "      <th>32</th>\n",
       "      <td>ct_state_ttl</td>\n",
       "      <td>Integer</td>\n",
       "      <td>No. for each state (6) according to specific r...</td>\n",
       "    </tr>\n",
       "    <tr>\n",
       "      <th>33</th>\n",
       "      <td>ct_flw_http_mthd</td>\n",
       "      <td>Integer</td>\n",
       "      <td>No. of flows that has methods such as Get and ...</td>\n",
       "    </tr>\n",
       "    <tr>\n",
       "      <th>34</th>\n",
       "      <td>is_ftp_login</td>\n",
       "      <td>Binary</td>\n",
       "      <td>If the ftp session is accessed by user and pas...</td>\n",
       "    </tr>\n",
       "    <tr>\n",
       "      <th>35</th>\n",
       "      <td>ct_ftp_cmd</td>\n",
       "      <td>integer</td>\n",
       "      <td>No of flows that has a command in ftp session.</td>\n",
       "    </tr>\n",
       "    <tr>\n",
       "      <th>36</th>\n",
       "      <td>ct_srv_src</td>\n",
       "      <td>integer</td>\n",
       "      <td>No. of connections that contain the same servi...</td>\n",
       "    </tr>\n",
       "    <tr>\n",
       "      <th>37</th>\n",
       "      <td>ct_srv_dst</td>\n",
       "      <td>integer</td>\n",
       "      <td>No. of connections that contain the same servi...</td>\n",
       "    </tr>\n",
       "    <tr>\n",
       "      <th>38</th>\n",
       "      <td>ct_dst_ltm</td>\n",
       "      <td>integer</td>\n",
       "      <td>No. of connections of the same destination add...</td>\n",
       "    </tr>\n",
       "    <tr>\n",
       "      <th>39</th>\n",
       "      <td>ct_src_ltm</td>\n",
       "      <td>integer</td>\n",
       "      <td>No. of connections of the same source address ...</td>\n",
       "    </tr>\n",
       "    <tr>\n",
       "      <th>40</th>\n",
       "      <td>ct_src_dport_ltm</td>\n",
       "      <td>integer</td>\n",
       "      <td>No of connections of the same source address (...</td>\n",
       "    </tr>\n",
       "    <tr>\n",
       "      <th>41</th>\n",
       "      <td>ct_dst_sport_ltm</td>\n",
       "      <td>integer</td>\n",
       "      <td>No of connections of the same destination addr...</td>\n",
       "    </tr>\n",
       "    <tr>\n",
       "      <th>42</th>\n",
       "      <td>ct_dst_src_ltm</td>\n",
       "      <td>integer</td>\n",
       "      <td>No of connections of the same source (1) and t...</td>\n",
       "    </tr>\n",
       "    <tr>\n",
       "      <th>43</th>\n",
       "      <td>attack_cat</td>\n",
       "      <td>nominal</td>\n",
       "      <td>The name of each attack category. In this data...</td>\n",
       "    </tr>\n",
       "    <tr>\n",
       "      <th>44</th>\n",
       "      <td>label</td>\n",
       "      <td>binary</td>\n",
       "      <td>0 for normal and 1 for attack records</td>\n",
       "    </tr>\n",
       "  </tbody>\n",
       "</table>\n",
       "</div>"
      ],
      "text/plain": [
       "                 Name      Type   \\\n",
       "0               proto    nominal   \n",
       "1               state    nominal   \n",
       "2                 dur      Float   \n",
       "3              sbytes    Integer   \n",
       "4              dbytes    Integer   \n",
       "5                sttl    Integer   \n",
       "6                dttl    Integer   \n",
       "7               sloss    Integer   \n",
       "8               dloss    Integer   \n",
       "9             service    nominal   \n",
       "10              sload      Float   \n",
       "11              dload      Float   \n",
       "12              spkts    integer   \n",
       "13              dpkts    integer   \n",
       "14               swin    integer   \n",
       "15               dwin    integer   \n",
       "16              stcpb    integer   \n",
       "17              dtcpb    integer   \n",
       "18              smean    integer   \n",
       "19              dmean    integer   \n",
       "20        trans_depth    integer   \n",
       "21  response_body_len    integer   \n",
       "22               sjit      Float   \n",
       "23               djit      Float   \n",
       "24              stime  Timestamp   \n",
       "25              ltime  Timestamp   \n",
       "26             sinpkt      Float   \n",
       "27             dinpkt      Float   \n",
       "28             tcprtt      Float   \n",
       "29             synack      Float   \n",
       "30             ackdat      Float   \n",
       "31    is_sm_ips_ports     Binary   \n",
       "32       ct_state_ttl    Integer   \n",
       "33   ct_flw_http_mthd    Integer   \n",
       "34       is_ftp_login     Binary   \n",
       "35         ct_ftp_cmd    integer   \n",
       "36         ct_srv_src    integer   \n",
       "37         ct_srv_dst    integer   \n",
       "38         ct_dst_ltm    integer   \n",
       "39         ct_src_ltm    integer   \n",
       "40   ct_src_dport_ltm    integer   \n",
       "41   ct_dst_sport_ltm    integer   \n",
       "42     ct_dst_src_ltm    integer   \n",
       "43         attack_cat    nominal   \n",
       "44              label     binary   \n",
       "\n",
       "                                          Description  \n",
       "0                                Transaction protocol  \n",
       "1   Indicates to the state and its dependent proto...  \n",
       "2                               Record total duration  \n",
       "3            Source to destination transaction bytes   \n",
       "4             Destination to source transaction bytes  \n",
       "5           Source to destination time to live value   \n",
       "6            Destination to source time to live value  \n",
       "7            Source packets retransmitted or dropped   \n",
       "8        Destination packets retransmitted or dropped  \n",
       "9   http, ftp, smtp, ssh, dns, ftp-data ,irc  and ...  \n",
       "10                             Source bits per second  \n",
       "11                        Destination bits per second  \n",
       "12                Source to destination packet count   \n",
       "13                 Destination to source packet count  \n",
       "14              Source TCP window advertisement value  \n",
       "15         Destination TCP window advertisement value  \n",
       "16                    Source TCP base sequence number  \n",
       "17               Destination TCP base sequence number  \n",
       "18  Mean of the ?ow packet size transmitted by the...  \n",
       "19  Mean of the ?ow packet size transmitted by the...  \n",
       "20  Represents the pipelined depth into the connec...  \n",
       "21  Actual uncompressed content size of the data t...  \n",
       "22                               Source jitter (mSec)  \n",
       "23                          Destination jitter (mSec)  \n",
       "24                                  record start time  \n",
       "25                                   record last time  \n",
       "26             Source interpacket arrival time (mSec)  \n",
       "27        Destination interpacket arrival time (mSec)  \n",
       "28  TCP connection setup round-trip time, the sum ...  \n",
       "29  TCP connection setup time, the time between th...  \n",
       "30  TCP connection setup time, the time between th...  \n",
       "31  If source (1) and destination (3)IP addresses ...  \n",
       "32  No. for each state (6) according to specific r...  \n",
       "33  No. of flows that has methods such as Get and ...  \n",
       "34  If the ftp session is accessed by user and pas...  \n",
       "35     No of flows that has a command in ftp session.  \n",
       "36  No. of connections that contain the same servi...  \n",
       "37  No. of connections that contain the same servi...  \n",
       "38  No. of connections of the same destination add...  \n",
       "39  No. of connections of the same source address ...  \n",
       "40  No of connections of the same source address (...  \n",
       "41  No of connections of the same destination addr...  \n",
       "42  No of connections of the same source (1) and t...  \n",
       "43  The name of each attack category. In this data...  \n",
       "44              0 for normal and 1 for attack records  "
      ]
     },
     "execution_count": 37,
     "metadata": {},
     "output_type": "execute_result"
    },
    {
     "data": {
      "text/plain": [
       "<Figure size 1296x360 with 0 Axes>"
      ]
     },
     "execution_count": 37,
     "metadata": {},
     "output_type": "execute_result"
    },
    {
     "data": {
      "text/plain": [
       "<AxesSubplot:>"
      ]
     },
     "execution_count": 37,
     "metadata": {},
     "output_type": "execute_result"
    },
    {
     "data": {
      "image/png": "[encoded data removed]",
      "text/plain": [
       "<Figure size 1296x360 with 1 Axes>"
      ]
     },
     "metadata": {
      "needs_background": "light"
     },
     "output_type": "display_data"
    }
   ],
   "source": [
    "features.shape\n",
    "features.describe()\n",
    "features.head(features.shape[0])\n",
    "\n",
    "plt.figure(figsize = (18,5))\n",
    "test.isnull().sum().plot(kind='bar',color=sns.color_palette(\"husl\", 8))"
   ]
  },
  {
   "cell_type": "code",
   "execution_count": 38,
   "metadata": {},
   "outputs": [],
   "source": [
    "#to combine test-train for evaluation\n",
    "\n",
    "df = pd.concat([test.assign(ind=\"test\"), train.assign(ind=\"train\")])\n",
    "\n",
    "# to separate again back to original\n",
    "# test, train = df[df[\"ind\"].eq(\"test\")], df[df[\"ind\"].eq(\"train\")]\n"
   ]
  },
  {
   "cell_type": "markdown",
   "metadata": {},
   "source": [
    "## 2.1 Defining Data Scope\n",
    "Looking at the event list, binning based on Attack category, sub category\n",
    "    \n",
    "Records that were removed:\n",
    "- proto\n",
    "- rate\n",
    "- other categorical features\n",
    "- values that didn't seem applicable"
   ]
  },
  {
   "cell_type": "code",
   "execution_count": 39,
   "metadata": {},
   "outputs": [
    {
     "data": {
      "text/plain": [
       "(208, 2)"
      ]
     },
     "execution_count": 39,
     "metadata": {},
     "output_type": "execute_result"
    },
    {
     "data": {
      "text/html": [
       "<div>\n",
       "<style scoped>\n",
       "    .dataframe tbody tr th:only-of-type {\n",
       "        vertical-align: middle;\n",
       "    }\n",
       "\n",
       "    .dataframe tbody tr th {\n",
       "        vertical-align: top;\n",
       "    }\n",
       "\n",
       "    .dataframe thead th {\n",
       "        text-align: right;\n",
       "    }\n",
       "</style>\n",
       "<table border=\"1\" class=\"dataframe\">\n",
       "  <thead>\n",
       "    <tr style=\"text-align: right;\">\n",
       "      <th></th>\n",
       "      <th>Attack subcategory</th>\n",
       "      <th>Number of events</th>\n",
       "    </tr>\n",
       "    <tr>\n",
       "      <th>Attack category</th>\n",
       "      <th></th>\n",
       "      <th></th>\n",
       "    </tr>\n",
       "  </thead>\n",
       "  <tbody>\n",
       "    <tr>\n",
       "      <th>normal</th>\n",
       "      <td>NaN</td>\n",
       "      <td>2218761</td>\n",
       "    </tr>\n",
       "    <tr>\n",
       "      <th>Fuzzers</th>\n",
       "      <td>FTP</td>\n",
       "      <td>558</td>\n",
       "    </tr>\n",
       "    <tr>\n",
       "      <th>Fuzzers</th>\n",
       "      <td>HTTP</td>\n",
       "      <td>1497</td>\n",
       "    </tr>\n",
       "    <tr>\n",
       "      <th>Fuzzers</th>\n",
       "      <td>RIP</td>\n",
       "      <td>3550</td>\n",
       "    </tr>\n",
       "    <tr>\n",
       "      <th>Fuzzers</th>\n",
       "      <td>SMB</td>\n",
       "      <td>5245</td>\n",
       "    </tr>\n",
       "    <tr>\n",
       "      <th>...</th>\n",
       "      <td>...</td>\n",
       "      <td>...</td>\n",
       "    </tr>\n",
       "    <tr>\n",
       "      <th>Shellcode</th>\n",
       "      <td>Decoders</td>\n",
       "      <td>18</td>\n",
       "    </tr>\n",
       "    <tr>\n",
       "      <th>Shellcode</th>\n",
       "      <td>Multiple OS</td>\n",
       "      <td>10</td>\n",
       "    </tr>\n",
       "    <tr>\n",
       "      <th>Shellcode</th>\n",
       "      <td>Solaris</td>\n",
       "      <td>12</td>\n",
       "    </tr>\n",
       "    <tr>\n",
       "      <th>Worms</th>\n",
       "      <td></td>\n",
       "      <td>174</td>\n",
       "    </tr>\n",
       "    <tr>\n",
       "      <th>NaN</th>\n",
       "      <td>Total</td>\n",
       "      <td>2540044</td>\n",
       "    </tr>\n",
       "  </tbody>\n",
       "</table>\n",
       "<p>208 rows × 2 columns</p>\n",
       "</div>"
      ],
      "text/plain": [
       "                Attack subcategory  Number of events\n",
       "Attack category                                     \n",
       "normal                         NaN           2218761\n",
       " Fuzzers                       FTP               558\n",
       " Fuzzers                      HTTP              1497\n",
       " Fuzzers                       RIP              3550\n",
       " Fuzzers                       SMB              5245\n",
       "...                            ...               ...\n",
       "Shellcode                 Decoders                18\n",
       "Shellcode              Multiple OS                10\n",
       "Shellcode                  Solaris                12\n",
       "Worms                                            174\n",
       "NaN                         Total            2540044\n",
       "\n",
       "[208 rows x 2 columns]"
      ]
     },
     "execution_count": 39,
     "metadata": {},
     "output_type": "execute_result"
    },
    {
     "data": {
      "text/plain": [
       "array([nan, 'FTP', 'HTTP', 'RIP', 'SMB', 'Syslog', 'PPTP', ' FTP',\n",
       "       'DCERPC', 'OSPF', 'TFTP', ' DCERPC ', ' OSPF', 'BGP', 'Telnet',\n",
       "       'SNMP', ' SunRPC Portmapper (TCP) UDP Service',\n",
       "       ' SunRPC Portmapper (TCP) TCP Service ',\n",
       "       'SunRPC Portmapper (UDP) UDP Service', 'NetBIOS', 'DNS',\n",
       "       'SunRPC Portmapper (UDP)', ' ICMP', ' SCTP', 'MSSQL', 'SMTP',\n",
       "       'FreeBSD', 'HP-UX ', 'NetBSD ', 'AIX', 'SCO Unix', 'Linux',\n",
       "       'Decoders', 'IRIX', 'OpenBSD', ' Mac OS X', 'BSD', 'Windows',\n",
       "       'BSDi', 'Multiple OS', 'Solaris', 'HTML', 'Port Scanner', 'Spam ',\n",
       "       ' ', ' Ethernet', ' Microsoft Office', ' VNC', 'IRC', 'RDP', 'TCP',\n",
       "       'VNC', ' LDAP', ' Oracle ', ' TCP', ' TFTP', 'XINETD', ' IRC',\n",
       "       ' SNMP', 'ISAKMP', 'NTP', 'CUPS', 'Hypervisor', 'ICMP', 'SunRPC',\n",
       "       ' IMAP', 'Asterisk', 'Browser', 'Cisco Skinny', 'SIP', 'SSL',\n",
       "       ' SMTP', 'IIS Web Server', 'Miscellaneous', 'RTSP',\n",
       "       ' Common Unix Print System (CUPS)', ' SunRPC', 'IGMP',\n",
       "       'Microsoft Office', 'LDAP', 'NetBIOS/SMB', 'Oracle',\n",
       "       'Windows Explorer', ' Evasions', ' SCCP', ' SSL ',\n",
       "       'Backup Appliance', 'Browser ', 'Clientside Microsoft Office',\n",
       "       'Interbase', 'Miscellaneous Batch', 'SOCKS', ' Apache',\n",
       "       ' Microsoft IIS', ' SOCKS', 'Clientside',\n",
       "       'Clientside Microsoft Paint ', 'IDS', 'SSH', ' IDS', 'DCERPC ',\n",
       "       'RADIUS', 'WINS ', ' Clientside', ' Clientside Microsoft ',\n",
       "       ' POP3', ' SSH', ' Unix r Service', ' WINS', 'Cisco IOS',\n",
       "       'Clientside Microsoft Media Player ', 'Dameware', 'IMAP', 'LPD ',\n",
       "       'MSSQL ', 'Office Document', 'SCADA', 'Webserver', ' All', ' NNTP',\n",
       "       ' Office Document', ' RTSP', 'RDesktop', \"Unix 'r' Service\",\n",
       "       ' LPD', 'All ', 'Apache', 'ICMP ', 'Microsoft IIS', 'PHP',\n",
       "       'Web Application', ' PHP', 'Evasions', 'NNTP', ' RADIUS',\n",
       "       'Browser FTP', 'SCCP', 'All', ' HTTP', ' IXIA', 'IXIA',\n",
       "       'Superflow', 'SunRPC Portmapper (UDP) TCP Service', 'NetBIOS ',\n",
       "       'SCTP', 'SunRPC Portmapper (TCP) TCP Service',\n",
       "       'SunRPC Portmapper (TCP) UDP Service',\n",
       "       ' SunRPC Portmapper (UDP) UDP Service ', ' SCO Unix ', 'HP-UX',\n",
       "       'Mac OS X', 'NetBSD', 'Total '], dtype=object)"
      ]
     },
     "execution_count": 39,
     "metadata": {},
     "output_type": "execute_result"
    }
   ],
   "source": [
    "event_list.shape\n",
    "event_list.head(event_list.shape[0])\n",
    "event_list['Attack subcategory'].unique()"
   ]
  },
  {
   "cell_type": "code",
   "execution_count": 40,
   "metadata": {},
   "outputs": [
    {
     "data": {
      "text/plain": [
       "<Figure size 1440x936 with 0 Axes>"
      ]
     },
     "execution_count": 40,
     "metadata": {},
     "output_type": "execute_result"
    },
    {
     "data": {
      "text/plain": [
       "<AxesSubplot:>"
      ]
     },
     "execution_count": 40,
     "metadata": {},
     "output_type": "execute_result"
    },
    {
     "data": {
      "image/png": "[encoded data removed]",
      "text/plain": [
       "<Figure size 1440x936 with 1 Axes>"
      ]
     },
     "metadata": {
      "needs_background": "light"
     },
     "output_type": "display_data"
    }
   ],
   "source": [
    "# Plot correlation matrix\n",
    "plt.figure(figsize=(20,13))\n",
    "sns.heatmap(df.corr(),\n",
    "            cmap='coolwarm',\n",
    "            annot=False,\n",
    "            fmt=\".2f\",\n",
    "            annot_kws={'size':16},\n",
    "            cbar=False)"
   ]
  },
  {
   "cell_type": "markdown",
   "metadata": {},
   "source": [
    "## 2.2 Transform into Binary Classification Problem\n",
    "A new column that translates the loan approval or denial decision will be used as the binary target to classify individuuals who are identified as approved for a mortgage loan."
   ]
  },
  {
   "cell_type": "code",
   "execution_count": 6,
   "metadata": {},
   "outputs": [],
   "source": [
    "# Turn into a binary classification problem\n",
    "df.loc[df.action_taken == 3, 'action_taken'] = 0"
   ]
  },
  {
   "cell_type": "markdown",
   "metadata": {},
   "source": [
    "## 2.3 Outlier Detection and Handling \n",
    "Records that were among the top 2% of loan amount values were classified as outliers and removed to balance the dataset. Similarly, records that were among the top 3% and bottom 1% of income levels were classified as outliers and removed."
   ]
  },
  {
   "cell_type": "code",
   "execution_count": 7,
   "metadata": {},
   "outputs": [
    {
     "name": "stdout",
     "output_type": "stream",
     "text": [
      "Top 2% of loan amounts:  865000.0 \n",
      "Bottom 1% of income levels:  0.0 \n",
      "Top 3% of income levels:  319.0\n"
     ]
    }
   ],
   "source": [
    "# Detect outliers by using quantile threshold\n",
    "print(\"Top 2% of loan amounts: \",df['loan_amount'].quantile(.98),\"\\nBottom 1% of income levels: \",df['income'].quantile(.01),\"\\nTop 3% of income levels: \",df['income'].quantile(.97))\n",
    "\n",
    "# Remove the top 2% of loan amount values as they are outliers\n",
    "df = df[(df['loan_amount']<df['loan_amount'].quantile(.98))]\n",
    "\n",
    "# Remove the top 3% and the bottom 1% of income values as they are outliers\n",
    "df = df[(df['income']>df['income'].quantile(.01))&(df['income']<df['income'].quantile(.97))]"
   ]
  },
  {
   "cell_type": "markdown",
   "metadata": {},
   "source": [
    "# 3. Feature Selection \n",
    "1. Create one model with hand picked features (HUD OG model). \n",
    "2. Create one model with features that were chosen using a SHAP feature selection implementation. \n",
    "3. Compare both models with TAP robust model evaluation techniques\n",
    "\n",
    "- ***Need understanding of why these features were selected***: selected by HUD SME\n",
    "- Do we want to use explainable techniques for feature selection? SHAP feature importance \n",
    "    - Compare SHAP feature selection to SME feature selection \n",
    "    "
   ]
  },
  {
   "cell_type": "code",
   "execution_count": 8,
   "metadata": {},
   "outputs": [],
   "source": [
    "columns = [\n",
    "    'income', \n",
    "    'debt_to_income_ratio',\n",
    "    'loan_to_value_ratio',\n",
    "    'loan_amount',\n",
    "    'derived_ethnicity', \n",
    "    'derived_race', \n",
    "    'derived_sex', \n",
    "    'applicant_age',\n",
    "    'preapproval',\n",
    "    'loan_type',\n",
    "    'loan_purpose',\n",
    "    'interest_only_payment',\n",
    "    'balloon_payment',\n",
    "    'action_taken']\n",
    "\n",
    "df = df[columns]\n",
    "# df=df.sample(n=100000) # Sample the data to address performance issues"
   ]
  },
  {
   "cell_type": "markdown",
   "metadata": {},
   "source": [
    "## 3.1 Mising Values\n",
    "*Need to look into missing value handling and potentially use a normalization technique similar to what was used in the HUD POC*"
   ]
  },
  {
   "cell_type": "code",
   "execution_count": 9,
   "metadata": {
    "scrolled": true
   },
   "outputs": [
    {
     "data": {
      "text/plain": [
       "<Figure size 1296x360 with 0 Axes>"
      ]
     },
     "execution_count": 9,
     "metadata": {},
     "output_type": "execute_result"
    },
    {
     "data": {
      "text/plain": [
       "<AxesSubplot:>"
      ]
     },
     "execution_count": 9,
     "metadata": {},
     "output_type": "execute_result"
    },
    {
     "data": {
      "image/png": "[encoded data removed]",
      "text/plain": [
       "<Figure size 1296x360 with 1 Axes>"
      ]
     },
     "metadata": {
      "needs_background": "light"
     },
     "output_type": "display_data"
    }
   ],
   "source": [
    "# Visualize missing values \n",
    "plt.figure(figsize = (18,5))\n",
    "df.isnull().sum().plot(kind='bar',color=sns.color_palette(\"husl\", 8))"
   ]
  },
  {
   "cell_type": "code",
   "execution_count": 10,
   "metadata": {},
   "outputs": [
    {
     "data": {
      "text/plain": [
       "(411840, 14)"
      ]
     },
     "execution_count": 10,
     "metadata": {},
     "output_type": "execute_result"
    }
   ],
   "source": [
    "# Drop missing values \n",
    "df = df.dropna()\n",
    "df.shape"
   ]
  },
  {
   "cell_type": "markdown",
   "metadata": {},
   "source": [
    "# 4. Exploratory Data Analysis"
   ]
  },
  {
   "cell_type": "code",
   "execution_count": 11,
   "metadata": {},
   "outputs": [
    {
     "data": {
      "text/plain": [
       "(411840, 14)"
      ]
     },
     "execution_count": 11,
     "metadata": {},
     "output_type": "execute_result"
    },
    {
     "data": {
      "text/html": [
       "<div>\n",
       "<style scoped>\n",
       "    .dataframe tbody tr th:only-of-type {\n",
       "        vertical-align: middle;\n",
       "    }\n",
       "\n",
       "    .dataframe tbody tr th {\n",
       "        vertical-align: top;\n",
       "    }\n",
       "\n",
       "    .dataframe thead th {\n",
       "        text-align: right;\n",
       "    }\n",
       "</style>\n",
       "<table border=\"1\" class=\"dataframe\">\n",
       "  <thead>\n",
       "    <tr style=\"text-align: right;\">\n",
       "      <th></th>\n",
       "      <th>income</th>\n",
       "      <th>loan_amount</th>\n",
       "      <th>preapproval</th>\n",
       "      <th>loan_type</th>\n",
       "      <th>loan_purpose</th>\n",
       "      <th>interest_only_payment</th>\n",
       "      <th>balloon_payment</th>\n",
       "      <th>action_taken</th>\n",
       "    </tr>\n",
       "  </thead>\n",
       "  <tbody>\n",
       "    <tr>\n",
       "      <th>count</th>\n",
       "      <td>411840.000000</td>\n",
       "      <td>411840.000000</td>\n",
       "      <td>411840.000000</td>\n",
       "      <td>411840.000000</td>\n",
       "      <td>411840.000000</td>\n",
       "      <td>411840.000000</td>\n",
       "      <td>411840.000000</td>\n",
       "      <td>411840.000000</td>\n",
       "    </tr>\n",
       "    <tr>\n",
       "      <th>mean</th>\n",
       "      <td>91.785145</td>\n",
       "      <td>246246.406371</td>\n",
       "      <td>1.968272</td>\n",
       "      <td>1.376348</td>\n",
       "      <td>14.144695</td>\n",
       "      <td>1.964406</td>\n",
       "      <td>1.993119</td>\n",
       "      <td>0.838306</td>\n",
       "    </tr>\n",
       "    <tr>\n",
       "      <th>std</th>\n",
       "      <td>51.532378</td>\n",
       "      <td>144411.579778</td>\n",
       "      <td>0.175276</td>\n",
       "      <td>0.702144</td>\n",
       "      <td>14.992965</td>\n",
       "      <td>0.185276</td>\n",
       "      <td>0.082668</td>\n",
       "      <td>0.368170</td>\n",
       "    </tr>\n",
       "    <tr>\n",
       "      <th>min</th>\n",
       "      <td>1.000000</td>\n",
       "      <td>5000.000000</td>\n",
       "      <td>1.000000</td>\n",
       "      <td>1.000000</td>\n",
       "      <td>1.000000</td>\n",
       "      <td>1.000000</td>\n",
       "      <td>1.000000</td>\n",
       "      <td>0.000000</td>\n",
       "    </tr>\n",
       "    <tr>\n",
       "      <th>25%</th>\n",
       "      <td>53.000000</td>\n",
       "      <td>145000.000000</td>\n",
       "      <td>2.000000</td>\n",
       "      <td>1.000000</td>\n",
       "      <td>1.000000</td>\n",
       "      <td>2.000000</td>\n",
       "      <td>2.000000</td>\n",
       "      <td>1.000000</td>\n",
       "    </tr>\n",
       "    <tr>\n",
       "      <th>50%</th>\n",
       "      <td>80.000000</td>\n",
       "      <td>215000.000000</td>\n",
       "      <td>2.000000</td>\n",
       "      <td>1.000000</td>\n",
       "      <td>1.000000</td>\n",
       "      <td>2.000000</td>\n",
       "      <td>2.000000</td>\n",
       "      <td>1.000000</td>\n",
       "    </tr>\n",
       "    <tr>\n",
       "      <th>75%</th>\n",
       "      <td>119.000000</td>\n",
       "      <td>325000.000000</td>\n",
       "      <td>2.000000</td>\n",
       "      <td>2.000000</td>\n",
       "      <td>31.000000</td>\n",
       "      <td>2.000000</td>\n",
       "      <td>2.000000</td>\n",
       "      <td>1.000000</td>\n",
       "    </tr>\n",
       "    <tr>\n",
       "      <th>max</th>\n",
       "      <td>270.000000</td>\n",
       "      <td>855000.000000</td>\n",
       "      <td>2.000000</td>\n",
       "      <td>4.000000</td>\n",
       "      <td>32.000000</td>\n",
       "      <td>2.000000</td>\n",
       "      <td>2.000000</td>\n",
       "      <td>1.000000</td>\n",
       "    </tr>\n",
       "  </tbody>\n",
       "</table>\n",
       "</div>"
      ],
      "text/plain": [
       "              income    loan_amount    preapproval      loan_type  \\\n",
       "count  411840.000000  411840.000000  411840.000000  411840.000000   \n",
       "mean       91.785145  246246.406371       1.968272       1.376348   \n",
       "std        51.532378  144411.579778       0.175276       0.702144   \n",
       "min         1.000000    5000.000000       1.000000       1.000000   \n",
       "25%        53.000000  145000.000000       2.000000       1.000000   \n",
       "50%        80.000000  215000.000000       2.000000       1.000000   \n",
       "75%       119.000000  325000.000000       2.000000       2.000000   \n",
       "max       270.000000  855000.000000       2.000000       4.000000   \n",
       "\n",
       "        loan_purpose  interest_only_payment  balloon_payment   action_taken  \n",
       "count  411840.000000          411840.000000    411840.000000  411840.000000  \n",
       "mean       14.144695               1.964406         1.993119       0.838306  \n",
       "std        14.992965               0.185276         0.082668       0.368170  \n",
       "min         1.000000               1.000000         1.000000       0.000000  \n",
       "25%         1.000000               2.000000         2.000000       1.000000  \n",
       "50%         1.000000               2.000000         2.000000       1.000000  \n",
       "75%        31.000000               2.000000         2.000000       1.000000  \n",
       "max        32.000000               2.000000         2.000000       1.000000  "
      ]
     },
     "execution_count": 11,
     "metadata": {},
     "output_type": "execute_result"
    },
    {
     "data": {
      "text/html": [
       "<div>\n",
       "<style scoped>\n",
       "    .dataframe tbody tr th:only-of-type {\n",
       "        vertical-align: middle;\n",
       "    }\n",
       "\n",
       "    .dataframe tbody tr th {\n",
       "        vertical-align: top;\n",
       "    }\n",
       "\n",
       "    .dataframe thead th {\n",
       "        text-align: right;\n",
       "    }\n",
       "</style>\n",
       "<table border=\"1\" class=\"dataframe\">\n",
       "  <thead>\n",
       "    <tr style=\"text-align: right;\">\n",
       "      <th></th>\n",
       "      <th>income</th>\n",
       "      <th>debt_to_income_ratio</th>\n",
       "      <th>loan_to_value_ratio</th>\n",
       "      <th>loan_amount</th>\n",
       "      <th>derived_ethnicity</th>\n",
       "      <th>derived_race</th>\n",
       "      <th>derived_sex</th>\n",
       "      <th>applicant_age</th>\n",
       "      <th>preapproval</th>\n",
       "      <th>loan_type</th>\n",
       "      <th>loan_purpose</th>\n",
       "      <th>interest_only_payment</th>\n",
       "      <th>balloon_payment</th>\n",
       "      <th>action_taken</th>\n",
       "    </tr>\n",
       "  </thead>\n",
       "  <tbody>\n",
       "    <tr>\n",
       "      <th>8578078</th>\n",
       "      <td>82.0</td>\n",
       "      <td>44</td>\n",
       "      <td>97.0</td>\n",
       "      <td>315000.0</td>\n",
       "      <td>Not Hispanic or Latino</td>\n",
       "      <td>White</td>\n",
       "      <td>Joint</td>\n",
       "      <td>35-44</td>\n",
       "      <td>2</td>\n",
       "      <td>2</td>\n",
       "      <td>1</td>\n",
       "      <td>2</td>\n",
       "      <td>2</td>\n",
       "      <td>1</td>\n",
       "    </tr>\n",
       "    <tr>\n",
       "      <th>14169566</th>\n",
       "      <td>200.0</td>\n",
       "      <td>48</td>\n",
       "      <td>75.0</td>\n",
       "      <td>555000.0</td>\n",
       "      <td>Not Hispanic or Latino</td>\n",
       "      <td>White</td>\n",
       "      <td>Joint</td>\n",
       "      <td>35-44</td>\n",
       "      <td>2</td>\n",
       "      <td>1</td>\n",
       "      <td>31</td>\n",
       "      <td>2</td>\n",
       "      <td>2</td>\n",
       "      <td>1</td>\n",
       "    </tr>\n",
       "    <tr>\n",
       "      <th>1981492</th>\n",
       "      <td>23.0</td>\n",
       "      <td>39</td>\n",
       "      <td>73.171</td>\n",
       "      <td>95000.0</td>\n",
       "      <td>Not Hispanic or Latino</td>\n",
       "      <td>White</td>\n",
       "      <td>Female</td>\n",
       "      <td>65-74</td>\n",
       "      <td>2</td>\n",
       "      <td>1</td>\n",
       "      <td>32</td>\n",
       "      <td>2</td>\n",
       "      <td>2</td>\n",
       "      <td>1</td>\n",
       "    </tr>\n",
       "    <tr>\n",
       "      <th>6045389</th>\n",
       "      <td>164.0</td>\n",
       "      <td>20%-&lt;30%</td>\n",
       "      <td>74.969</td>\n",
       "      <td>605000.0</td>\n",
       "      <td>Not Hispanic or Latino</td>\n",
       "      <td>Joint</td>\n",
       "      <td>Joint</td>\n",
       "      <td>25-34</td>\n",
       "      <td>2</td>\n",
       "      <td>1</td>\n",
       "      <td>31</td>\n",
       "      <td>2</td>\n",
       "      <td>2</td>\n",
       "      <td>1</td>\n",
       "    </tr>\n",
       "    <tr>\n",
       "      <th>5745138</th>\n",
       "      <td>78.0</td>\n",
       "      <td>50%-60%</td>\n",
       "      <td>84.06299999999999</td>\n",
       "      <td>275000.0</td>\n",
       "      <td>Hispanic or Latino</td>\n",
       "      <td>White</td>\n",
       "      <td>Joint</td>\n",
       "      <td>35-44</td>\n",
       "      <td>2</td>\n",
       "      <td>2</td>\n",
       "      <td>31</td>\n",
       "      <td>2</td>\n",
       "      <td>2</td>\n",
       "      <td>1</td>\n",
       "    </tr>\n",
       "  </tbody>\n",
       "</table>\n",
       "</div>"
      ],
      "text/plain": [
       "          income debt_to_income_ratio loan_to_value_ratio  loan_amount  \\\n",
       "8578078     82.0                   44                97.0     315000.0   \n",
       "14169566   200.0                   48                75.0     555000.0   \n",
       "1981492     23.0                   39              73.171      95000.0   \n",
       "6045389    164.0             20%-<30%              74.969     605000.0   \n",
       "5745138     78.0              50%-60%   84.06299999999999     275000.0   \n",
       "\n",
       "               derived_ethnicity derived_race derived_sex applicant_age  \\\n",
       "8578078   Not Hispanic or Latino        White       Joint         35-44   \n",
       "14169566  Not Hispanic or Latino        White       Joint         35-44   \n",
       "1981492   Not Hispanic or Latino        White      Female         65-74   \n",
       "6045389   Not Hispanic or Latino        Joint       Joint         25-34   \n",
       "5745138       Hispanic or Latino        White       Joint         35-44   \n",
       "\n",
       "          preapproval  loan_type  loan_purpose  interest_only_payment  \\\n",
       "8578078             2          2             1                      2   \n",
       "14169566            2          1            31                      2   \n",
       "1981492             2          1            32                      2   \n",
       "6045389             2          1            31                      2   \n",
       "5745138             2          2            31                      2   \n",
       "\n",
       "          balloon_payment  action_taken  \n",
       "8578078                 2             1  \n",
       "14169566                2             1  \n",
       "1981492                 2             1  \n",
       "6045389                 2             1  \n",
       "5745138                 2             1  "
      ]
     },
     "execution_count": 11,
     "metadata": {},
     "output_type": "execute_result"
    }
   ],
   "source": [
    "df.shape\n",
    "df.describe()\n",
    "df.head()"
   ]
  },
  {
   "cell_type": "markdown",
   "metadata": {},
   "source": [
    "#### Correlation Matrix"
   ]
  },
  {
   "cell_type": "code",
   "execution_count": 12,
   "metadata": {},
   "outputs": [
    {
     "data": {
      "text/html": [
       "<div>\n",
       "<style scoped>\n",
       "    .dataframe tbody tr th:only-of-type {\n",
       "        vertical-align: middle;\n",
       "    }\n",
       "\n",
       "    .dataframe tbody tr th {\n",
       "        vertical-align: top;\n",
       "    }\n",
       "\n",
       "    .dataframe thead th {\n",
       "        text-align: right;\n",
       "    }\n",
       "</style>\n",
       "<table border=\"1\" class=\"dataframe\">\n",
       "  <thead>\n",
       "    <tr style=\"text-align: right;\">\n",
       "      <th></th>\n",
       "      <th>income</th>\n",
       "      <th>loan_amount</th>\n",
       "      <th>preapproval</th>\n",
       "      <th>loan_type</th>\n",
       "      <th>loan_purpose</th>\n",
       "      <th>interest_only_payment</th>\n",
       "      <th>balloon_payment</th>\n",
       "      <th>action_taken</th>\n",
       "    </tr>\n",
       "  </thead>\n",
       "  <tbody>\n",
       "    <tr>\n",
       "      <th>income</th>\n",
       "      <td>1.000000</td>\n",
       "      <td>0.628878</td>\n",
       "      <td>-0.006068</td>\n",
       "      <td>-0.158702</td>\n",
       "      <td>0.068972</td>\n",
       "      <td>0.013876</td>\n",
       "      <td>0.020189</td>\n",
       "      <td>0.158705</td>\n",
       "    </tr>\n",
       "    <tr>\n",
       "      <th>loan_amount</th>\n",
       "      <td>0.628878</td>\n",
       "      <td>1.000000</td>\n",
       "      <td>-0.013278</td>\n",
       "      <td>-0.040056</td>\n",
       "      <td>0.044977</td>\n",
       "      <td>0.071811</td>\n",
       "      <td>0.069377</td>\n",
       "      <td>0.114650</td>\n",
       "    </tr>\n",
       "    <tr>\n",
       "      <th>preapproval</th>\n",
       "      <td>-0.006068</td>\n",
       "      <td>-0.013278</td>\n",
       "      <td>1.000000</td>\n",
       "      <td>-0.024944</td>\n",
       "      <td>0.158704</td>\n",
       "      <td>-0.028271</td>\n",
       "      <td>-0.011717</td>\n",
       "      <td>-0.079501</td>\n",
       "    </tr>\n",
       "    <tr>\n",
       "      <th>loan_type</th>\n",
       "      <td>-0.158702</td>\n",
       "      <td>-0.040056</td>\n",
       "      <td>-0.024944</td>\n",
       "      <td>1.000000</td>\n",
       "      <td>-0.145107</td>\n",
       "      <td>0.100210</td>\n",
       "      <td>0.044533</td>\n",
       "      <td>-0.024781</td>\n",
       "    </tr>\n",
       "    <tr>\n",
       "      <th>loan_purpose</th>\n",
       "      <td>0.068972</td>\n",
       "      <td>0.044977</td>\n",
       "      <td>0.158704</td>\n",
       "      <td>-0.145107</td>\n",
       "      <td>1.000000</td>\n",
       "      <td>0.014441</td>\n",
       "      <td>0.003436</td>\n",
       "      <td>-0.115472</td>\n",
       "    </tr>\n",
       "    <tr>\n",
       "      <th>interest_only_payment</th>\n",
       "      <td>0.013876</td>\n",
       "      <td>0.071811</td>\n",
       "      <td>-0.028271</td>\n",
       "      <td>0.100210</td>\n",
       "      <td>0.014441</td>\n",
       "      <td>1.000000</td>\n",
       "      <td>0.296792</td>\n",
       "      <td>0.063174</td>\n",
       "    </tr>\n",
       "    <tr>\n",
       "      <th>balloon_payment</th>\n",
       "      <td>0.020189</td>\n",
       "      <td>0.069377</td>\n",
       "      <td>-0.011717</td>\n",
       "      <td>0.044533</td>\n",
       "      <td>0.003436</td>\n",
       "      <td>0.296792</td>\n",
       "      <td>1.000000</td>\n",
       "      <td>0.011070</td>\n",
       "    </tr>\n",
       "    <tr>\n",
       "      <th>action_taken</th>\n",
       "      <td>0.158705</td>\n",
       "      <td>0.114650</td>\n",
       "      <td>-0.079501</td>\n",
       "      <td>-0.024781</td>\n",
       "      <td>-0.115472</td>\n",
       "      <td>0.063174</td>\n",
       "      <td>0.011070</td>\n",
       "      <td>1.000000</td>\n",
       "    </tr>\n",
       "  </tbody>\n",
       "</table>\n",
       "</div>"
      ],
      "text/plain": [
       "                         income  loan_amount  preapproval  loan_type  \\\n",
       "income                 1.000000     0.628878    -0.006068  -0.158702   \n",
       "loan_amount            0.628878     1.000000    -0.013278  -0.040056   \n",
       "preapproval           -0.006068    -0.013278     1.000000  -0.024944   \n",
       "loan_type             -0.158702    -0.040056    -0.024944   1.000000   \n",
       "loan_purpose           0.068972     0.044977     0.158704  -0.145107   \n",
       "interest_only_payment  0.013876     0.071811    -0.028271   0.100210   \n",
       "balloon_payment        0.020189     0.069377    -0.011717   0.044533   \n",
       "action_taken           0.158705     0.114650    -0.079501  -0.024781   \n",
       "\n",
       "                       loan_purpose  interest_only_payment  balloon_payment  \\\n",
       "income                     0.068972               0.013876         0.020189   \n",
       "loan_amount                0.044977               0.071811         0.069377   \n",
       "preapproval                0.158704              -0.028271        -0.011717   \n",
       "loan_type                 -0.145107               0.100210         0.044533   \n",
       "loan_purpose               1.000000               0.014441         0.003436   \n",
       "interest_only_payment      0.014441               1.000000         0.296792   \n",
       "balloon_payment            0.003436               0.296792         1.000000   \n",
       "action_taken              -0.115472               0.063174         0.011070   \n",
       "\n",
       "                       action_taken  \n",
       "income                     0.158705  \n",
       "loan_amount                0.114650  \n",
       "preapproval               -0.079501  \n",
       "loan_type                 -0.024781  \n",
       "loan_purpose              -0.115472  \n",
       "interest_only_payment      0.063174  \n",
       "balloon_payment            0.011070  \n",
       "action_taken               1.000000  "
      ]
     },
     "execution_count": 12,
     "metadata": {},
     "output_type": "execute_result"
    }
   ],
   "source": [
    "df.corr()"
   ]
  },
  {
   "cell_type": "markdown",
   "metadata": {},
   "source": [
    "#### Correlation Plot\n",
    "This may show us relationships between protected attributes or variables masked as proxies for those protected attribtues."
   ]
  },
  {
   "cell_type": "code",
   "execution_count": 13,
   "metadata": {},
   "outputs": [
    {
     "data": {
      "text/plain": [
       "<Figure size 1080x576 with 0 Axes>"
      ]
     },
     "execution_count": 13,
     "metadata": {},
     "output_type": "execute_result"
    },
    {
     "data": {
      "text/plain": [
       "<AxesSubplot:>"
      ]
     },
     "execution_count": 13,
     "metadata": {},
     "output_type": "execute_result"
    },
    {
     "data": {
      "image/png": "[encoded data removed]",
      "text/plain": [
       "<Figure size 1080x576 with 1 Axes>"
      ]
     },
     "metadata": {
      "needs_background": "light"
     },
     "output_type": "display_data"
    }
   ],
   "source": [
    "plt.figure(figsize=(15,8))\n",
    "sns.heatmap(df.corr(),\n",
    "           cmap='BuPu',\n",
    "           annot=True,\n",
    "           fmt=\".2f\",\n",
    "           annot_kws={'size':16},\n",
    "           cbar=False)"
   ]
  },
  {
   "cell_type": "markdown",
   "metadata": {},
   "source": [
    "#### Check Correlations among Variables"
   ]
  },
  {
   "cell_type": "code",
   "execution_count": 14,
   "metadata": {},
   "outputs": [
    {
     "data": {
      "text/plain": [
       "income                             loan_amount\n",
       "loan_amount                             income\n",
       "preapproval                       loan_purpose\n",
       "loan_type                interest_only_payment\n",
       "loan_purpose                       preapproval\n",
       "interest_only_payment          balloon_payment\n",
       "balloon_payment          interest_only_payment\n",
       "action_taken                            income\n",
       "dtype: object"
      ]
     },
     "execution_count": 14,
     "metadata": {},
     "output_type": "execute_result"
    }
   ],
   "source": [
    "correlations = df.corr()\n",
    "correlations.replace(1,0).idxmax()"
   ]
  },
  {
   "cell_type": "code",
   "execution_count": 15,
   "metadata": {},
   "outputs": [
    {
     "data": {
      "text/plain": [
       "<AxesSubplot:xlabel='income', ylabel='loan_amount'>"
      ]
     },
     "execution_count": 15,
     "metadata": {},
     "output_type": "execute_result"
    },
    {
     "data": {
      "image/png": "[encoded data removed]",
      "text/plain": [
       "<Figure size 432x288 with 1 Axes>"
      ]
     },
     "metadata": {
      "needs_background": "light"
     },
     "output_type": "display_data"
    }
   ],
   "source": [
    "df[['income','loan_amount']].plot.scatter('income','loan_amount')"
   ]
  },
  {
   "cell_type": "markdown",
   "metadata": {},
   "source": [
    "#### Check for Categorical Variables"
   ]
  },
  {
   "cell_type": "code",
   "execution_count": 16,
   "metadata": {},
   "outputs": [
    {
     "name": "stdout",
     "output_type": "stream",
     "text": [
      "Unique Values in  debt_to_income_ratio ['44' '48' '39' '20%-<30%' '50%-60%' '30%-<36%' '47' '40' '38' '41' '>60%'\n",
      " '<20%' '49' '37' '36' '45' '43' '46' '42' 'Exempt']\n",
      "20%-<30%    75405\n",
      "30%-<36%    69976\n",
      "50%-60%     33099\n",
      "<20%        24705\n",
      "44          17369\n",
      "42          16364\n",
      ">60%        15893\n",
      "43          15236\n",
      "40          15059\n",
      "41          15009\n",
      "39          14529\n",
      "38          14007\n",
      "49          13754\n",
      "37          13634\n",
      "36          13010\n",
      "45          12034\n",
      "48          11241\n",
      "46          10814\n",
      "47          10700\n",
      "Exempt          2\n",
      "Name: debt_to_income_ratio, dtype: int64\n",
      "Unique Values in  loan_to_value_ratio ['97.0' '75.0' '73.171' ... '93.241' '103.406' '60.728']\n",
      "80.0      46981\n",
      "95.0      28015\n",
      "96.5      27943\n",
      "100.0     23145\n",
      "90.0      15183\n",
      "          ...  \n",
      "60.887        1\n",
      "94.914        1\n",
      "32.751        1\n",
      "82.001        1\n",
      "38.777        1\n",
      "Name: loan_to_value_ratio, Length: 58232, dtype: int64\n",
      "Unique Values in  derived_ethnicity ['Not Hispanic or Latino' 'Hispanic or Latino' 'Ethnicity Not Available'\n",
      " 'Joint']\n",
      "Not Hispanic or Latino     305904\n",
      "Ethnicity Not Available     55975\n",
      "Hispanic or Latino          41325\n",
      "Joint                        8636\n",
      "Name: derived_ethnicity, dtype: int64\n",
      "Unique Values in  derived_race ['White' 'Joint' 'Race Not Available' 'Black or African American' 'Asian'\n",
      " 'American Indian or Alaska Native' '2 or more minority races'\n",
      " 'Native Hawaiian or Other Pacific Islander']\n",
      "White                                        293341\n",
      "Race Not Available                            57037\n",
      "Black or African American                     28567\n",
      "Asian                                         21463\n",
      "Joint                                          7731\n",
      "American Indian or Alaska Native               2009\n",
      "Native Hawaiian or Other Pacific Islander      1069\n",
      "2 or more minority races                        623\n",
      "Name: derived_race, dtype: int64\n",
      "Unique Values in  derived_sex ['Joint' 'Female' 'Male' 'Sex Not Available']\n",
      "Joint                153805\n",
      "Male                 134275\n",
      "Female                92950\n",
      "Sex Not Available     30810\n",
      "Name: derived_sex, dtype: int64\n",
      "Unique Values in  applicant_age ['35-44' '65-74' '25-34' '>74' '45-54' '55-64' '<25']\n",
      "35-44    99000\n",
      "25-34    91921\n",
      "45-54    83165\n",
      "55-64    67510\n",
      "65-74    41585\n",
      ">74      14798\n",
      "<25      13861\n",
      "Name: applicant_age, dtype: int64\n"
     ]
    }
   ],
   "source": [
    "cat_cols = df.loc[:,df.dtypes=='object'].columns\n",
    "for column in cat_cols:\n",
    "    print('Unique Values in ', column, df[column].unique())\n",
    "    print(df[column].value_counts())"
   ]
  },
  {
   "cell_type": "markdown",
   "metadata": {},
   "source": [
    "#### Target: Loan Origination \n",
    "The target variable, the action taken, is highly imbalanced, with more of the dataset having loan origination outcomes. "
   ]
  },
  {
   "cell_type": "code",
   "execution_count": 17,
   "metadata": {},
   "outputs": [
    {
     "name": "stdout",
     "output_type": "stream",
     "text": [
      "1    345248\n",
      "0     66592\n",
      "Name: action_taken, dtype: int64\n",
      "AxesSubplot(0.125,0.125;0.775x0.755)\n"
     ]
    },
    {
     "data": {
      "image/png": "[encoded data removed]",
      "text/plain": [
       "<Figure size 432x288 with 1 Axes>"
      ]
     },
     "metadata": {
      "needs_background": "light"
     },
     "output_type": "display_data"
    }
   ],
   "source": [
    "print(df['action_taken'].value_counts())\n",
    "print(df['action_taken'].value_counts().plot(kind='bar',color=\"yellowgreen\"))"
   ]
  },
  {
   "cell_type": "markdown",
   "metadata": {},
   "source": [
    "#### Income\n",
    "The income feature is skewed to the right, with more of the dataset having lower income levels. "
   ]
  },
  {
   "cell_type": "code",
   "execution_count": 18,
   "metadata": {},
   "outputs": [
    {
     "data": {
      "text/plain": [
       "(array([ 3672., 13279., 38585., 51854., 56701., 47164., 42746., 32447.,\n",
       "        29112., 21464., 16378., 14532., 10498.,  8579.,  6696.,  5375.,\n",
       "         4020.,  3583.,  2840.,  2315.]),\n",
       " array([  1.  ,  14.45,  27.9 ,  41.35,  54.8 ,  68.25,  81.7 ,  95.15,\n",
       "        108.6 , 122.05, 135.5 , 148.95, 162.4 , 175.85, 189.3 , 202.75,\n",
       "        216.2 , 229.65, 243.1 , 256.55, 270.  ]),\n",
       " <BarContainer object of 20 artists>)"
      ]
     },
     "execution_count": 18,
     "metadata": {},
     "output_type": "execute_result"
    },
    {
     "data": {
      "image/png": "[encoded data removed]",
      "text/plain": [
       "<Figure size 432x288 with 1 Axes>"
      ]
     },
     "metadata": {
      "needs_background": "light"
     },
     "output_type": "display_data"
    }
   ],
   "source": [
    "plt.hist(df['income'],bins = 20, color='yellowgreen')"
   ]
  },
  {
   "cell_type": "markdown",
   "metadata": {},
   "source": [
    "#### Debt to Income Ratio\n",
    "Bin the debt to income ratio feature "
   ]
  },
  {
   "cell_type": "code",
   "execution_count": 19,
   "metadata": {},
   "outputs": [],
   "source": [
    "def getDebtIncomeRatio(var):\n",
    "    value = 'NaN'\n",
    "    if (var)=='36':\n",
    "        value = '36-39'\n",
    "    elif (var)=='37':\n",
    "        value = '36-39'\n",
    "    elif (var)=='38':\n",
    "        value = '36-39'\n",
    "    elif (var)=='39':\n",
    "        value = '36-39'\n",
    "    elif (var)=='40':\n",
    "        value = '40-45'\n",
    "    elif (var)=='41':\n",
    "        value = '40-45'\n",
    "    elif (var)=='42':\n",
    "        value = '40-45'\n",
    "    elif (var)=='43':\n",
    "        value = '40-45'\n",
    "    elif (var)=='44':\n",
    "        value = '40-45'\n",
    "    elif (var)=='45':\n",
    "        value = '40-45'\n",
    "    elif (var)=='46':\n",
    "        value = '46-49'   \n",
    "    elif (var)=='47':\n",
    "        value = '46-49'  \n",
    "    elif (var)=='48':\n",
    "        value = '46-49'  \n",
    "    elif (var)=='49':\n",
    "        value = '46-49'  \n",
    "    else: \n",
    "        value = var\n",
    "    return(value)"
   ]
  },
  {
   "cell_type": "code",
   "execution_count": 20,
   "metadata": {},
   "outputs": [
    {
     "data": {
      "text/plain": [
       "40-45       91071\n",
       "20%-<30%    75405\n",
       "30%-<36%    69976\n",
       "36-39       55180\n",
       "46-49       46509\n",
       "50%-60%     33099\n",
       "<20%        24705\n",
       ">60%        15893\n",
       "Exempt          2\n",
       "Name: debt_to_income_ratio, dtype: int64"
      ]
     },
     "execution_count": 20,
     "metadata": {},
     "output_type": "execute_result"
    }
   ],
   "source": [
    "df['debt_to_income_ratio'] = df['debt_to_income_ratio'].apply(lambda x: getDebtIncomeRatio(x))\n",
    "df['debt_to_income_ratio'].value_counts()"
   ]
  },
  {
   "cell_type": "markdown",
   "metadata": {},
   "source": [
    "#### Loan to Value Ratio\n",
    "The loan to value ratio feature is skewed to the right, with more of the dataset having lower debt to income ratios. "
   ]
  },
  {
   "cell_type": "code",
   "execution_count": 21,
   "metadata": {},
   "outputs": [
    {
     "data": {
      "text/plain": [
       "(array([12155., 30890., 45780., 53347., 65411., 47212., 36990., 29971.,\n",
       "        27399., 16374., 12702., 11406.,  6337.,  4140.,  3499.,  2652.,\n",
       "         2853.,  1195.,   749.,   778.]),\n",
       " array([  5000.,  47500.,  90000., 132500., 175000., 217500., 260000.,\n",
       "        302500., 345000., 387500., 430000., 472500., 515000., 557500.,\n",
       "        600000., 642500., 685000., 727500., 770000., 812500., 855000.]),\n",
       " <BarContainer object of 20 artists>)"
      ]
     },
     "execution_count": 21,
     "metadata": {},
     "output_type": "execute_result"
    },
    {
     "data": {
      "image/png": "[encoded data removed]",
      "text/plain": [
       "<Figure size 432x288 with 1 Axes>"
      ]
     },
     "metadata": {
      "needs_background": "light"
     },
     "output_type": "display_data"
    }
   ],
   "source": [
    "plt.hist(df['loan_amount'],bins = 20, color='yellowgreen')"
   ]
  },
  {
   "cell_type": "markdown",
   "metadata": {},
   "source": [
    "#### Protected Classes"
   ]
  },
  {
   "cell_type": "code",
   "execution_count": 22,
   "metadata": {},
   "outputs": [],
   "source": [
    "protectedClassCols = ['derived_ethnicity',\n",
    " 'derived_race',\n",
    " 'derived_sex',\n",
    " 'applicant_age']"
   ]
  },
  {
   "cell_type": "markdown",
   "metadata": {},
   "source": [
    "#### Ethnicity Categories\n",
    "After filtering the dataset, the ethnicity break down: "
   ]
  },
  {
   "cell_type": "code",
   "execution_count": 23,
   "metadata": {},
   "outputs": [
    {
     "data": {
      "text/plain": [
       "Not Hispanic or Latino     0.742774\n",
       "Ethnicity Not Available    0.135914\n",
       "Hispanic or Latino         0.100342\n",
       "Joint                      0.020969\n",
       "Name: derived_ethnicity, dtype: float64"
      ]
     },
     "execution_count": 23,
     "metadata": {},
     "output_type": "execute_result"
    },
    {
     "name": "stdout",
     "output_type": "stream",
     "text": [
      "AxesSubplot(0.125,0.125;0.775x0.755)\n"
     ]
    },
    {
     "data": {
      "image/png": "[encoded data removed]",
      "text/plain": [
       "<Figure size 432x288 with 1 Axes>"
      ]
     },
     "metadata": {
      "needs_background": "light"
     },
     "output_type": "display_data"
    }
   ],
   "source": [
    "df['derived_ethnicity'].value_counts(normalize = True)\n",
    "print(df['derived_ethnicity'].value_counts().plot(kind='bar',color=sns.color_palette(\"husl\", 8)))"
   ]
  },
  {
   "cell_type": "markdown",
   "metadata": {},
   "source": [
    "#### Race Categories\n",
    "After filtering the dataset, the race demographic groups break down: "
   ]
  },
  {
   "cell_type": "code",
   "execution_count": 24,
   "metadata": {},
   "outputs": [
    {
     "data": {
      "text/plain": [
       "White                                        0.712269\n",
       "Race Not Available                           0.138493\n",
       "Black or African American                    0.069364\n",
       "Asian                                        0.052115\n",
       "Joint                                        0.018772\n",
       "American Indian or Alaska Native             0.004878\n",
       "Native Hawaiian or Other Pacific Islander    0.002596\n",
       "2 or more minority races                     0.001513\n",
       "Name: derived_race, dtype: float64"
      ]
     },
     "execution_count": 24,
     "metadata": {},
     "output_type": "execute_result"
    },
    {
     "name": "stdout",
     "output_type": "stream",
     "text": [
      "AxesSubplot(0.125,0.125;0.775x0.755)\n"
     ]
    },
    {
     "data": {
      "image/png": "[encoded data removed]",
      "text/plain": [
       "<Figure size 432x288 with 1 Axes>"
      ]
     },
     "metadata": {
      "needs_background": "light"
     },
     "output_type": "display_data"
    }
   ],
   "source": [
    "df['derived_race'].value_counts(normalize = True)\n",
    "print(df['derived_race'].value_counts().plot(kind='bar',color=sns.color_palette(\"husl\", 8)))"
   ]
  },
  {
   "cell_type": "markdown",
   "metadata": {},
   "source": [
    "#### Sex Categories\n",
    "After filtering the dataset, the sex categories break down: "
   ]
  },
  {
   "cell_type": "code",
   "execution_count": 25,
   "metadata": {},
   "outputs": [
    {
     "data": {
      "text/plain": [
       "Joint                0.373458\n",
       "Male                 0.326037\n",
       "Female               0.225694\n",
       "Sex Not Available    0.074811\n",
       "Name: derived_sex, dtype: float64"
      ]
     },
     "execution_count": 25,
     "metadata": {},
     "output_type": "execute_result"
    },
    {
     "name": "stdout",
     "output_type": "stream",
     "text": [
      "AxesSubplot(0.125,0.125;0.775x0.755)\n"
     ]
    },
    {
     "data": {
      "image/png": "[encoded data removed]",
      "text/plain": [
       "<Figure size 432x288 with 1 Axes>"
      ]
     },
     "metadata": {
      "needs_background": "light"
     },
     "output_type": "display_data"
    }
   ],
   "source": [
    "df['derived_sex'].value_counts(normalize = True)\n",
    "print(df['derived_sex'].value_counts().plot(kind='bar',color=sns.color_palette(\"husl\", 8)))"
   ]
  },
  {
   "cell_type": "markdown",
   "metadata": {},
   "source": [
    "#### Age\n",
    "After filtering the dataset, the age groups break down: "
   ]
  },
  {
   "cell_type": "code",
   "execution_count": 26,
   "metadata": {},
   "outputs": [
    {
     "data": {
      "text/plain": [
       "35-44    0.240385\n",
       "25-34    0.223196\n",
       "45-54    0.201935\n",
       "55-64    0.163923\n",
       "65-74    0.100974\n",
       ">74      0.035931\n",
       "<25      0.033656\n",
       "Name: applicant_age, dtype: float64"
      ]
     },
     "execution_count": 26,
     "metadata": {},
     "output_type": "execute_result"
    },
    {
     "name": "stdout",
     "output_type": "stream",
     "text": [
      "AxesSubplot(0.125,0.125;0.775x0.755)\n"
     ]
    },
    {
     "data": {
      "image/png": "[encoded data removed]",
      "text/plain": [
       "<Figure size 432x288 with 1 Axes>"
      ]
     },
     "metadata": {
      "needs_background": "light"
     },
     "output_type": "display_data"
    }
   ],
   "source": [
    "df['applicant_age'].value_counts(normalize = True)\n",
    "print(df['applicant_age'].value_counts().plot(kind='bar',color=sns.color_palette(\"husl\", 8)))"
   ]
  },
  {
   "cell_type": "markdown",
   "metadata": {},
   "source": [
    "#### Loan Type \n",
    "After filtering the dataset, the loan types break down: "
   ]
  },
  {
   "cell_type": "code",
   "execution_count": 27,
   "metadata": {},
   "outputs": [
    {
     "data": {
      "text/plain": [
       "1    0.737787\n",
       "2    0.163092\n",
       "3    0.084108\n",
       "4    0.015013\n",
       "Name: loan_type, dtype: float64"
      ]
     },
     "execution_count": 27,
     "metadata": {},
     "output_type": "execute_result"
    },
    {
     "name": "stdout",
     "output_type": "stream",
     "text": [
      "AxesSubplot(0.125,0.125;0.775x0.755)\n"
     ]
    },
    {
     "data": {
      "image/png": "[encoded data removed]",
      "text/plain": [
       "<Figure size 432x288 with 1 Axes>"
      ]
     },
     "metadata": {
      "needs_background": "light"
     },
     "output_type": "display_data"
    }
   ],
   "source": [
    "df['loan_type'].value_counts(normalize = True)\n",
    "print(df['loan_type'].value_counts().plot(kind='bar',color=sns.color_palette(\"husl\", 8)))"
   ]
  },
  {
   "cell_type": "markdown",
   "metadata": {},
   "source": [
    "#### Loan Purpose \n",
    "After filtering the dataset, the loan_purpose groups break down: "
   ]
  },
  {
   "cell_type": "code",
   "execution_count": 28,
   "metadata": {},
   "outputs": [
    {
     "data": {
      "text/plain": [
       "1     0.512634\n",
       "31    0.215205\n",
       "32    0.211844\n",
       "4     0.030526\n",
       "2     0.029791\n",
       "Name: loan_purpose, dtype: float64"
      ]
     },
     "execution_count": 28,
     "metadata": {},
     "output_type": "execute_result"
    },
    {
     "name": "stdout",
     "output_type": "stream",
     "text": [
      "AxesSubplot(0.125,0.125;0.775x0.755)\n"
     ]
    },
    {
     "data": {
      "image/png": "[encoded data removed]",
      "text/plain": [
       "<Figure size 432x288 with 1 Axes>"
      ]
     },
     "metadata": {
      "needs_background": "light"
     },
     "output_type": "display_data"
    }
   ],
   "source": [
    "df['loan_purpose'].value_counts(normalize = True)\n",
    "print(df['loan_purpose'].value_counts().plot(kind='bar',color=sns.color_palette(\"husl\", 8)))"
   ]
  },
  {
   "cell_type": "markdown",
   "metadata": {},
   "source": [
    "#### Interest Only Payments\n",
    "After filtering the dataset, the interest only payment indicator break down: "
   ]
  },
  {
   "cell_type": "code",
   "execution_count": 29,
   "metadata": {},
   "outputs": [
    {
     "data": {
      "text/plain": [
       "2    0.964406\n",
       "1    0.035594\n",
       "Name: interest_only_payment, dtype: float64"
      ]
     },
     "execution_count": 29,
     "metadata": {},
     "output_type": "execute_result"
    },
    {
     "name": "stdout",
     "output_type": "stream",
     "text": [
      "AxesSubplot(0.125,0.125;0.775x0.755)\n"
     ]
    },
    {
     "data": {
      "image/png": "[encoded data removed]",
      "text/plain": [
       "<Figure size 432x288 with 1 Axes>"
      ]
     },
     "metadata": {
      "needs_background": "light"
     },
     "output_type": "display_data"
    }
   ],
   "source": [
    "df['interest_only_payment'].value_counts(normalize = True)\n",
    "print(df['interest_only_payment'].value_counts().plot(kind='bar',color=sns.color_palette(\"husl\", 8)))"
   ]
  },
  {
   "cell_type": "markdown",
   "metadata": {},
   "source": [
    "#### Balloon Payment Indicator\n",
    "After filtering the dataset, the balloon payment indicator break down:"
   ]
  },
  {
   "cell_type": "code",
   "execution_count": 30,
   "metadata": {},
   "outputs": [
    {
     "data": {
      "text/plain": [
       "2    409006\n",
       "1      2834\n",
       "Name: balloon_payment, dtype: int64"
      ]
     },
     "execution_count": 30,
     "metadata": {},
     "output_type": "execute_result"
    },
    {
     "name": "stdout",
     "output_type": "stream",
     "text": [
      "AxesSubplot(0.125,0.125;0.775x0.755)\n"
     ]
    },
    {
     "data": {
      "image/png": "[encoded data removed]",
      "text/plain": [
       "<Figure size 432x288 with 1 Axes>"
      ]
     },
     "metadata": {
      "needs_background": "light"
     },
     "output_type": "display_data"
    }
   ],
   "source": [
    "df['balloon_payment'].value_counts()\n",
    "print(df['balloon_payment'].value_counts().plot(kind='bar',color=sns.color_palette(\"husl\", 8)))"
   ]
  },
  {
   "cell_type": "code",
   "execution_count": 31,
   "metadata": {},
   "outputs": [
    {
     "data": {
      "text/html": [
       "<div>\n",
       "<style scoped>\n",
       "    .dataframe tbody tr th:only-of-type {\n",
       "        vertical-align: middle;\n",
       "    }\n",
       "\n",
       "    .dataframe tbody tr th {\n",
       "        vertical-align: top;\n",
       "    }\n",
       "\n",
       "    .dataframe thead th {\n",
       "        text-align: right;\n",
       "    }\n",
       "</style>\n",
       "<table border=\"1\" class=\"dataframe\">\n",
       "  <thead>\n",
       "    <tr style=\"text-align: right;\">\n",
       "      <th></th>\n",
       "      <th>income</th>\n",
       "      <th>debt_to_income_ratio</th>\n",
       "      <th>loan_to_value_ratio</th>\n",
       "      <th>loan_amount</th>\n",
       "      <th>derived_ethnicity</th>\n",
       "      <th>derived_race</th>\n",
       "      <th>derived_sex</th>\n",
       "      <th>applicant_age</th>\n",
       "      <th>preapproval</th>\n",
       "      <th>loan_type</th>\n",
       "      <th>loan_purpose</th>\n",
       "      <th>interest_only_payment</th>\n",
       "      <th>balloon_payment</th>\n",
       "      <th>action_taken</th>\n",
       "    </tr>\n",
       "  </thead>\n",
       "  <tbody>\n",
       "    <tr>\n",
       "      <th>8578078</th>\n",
       "      <td>82.0</td>\n",
       "      <td>40-45</td>\n",
       "      <td>97.0</td>\n",
       "      <td>315000.0</td>\n",
       "      <td>Not Hispanic or Latino</td>\n",
       "      <td>White</td>\n",
       "      <td>Joint</td>\n",
       "      <td>35-44</td>\n",
       "      <td>2</td>\n",
       "      <td>2</td>\n",
       "      <td>1</td>\n",
       "      <td>2</td>\n",
       "      <td>2</td>\n",
       "      <td>1</td>\n",
       "    </tr>\n",
       "    <tr>\n",
       "      <th>14169566</th>\n",
       "      <td>200.0</td>\n",
       "      <td>46-49</td>\n",
       "      <td>75.0</td>\n",
       "      <td>555000.0</td>\n",
       "      <td>Not Hispanic or Latino</td>\n",
       "      <td>White</td>\n",
       "      <td>Joint</td>\n",
       "      <td>35-44</td>\n",
       "      <td>2</td>\n",
       "      <td>1</td>\n",
       "      <td>31</td>\n",
       "      <td>2</td>\n",
       "      <td>2</td>\n",
       "      <td>1</td>\n",
       "    </tr>\n",
       "    <tr>\n",
       "      <th>1981492</th>\n",
       "      <td>23.0</td>\n",
       "      <td>36-39</td>\n",
       "      <td>73.171</td>\n",
       "      <td>95000.0</td>\n",
       "      <td>Not Hispanic or Latino</td>\n",
       "      <td>White</td>\n",
       "      <td>Female</td>\n",
       "      <td>65-74</td>\n",
       "      <td>2</td>\n",
       "      <td>1</td>\n",
       "      <td>32</td>\n",
       "      <td>2</td>\n",
       "      <td>2</td>\n",
       "      <td>1</td>\n",
       "    </tr>\n",
       "    <tr>\n",
       "      <th>6045389</th>\n",
       "      <td>164.0</td>\n",
       "      <td>20%-&lt;30%</td>\n",
       "      <td>74.969</td>\n",
       "      <td>605000.0</td>\n",
       "      <td>Not Hispanic or Latino</td>\n",
       "      <td>Joint</td>\n",
       "      <td>Joint</td>\n",
       "      <td>25-34</td>\n",
       "      <td>2</td>\n",
       "      <td>1</td>\n",
       "      <td>31</td>\n",
       "      <td>2</td>\n",
       "      <td>2</td>\n",
       "      <td>1</td>\n",
       "    </tr>\n",
       "    <tr>\n",
       "      <th>5745138</th>\n",
       "      <td>78.0</td>\n",
       "      <td>50%-60%</td>\n",
       "      <td>84.06299999999999</td>\n",
       "      <td>275000.0</td>\n",
       "      <td>Hispanic or Latino</td>\n",
       "      <td>White</td>\n",
       "      <td>Joint</td>\n",
       "      <td>35-44</td>\n",
       "      <td>2</td>\n",
       "      <td>2</td>\n",
       "      <td>31</td>\n",
       "      <td>2</td>\n",
       "      <td>2</td>\n",
       "      <td>1</td>\n",
       "    </tr>\n",
       "  </tbody>\n",
       "</table>\n",
       "</div>"
      ],
      "text/plain": [
       "          income debt_to_income_ratio loan_to_value_ratio  loan_amount  \\\n",
       "8578078     82.0                40-45                97.0     315000.0   \n",
       "14169566   200.0                46-49                75.0     555000.0   \n",
       "1981492     23.0                36-39              73.171      95000.0   \n",
       "6045389    164.0             20%-<30%              74.969     605000.0   \n",
       "5745138     78.0              50%-60%   84.06299999999999     275000.0   \n",
       "\n",
       "               derived_ethnicity derived_race derived_sex applicant_age  \\\n",
       "8578078   Not Hispanic or Latino        White       Joint         35-44   \n",
       "14169566  Not Hispanic or Latino        White       Joint         35-44   \n",
       "1981492   Not Hispanic or Latino        White      Female         65-74   \n",
       "6045389   Not Hispanic or Latino        Joint       Joint         25-34   \n",
       "5745138       Hispanic or Latino        White       Joint         35-44   \n",
       "\n",
       "          preapproval  loan_type  loan_purpose  interest_only_payment  \\\n",
       "8578078             2          2             1                      2   \n",
       "14169566            2          1            31                      2   \n",
       "1981492             2          1            32                      2   \n",
       "6045389             2          1            31                      2   \n",
       "5745138             2          2            31                      2   \n",
       "\n",
       "          balloon_payment  action_taken  \n",
       "8578078                 2             1  \n",
       "14169566                2             1  \n",
       "1981492                 2             1  \n",
       "6045389                 2             1  \n",
       "5745138                 2             1  "
      ]
     },
     "execution_count": 31,
     "metadata": {},
     "output_type": "execute_result"
    }
   ],
   "source": [
    "df.head()"
   ]
  },
  {
   "cell_type": "markdown",
   "metadata": {},
   "source": [
    "## 4.1 Exploratory Data Analysis Insights and Explanation \n",
    "*Add verbiage here about the data*\n"
   ]
  },
  {
   "cell_type": "markdown",
   "metadata": {},
   "source": [
    "# 5. Data Preparation "
   ]
  },
  {
   "cell_type": "markdown",
   "metadata": {},
   "source": [
    "#### Map values in place\n",
    "Mapping values in place is used instead of one hot encoding to perform the fairness assessment using IBM's AIF360 package.\n",
    "\n",
    "##### Derived Ethnicity\n",
    "- 0: Ethnicity Not Available\n",
    "- 1: Hispanic or Latino \n",
    "- 2: Joint\n",
    "- 3: Not Hispanic or Latino\n",
    "\n",
    "##### Derived Race\n",
    "- 0: Race not Available\n",
    "- 1: \n",
    "- 2: Asian ?\n",
    "- 3: Black or African American\n",
    "- 4: Joint\n",
    "- 5: \n",
    "- 6: Race not Available ?\n",
    "- 7: White\n",
    "\n",
    "##### Derived Sex\n",
    "- 0: Female\n",
    "- 1: Joint\n",
    "- 2: Male\n",
    "- 3: Sex not Available \n",
    "\n",
    "##### Derived Age\n",
    "- 0: 25-34\n",
    "- 1: 35-44?\n",
    "- 2: 45-54?\n",
    "- 3: 55-64\n",
    "- 4: 65-74\n",
    "- 5: <25?\n",
    "- 6: >74\n",
    "\n",
    "##### Debt to Income Ratio \n",
    "- 0: 20-30\n",
    "- 1: 30-36\n",
    "- 2: 36-39\n",
    "- 3: 40-45\n",
    "- 4: 46-49\n",
    "- 5: 50-60"
   ]
  },
  {
   "cell_type": "code",
   "execution_count": 32,
   "metadata": {
    "scrolled": true
   },
   "outputs": [
    {
     "data": {
      "text/html": [
       "<div>\n",
       "<style scoped>\n",
       "    .dataframe tbody tr th:only-of-type {\n",
       "        vertical-align: middle;\n",
       "    }\n",
       "\n",
       "    .dataframe tbody tr th {\n",
       "        vertical-align: top;\n",
       "    }\n",
       "\n",
       "    .dataframe thead th {\n",
       "        text-align: right;\n",
       "    }\n",
       "</style>\n",
       "<table border=\"1\" class=\"dataframe\">\n",
       "  <thead>\n",
       "    <tr style=\"text-align: right;\">\n",
       "      <th></th>\n",
       "      <th>income</th>\n",
       "      <th>debt_to_income_ratio</th>\n",
       "      <th>loan_to_value_ratio</th>\n",
       "      <th>loan_amount</th>\n",
       "      <th>derived_ethnicity</th>\n",
       "      <th>derived_race</th>\n",
       "      <th>derived_sex</th>\n",
       "      <th>applicant_age</th>\n",
       "      <th>preapproval</th>\n",
       "      <th>loan_type</th>\n",
       "      <th>loan_purpose</th>\n",
       "      <th>interest_only_payment</th>\n",
       "      <th>balloon_payment</th>\n",
       "      <th>action_taken</th>\n",
       "    </tr>\n",
       "  </thead>\n",
       "  <tbody>\n",
       "    <tr>\n",
       "      <th>8578078</th>\n",
       "      <td>82.0</td>\n",
       "      <td>3</td>\n",
       "      <td>97.000</td>\n",
       "      <td>315000.0</td>\n",
       "      <td>3</td>\n",
       "      <td>7</td>\n",
       "      <td>1</td>\n",
       "      <td>1</td>\n",
       "      <td>2</td>\n",
       "      <td>2</td>\n",
       "      <td>1</td>\n",
       "      <td>2</td>\n",
       "      <td>2</td>\n",
       "      <td>1</td>\n",
       "    </tr>\n",
       "    <tr>\n",
       "      <th>14169566</th>\n",
       "      <td>200.0</td>\n",
       "      <td>4</td>\n",
       "      <td>75.000</td>\n",
       "      <td>555000.0</td>\n",
       "      <td>3</td>\n",
       "      <td>7</td>\n",
       "      <td>1</td>\n",
       "      <td>1</td>\n",
       "      <td>2</td>\n",
       "      <td>1</td>\n",
       "      <td>31</td>\n",
       "      <td>2</td>\n",
       "      <td>2</td>\n",
       "      <td>1</td>\n",
       "    </tr>\n",
       "    <tr>\n",
       "      <th>1981492</th>\n",
       "      <td>23.0</td>\n",
       "      <td>2</td>\n",
       "      <td>73.171</td>\n",
       "      <td>95000.0</td>\n",
       "      <td>3</td>\n",
       "      <td>7</td>\n",
       "      <td>0</td>\n",
       "      <td>4</td>\n",
       "      <td>2</td>\n",
       "      <td>1</td>\n",
       "      <td>32</td>\n",
       "      <td>2</td>\n",
       "      <td>2</td>\n",
       "      <td>1</td>\n",
       "    </tr>\n",
       "    <tr>\n",
       "      <th>6045389</th>\n",
       "      <td>164.0</td>\n",
       "      <td>0</td>\n",
       "      <td>74.969</td>\n",
       "      <td>605000.0</td>\n",
       "      <td>3</td>\n",
       "      <td>4</td>\n",
       "      <td>1</td>\n",
       "      <td>0</td>\n",
       "      <td>2</td>\n",
       "      <td>1</td>\n",
       "      <td>31</td>\n",
       "      <td>2</td>\n",
       "      <td>2</td>\n",
       "      <td>1</td>\n",
       "    </tr>\n",
       "    <tr>\n",
       "      <th>5745138</th>\n",
       "      <td>78.0</td>\n",
       "      <td>5</td>\n",
       "      <td>84.063</td>\n",
       "      <td>275000.0</td>\n",
       "      <td>1</td>\n",
       "      <td>7</td>\n",
       "      <td>1</td>\n",
       "      <td>1</td>\n",
       "      <td>2</td>\n",
       "      <td>2</td>\n",
       "      <td>31</td>\n",
       "      <td>2</td>\n",
       "      <td>2</td>\n",
       "      <td>1</td>\n",
       "    </tr>\n",
       "  </tbody>\n",
       "</table>\n",
       "</div>"
      ],
      "text/plain": [
       "          income  debt_to_income_ratio  loan_to_value_ratio  loan_amount  \\\n",
       "8578078     82.0                     3               97.000     315000.0   \n",
       "14169566   200.0                     4               75.000     555000.0   \n",
       "1981492     23.0                     2               73.171      95000.0   \n",
       "6045389    164.0                     0               74.969     605000.0   \n",
       "5745138     78.0                     5               84.063     275000.0   \n",
       "\n",
       "          derived_ethnicity  derived_race  derived_sex  applicant_age  \\\n",
       "8578078                   3             7            1              1   \n",
       "14169566                  3             7            1              1   \n",
       "1981492                   3             7            0              4   \n",
       "6045389                   3             4            1              0   \n",
       "5745138                   1             7            1              1   \n",
       "\n",
       "          preapproval  loan_type  loan_purpose  interest_only_payment  \\\n",
       "8578078             2          2             1                      2   \n",
       "14169566            2          1            31                      2   \n",
       "1981492             2          1            32                      2   \n",
       "6045389             2          1            31                      2   \n",
       "5745138             2          2            31                      2   \n",
       "\n",
       "          balloon_payment  action_taken  \n",
       "8578078                 2             1  \n",
       "14169566                2             1  \n",
       "1981492                 2             1  \n",
       "6045389                 2             1  \n",
       "5745138                 2             1  "
      ]
     },
     "execution_count": 32,
     "metadata": {},
     "output_type": "execute_result"
    }
   ],
   "source": [
    "df['derived_ethnicity'] = df.derived_ethnicity.astype(\"category\").cat.codes\n",
    "df['derived_race'] = df.derived_race.astype(\"category\").cat.codes\n",
    "df['derived_sex'] = df.derived_sex.astype(\"category\").cat.codes\n",
    "df['applicant_age'] = df.applicant_age.astype(\"category\").cat.codes\n",
    "df['debt_to_income_ratio'] = df.debt_to_income_ratio.astype(\"category\").cat.codes\n",
    "df['loan_to_value_ratio'] = pd.to_numeric(df['loan_to_value_ratio'])\n",
    "df.head()"
   ]
  },
  {
   "cell_type": "markdown",
   "metadata": {},
   "source": [
    "# 6. Split the Dataset into Training and Testing Sets\n",
    "In this section I will define the target variable and features, apply a SMOTE data oversampling technique to minimize the effect of an imbalanced dataset, and split data into 70/30 segments."
   ]
  },
  {
   "cell_type": "code",
   "execution_count": 33,
   "metadata": {},
   "outputs": [],
   "source": [
    "# Define target and features\n",
    "target = df['action_taken']\n",
    "features = df.drop(['action_taken'], axis=1)"
   ]
  },
  {
   "cell_type": "code",
   "execution_count": 34,
   "metadata": {},
   "outputs": [
    {
     "name": "stdout",
     "output_type": "stream",
     "text": [
      "Number of data points in train data: (288288, 13)\n",
      "Number of data points in test data: (123552, 13)\n"
     ]
    }
   ],
   "source": [
    "# Split into train/test while maintaining stratification to maintain class balance\n",
    "X_train, X_test, y_train, y_test = train_test_split(features, target, test_size=0.30, random_state=42)\n",
    "\n",
    "print('Number of data points in train data:', X_train.shape)\n",
    "print('Number of data points in test data:', X_test.shape)"
   ]
  },
  {
   "cell_type": "markdown",
   "metadata": {},
   "source": [
    "#### SMOTE Data Sampling \n",
    "A problem with imbalanced classification is that there are too few examples of the minority class for a model to effectively learn the decision boundary.\n",
    "\n",
    "One way to solve this problem is to oversample the examples in the minority class. This can be achieved by simply duplicating examples from the minority class in the training dataset prior to fitting a model. This can balance the class distribution but does not provide any additional information to the model.\n",
    "\n",
    "An improvement on duplicating examples from the minority class is to synthesize new examples from the minority class. This is a type of data augmentation for tabular data and can be very effective."
   ]
  },
  {
   "cell_type": "code",
   "execution_count": 35,
   "metadata": {},
   "outputs": [],
   "source": [
    "sm = SMOTE(random_state=42)\n",
    "X_res, y_res = sm.fit_resample(X_train, y_train)"
   ]
  },
  {
   "cell_type": "markdown",
   "metadata": {},
   "source": [
    "# 7. Create and Compare ML Classification Models"
   ]
  },
  {
   "cell_type": "markdown",
   "metadata": {},
   "source": [
    "### XGBoost Model Grid Search\n",
    "Create a XGBoost model with the best performing parameters from a grid search to classify individuals who are approved for a mortgage."
   ]
  },
  {
   "cell_type": "code",
   "execution_count": 36,
   "metadata": {},
   "outputs": [],
   "source": [
    "# # Comment out when XGBoost params have been identified\n",
    "# # Create a XGBoost classifier \n",
    "# xgb_clf=xgb.XGBClassifier()\n",
    "\n",
    "# # Define param grid to use random reach on \n",
    "# param_grid = {\n",
    "#     'silent': [False],\n",
    "#     'max_depth': [6, 10, 15, 20],\n",
    "#     'learning_rate': [0.001, 0.01, 0.1, 0.2, 0.3], \n",
    "#     'subsample': [0.6, 0.7, 0.8, 0.9, 1.0],\n",
    "#     'colsample_bytree': [0.4, 0.5, 0.6, 0.7, 0.8, 0.9, 1.0],\n",
    "#     'colsample_bylevel': [0.4, 0.5, 0.6, 0.7, 0.8, 0.9, 1.0],\n",
    "#     'min_child_weight': [0.5, 1.0, 3.0, 5.0, 7.0, 10.0],\n",
    "#     'gamma': [0, 0.25, 0.5, 1.0],\n",
    "#     'reg_lambda': [0.1, 1.0, 5.0, 10.0, 50.0, 100.0],\n",
    "#     'reg_alpha': [0.1, 1.0, 5.0, 10.0, 50.0, 100.0],\n",
    "#     'n_estimators': [100, 200, 400, 500, 1000],\n",
    "#     'objective': ['binary:logistic']\n",
    "# }\n",
    "\n",
    "# fit_params = {'eval_metric': 'logloss',\n",
    "#              'early_stopping_rounds': 10,\n",
    "#              'eval_set':[(X_test, y_test)]}\n",
    "\n",
    "# rs_clf = RandomizedSearchCV(xgb_clf, param_grid, n_iter = 20,\n",
    "#                            n_jobs=-1, verbose=2, cv=3,\n",
    "#                            scoring='neg_log_loss', refit=False, random_state=42)\n",
    "\n",
    "# print(\"Randomized Search\")\n",
    "# rs_clf.fit(X_train, y_train, **fit_params)\n",
    "# print('Randomized Search Complete')\n",
    "\n",
    "# best_score = rs_clf.best_score_\n",
    "# best_params = rs_clf.best_params_\n",
    "# print(\"Best Score: {}\".format(best_score))\n",
    "# print(\"Best Params: \")\n",
    "\n",
    "# for param_name in sorted(best_params.keys()):\n",
    "#     print('%s: %r' % (param_name, best_params[param_name]))"
   ]
  },
  {
   "cell_type": "markdown",
   "metadata": {},
   "source": [
    "### XGBoost Model\n",
    "Apply the optimal hyperparameters to train the XGBoost classifier to classify individuals who are approved of a mortgage loan. Predict on the test set. "
   ]
  },
  {
   "cell_type": "code",
   "execution_count": null,
   "metadata": {},
   "outputs": [
    {
     "name": "stderr",
     "output_type": "stream",
     "text": [
      "The use of label encoder in XGBClassifier is deprecated and will be removed in a future release. To remove this warning, do the following: 1) Pass option use_label_encoder=False when constructing XGBClassifier object; and 2) Encode your labels (y) as integers starting with 0, i.e. 0, 1, 2, ..., [num_class - 1].\n"
     ]
    },
    {
     "name": "stdout",
     "output_type": "stream",
     "text": [
      "[18:36:21] WARNING: ../src/learner.cc:576: \n",
      "Parameters: { \"eval_metrics\", \"silent\" } might not be used.\n",
      "\n",
      "  This could be a false alarm, with some parameters getting used by language bindings but\n",
      "  then being mistakenly passed down to XGBoost core, or some parameter actually being used\n",
      "  but getting flagged wrongly here. Please open an issue if you find any such cases.\n",
      "\n",
      "\n",
      "[18:36:25] WARNING: ../src/learner.cc:1115: Starting in XGBoost 1.3.0, the default evaluation metric used with the objective 'binary:logistic' was changed from 'error' to 'logloss'. Explicitly set eval_metric if you'd like to restore the old behavior.\n"
     ]
    }
   ],
   "source": [
    "# Fit final model with best params\n",
    "x_clf = XGBClassifier(colsample_bylevel= 0.5, colsample_bytree= 1.0, gamma= 0.0, learning_rate= 0.1, max_depth= 10, \n",
    "                      min_child_weight= 0.5, n_estimators= 200, objective= 'binary:logistic', reg_alpha= 0.1, \n",
    "                      reg_lambda= 1.0, silent= False, subsample= 1.0, eval_metrics='logloss',random_state=42)\n",
    "\n",
    "x_clf.fit(X_train,y_train)\n",
    "\n",
    "# Predict using test set\n",
    "x_pred = x_clf.predict(X_test)\n",
    "x_prob_pred = x_clf.predict_proba(X_test)[:,1]"
   ]
  },
  {
   "cell_type": "markdown",
   "metadata": {},
   "source": [
    "### SMOTE XGBoost Model\n",
    "Apply the optimal hyperparameters to train the XGBoost classifier to classify individuals who are approved of a mortgage loan. Predict on the test set. "
   ]
  },
  {
   "cell_type": "code",
   "execution_count": null,
   "metadata": {},
   "outputs": [],
   "source": [
    "# Fit final model with best params\n",
    "res_x_clf = XGBClassifier(colsample_bylevel= 0.5, colsample_bytree= 1.0, gamma= 0.0, learning_rate= 0.1, max_depth= 10, \n",
    "                      min_child_weight= 0.5, n_estimators= 200, objective= 'binary:logistic', reg_alpha= 0.1, \n",
    "                      reg_lambda= 1.0, silent= False, subsample= 1.0, eval_metrics='logloss',random_state=42)\n",
    "\n",
    "res_x_clf.fit(X_res,y_res)\n",
    "\n",
    "# Predict using test set\n",
    "res_x_pred = res_x_clf.predict(X_test)\n",
    "res_x_prob_pred = res_x_clf.predict_proba(X_test)[:,1]"
   ]
  },
  {
   "cell_type": "markdown",
   "metadata": {},
   "source": [
    "### Random Forest Model\n",
    "Create a Random Forest to classify individuals who are approved of a mortgage loan."
   ]
  },
  {
   "cell_type": "code",
   "execution_count": null,
   "metadata": {},
   "outputs": [],
   "source": [
    "# Fit final model with best params\n",
    "rf_clf = RandomForestClassifier(random_state=42)\n",
    "rf_clf.fit(X_train,y_train)\n",
    "\n",
    "# Predict using test set\n",
    "rf_pred = rf_clf.predict(X_test)\n",
    "rf_prob_pred = rf_clf.predict_proba(X_test)[:,1]"
   ]
  },
  {
   "cell_type": "markdown",
   "metadata": {},
   "source": [
    "### SMOTE Random Forest Model\n",
    "Create a Random Forest to classify individuals who are approved of a mortgage loan."
   ]
  },
  {
   "cell_type": "code",
   "execution_count": null,
   "metadata": {},
   "outputs": [],
   "source": [
    "# Fit final model with best params\n",
    "res_rf_clf = RandomForestClassifier(random_state=42)\n",
    "res_rf_clf.fit(X_res,y_res)\n",
    "\n",
    "# Predict using test set\n",
    "res_rf_pred = res_rf_clf.predict(X_test)\n",
    "res_rf_prob_pred = res_rf_clf.predict_proba(X_test)[:,1]"
   ]
  },
  {
   "cell_type": "markdown",
   "metadata": {},
   "source": [
    "### Logistic Regression Model\n",
    "Create a Logistic Regression to classify individuals who are approved of a mortgage loan."
   ]
  },
  {
   "cell_type": "code",
   "execution_count": null,
   "metadata": {},
   "outputs": [],
   "source": [
    "# Fit final model with best params\n",
    "lr_clf = LogisticRegression(random_state=42)\n",
    "lr_clf.fit(X_train,y_train)\n",
    "\n",
    "# Predict using test set\n",
    "lr_pred = lr_clf.predict(X_test)\n",
    "lr_prob_pred = lr_clf.predict_proba(X_test)[:,1]"
   ]
  },
  {
   "cell_type": "markdown",
   "metadata": {},
   "source": [
    "### SMOTE Logistic Regression Model\n",
    "Create a Logistic Regression to classify individuals who are approved of a mortgage loan."
   ]
  },
  {
   "cell_type": "code",
   "execution_count": null,
   "metadata": {},
   "outputs": [],
   "source": [
    "# Fit final model with best params\n",
    "res_lr_clf = LogisticRegression(random_state=42)\n",
    "res_lr_clf.fit(X_res,y_res)\n",
    "\n",
    "# Predict using test set\n",
    "res_lr_pred = res_lr_clf.predict(X_test)\n",
    "res_lr_prob_pred = res_lr_clf.predict_proba(X_test)[:,1]"
   ]
  },
  {
   "attachments": {
    "image.png": {
     "image/png": "[encoded data removed]"
    }
   },
   "cell_type": "markdown",
   "metadata": {},
   "source": [
    "# 8. Model Evaluation Metrics\n",
    "\n",
    "### Accuracy\n",
    "Classification Accuracy is what we usually mean, when we use the term accuracy. It is the ratio of number of correct predictions to the total number of input samples.\n",
    "![image.png](attachment:image.png) \n",
    "\n",
    "### Sensitivity\n",
    "True Positive Rate is defined as TP/ (FN+TP). True Positive Rate corresponds to the proportion of positive data points that are correctly considered as positive, with respect to all positive data points.\n",
    "![image.png](attachment:image.png)\n",
    "\n",
    "### Specificity \n",
    "True Negative Rate is defined as TN / (FP+TN). False Positive Rate corresponds to the proportion of negative data points that are correctly considered as negative, with respect to all negative data points.\n",
    "![image.png](attachment:image.png)\n",
    "\n",
    "### Precision \n",
    "It is the number of correct positive results divided by the number of positive results predicted by the classifier.\n",
    "![image.png](attachment:image.png)\n",
    "\n",
    "### F1 Score\n",
    "F1 Score is the Harmonic Mean between precision and recall. F1 Score tries to find the balance between precision and recall. It tells you how precise your classifier is (how many instances it classifies correctly), as well as how robust it is (it does not miss a significant number of instances). High precision but lower recall, gives you an extremely accurate, but it then misses a large number of instances that are difficult to classify. \n",
    "![image.png](attachment:image.png)\n"
   ]
  },
  {
   "cell_type": "code",
   "execution_count": null,
   "metadata": {},
   "outputs": [],
   "source": [
    "# Create classification model eval method\n",
    "def model_eval(y, prediction): \n",
    "    \"\"\"\n",
    "    Method to calculate model evaluation metrics to measure the effectiveness of the model. \n",
    "    \n",
    "    :param y (numpy array): Train or test target values for ML model\n",
    "    :param prediction (numpy array): Predictions from the ML model\n",
    "    \"\"\"\n",
    "    accuracy = round(metrics.accuracy_score(y, prediction), 4)\n",
    "    recall_sensitivity = round(metrics.recall_score(y, prediction), 4)\n",
    "    recall_specificity = round(metrics.recall_score(y, prediction, pos_label=0), 4)\n",
    "    precision_positive = round(metrics.precision_score(y, prediction), 4)\n",
    "    precision_negative = round(metrics.precision_score(y, prediction, pos_label=0), 4)\n",
    "    positive_f1_score = round(metrics.f1_score(y, prediction), 4)\n",
    "    negative_f1_score = round(metrics.f1_score(y, prediction, pos_label=0), 4)\n",
    "    \n",
    "    model_eval_metrics = {'Accuracy': accuracy,\n",
    "              'Sensitivity': recall_sensitivity,\n",
    "              'Specificity': recall_specificity,\n",
    "              'Precision Positive': precision_positive,\n",
    "              'Precision Negative': precision_negative,\n",
    "              'F1 Score Positive': positive_f1_score,\n",
    "              'F1 Score Negative': negative_f1_score}\n",
    "    \n",
    "    return(model_eval_metrics)\n",
    "\n",
    "# Call model evaluation metrics\n",
    "x_results = model_eval(y_test, x_pred)\n",
    "rf_results = model_eval(y_test, rf_pred)\n",
    "lr_results = model_eval(y_test, lr_pred)\n",
    "smote_x_results = model_eval(y_test, res_x_pred)\n",
    "smote_rf_results = model_eval(y_test, res_rf_pred)\n",
    "smote_lr_results = model_eval(y_test, res_lr_pred)\n",
    "\n",
    "# Visualize model evaluation metrics in a heatmap \n",
    "xgbmodel = x_results\n",
    "rfmodel = rf_results\n",
    "lrmodel = lr_results\n",
    "smote_xgbmodel = smote_x_results\n",
    "smote_rfmodel = smote_rf_results\n",
    "smote_lrmodel = smote_lr_results\n",
    "\n",
    "viz = pd.DataFrame.from_dict(xgbmodel, orient='index', columns=['XGBoost'])\n",
    "viz['Random Forest'] = pd.DataFrame.from_dict(rfmodel, orient='index', columns=['Random Forest'])\n",
    "viz['Logistic Regression'] = pd.DataFrame.from_dict(lrmodel, orient='index', columns=['Logistic Regression'])\n",
    "viz['SMOTE XGBoost'] = pd.DataFrame.from_dict(smote_xgbmodel, orient='index', columns=['SMOTE XGBoost'])\n",
    "viz['SMOTE Random Forest'] = pd.DataFrame.from_dict(smote_rfmodel, orient='index', columns=['SMOTE Random Forest'])\n",
    "viz['SMOTE Logistic Regression'] = pd.DataFrame.from_dict(smote_lrmodel, orient='index', columns=['SMOTE Logistic Regression'])\n",
    "\n",
    "viz.head(10)\n",
    "ax = sns.heatmap(viz,\n",
    "                cmap = 'BuPu',\n",
    "                linewidths = .5,\n",
    "                annot = True)"
   ]
  },
  {
   "cell_type": "markdown",
   "metadata": {},
   "source": [
    "## 8.1 Model Evaluation Explanation\n",
    "\n",
    "*Update analysis below*\n",
    "\n",
    "#### SMOTE Oversampling vs No Oversampling\n",
    "Class imbalance is a common issue and if not handled can have a telling impact on the model performance and is especially critical for the minority class. As we can see from the results, the models that used a SMOTE oversampling technique had better accuracy for the minority class. However, overall the SMOTE models were less performant in all other model evaluation scores. For the purpose of this project, I will be selecting a model that uses the SMOTE oversampling technique because I'm interested in explaining the minority class. \n",
    "\n",
    "#### Logistic Regression vs Random Forest vs XGBoost\n",
    "The logistic regression model performs less accurately and efficiently than the XGBoost and random forest models. The XGBoost and random forest models are highly complex algorithms that could potentially be complicated to understand or explain how the alogrithms make decisions. The logistic regression is less computationally heavy and can be explained better than the more complicated algorithms like xgboost and random forest. For the purpose of this project, I will be selecting the most performant model because I'm interested in explaining the accuracy overall. \n",
    "\n",
    "#### Final Model Selection\n",
    "For the remaining analysis I will be using the <b>SMOTE XGBoost model</b>. It is the most performant of the models that used an oversampling technique. There are ultimately more factors when selecting a final model and I'll be exploring the fairness of the XGBoost model.  "
   ]
  },
  {
   "cell_type": "markdown",
   "metadata": {},
   "source": [
    "# 9. Fairness Evaluation and Bias Detection\n",
    "Fairness Detection Documentation: https://aif360.readthedocs.io/en/latest/modules/sklearn.html#module-aif360.sklearn.metrics \n",
    "\n",
    "### Individual vs. Group Fairness, or Both\n",
    "Group fairness, in its broadest sense, partitions a population into groups defined by protected attributes and seeks for some statistical measure to be equal across groups.  Individual fairness, in its broadest sense, seeks for similar individuals to be treated similarly.  If the application is concerned with individual fairness, then the metrics in the SampleDistortionMetric class should be used.  If the application is concerned with group fairness, then the metrics in the DatasetMetric class (and in its children classes such as the BinaryLabelDatasetMetric class) as well as the ClassificationMetric class (except the ones noted in the next sentence) should be used.  If the application is concerned with both individual and group fairness, and requires the use of a single metric, then the generalized entropy index and its specializations to Theil index and coefficient of variation in the ClassificationMetric class should be used.  Of course, multiple metrics, including ones from both individual and group fairness can be examined simultaneously."
   ]
  },
  {
   "cell_type": "markdown",
   "metadata": {},
   "source": [
    "### Convert Test Data into a BinaryLabelDataset to Calculate ClassificationMetric Methods\n",
    "Binary label datasets are the base class for all structured datasets with binary labels in the AIF360 library. Data must be converted to the BLD format in order to utilize the packages features and metrics. "
   ]
  },
  {
   "cell_type": "code",
   "execution_count": null,
   "metadata": {},
   "outputs": [],
   "source": [
    "# Construct the test dataframe \n",
    "test_df = pd.DataFrame(X_test)\n",
    "test_df['action_taken'] = y_test\n",
    "\n",
    "# Convert the test dataframe into a BinaryLabelDataset\n",
    "bld_df = BinaryLabelDataset(favorable_label=1,\n",
    "                            unfavorable_label=0,\n",
    "                            df=test_df,\n",
    "                            label_names=['action_taken'],\n",
    "                            protected_attribute_names=['derived_race','derived_sex','derived_ethnicity'])\n",
    "\n",
    "# Copy the test BinaryLabelDataset format and add the logistic regression predictions \n",
    "bld_df_pred = bld_df.copy()\n",
    "bld_df_pred.labels = res_x_pred\n",
    "\n",
    "# Initialize the unprivileged and privileged groups\n",
    "unprivileged_groups = [{'derived_race':3}] # African American \n",
    "privileged_groups = [{'derived_race':7}] # Caucasian  \n",
    "\n",
    "# Create the ClassificationMetric that will be used in fairness assessment \n",
    "clf_metric = ClassificationMetric(bld_df,\n",
    "                                  bld_df_pred,\n",
    "                                  unprivileged_groups,\n",
    "                                  privileged_groups)"
   ]
  },
  {
   "cell_type": "markdown",
   "metadata": {},
   "source": [
    "### HUD Fairness Assessment\n",
    "In this section, I'll be conducting a fairness assessment. The goal is to detect bias and will be focussing on protected classes like race, sex, and other factors that could be proxies to protected attributes.\n",
    "\n",
    "The first step in creating trustworthy AI is bias identification. Once algorithmic bias has been detected, data scientists can then take steps towards mitigating bias. With the help of open-source libraries, there are fairness measures available for evaluating models for unintentional bias. Below is the bias detection function that will be used to conduct the fairness assessment. It will also be used in the bias mitigation step to identify changes in bias. "
   ]
  },
  {
   "cell_type": "code",
   "execution_count": null,
   "metadata": {},
   "outputs": [],
   "source": [
    "def fairness_bias_detection(clf_metric):    \n",
    "    metrics = {\"Accuracy\":clf_metric.accuracy(),\n",
    "               \"Disparate Impact\":clf_metric.disparate_impact(),\n",
    "               \"Statistical Parity Difference\":clf_metric.statistical_parity_difference(),\n",
    "               \"Equal Opportunity Difference\":clf_metric.equal_opportunity_difference(),\n",
    "               \"Average Odds Difference\":clf_metric.average_odds_difference(),\n",
    "               \"Theil Index\":clf_metric.theil_index(),\n",
    "               \"False Positive Rate\":clf_metric.false_positive_rate(),\n",
    "               \"False Negative Rate\":clf_metric.false_negative_rate(),\n",
    "               \"False Omission Rate\":clf_metric.false_omission_rate(),\n",
    "               \"False Discovery Rate\":clf_metric.false_discovery_rate(),\n",
    "               \"Error Rate\":clf_metric.error_rate(),\n",
    "               \"Differential Fairness Bias Amplification\":clf_metric.differential_fairness_bias_amplification()}\n",
    "    \n",
    "    return(metrics)"
   ]
  },
  {
   "cell_type": "code",
   "execution_count": null,
   "metadata": {},
   "outputs": [],
   "source": [
    "# Call fairness assessment metrics \n",
    "fair_assessment = fairness_bias_detection(clf_metric)"
   ]
  },
  {
   "cell_type": "markdown",
   "metadata": {},
   "source": [
    "### Visualize Fairness Assessment: Bias Detection Metrics "
   ]
  },
  {
   "cell_type": "code",
   "execution_count": null,
   "metadata": {},
   "outputs": [],
   "source": [
    "fair_viz = pd.DataFrame.from_dict(fair_assessment, orient='index', columns=['SMOTE XGBoost Fairness Assessment'])\n",
    "fair_viz = fair_viz.iloc[0:12]\n",
    "fair_viz['SMOTE XGBoost Fairness Assessment'] = fair_viz['SMOTE XGBoost Fairness Assessment'].astype(float)\n",
    "fair_viz.head(15)\n",
    "\n",
    "fair_results = sns.heatmap(fair_viz,\n",
    "                           cmap=\"BuPu\",\n",
    "                           linewidths=.5,\n",
    "                           annot=True)"
   ]
  },
  {
   "attachments": {
    "image.png": {
     "image/png": "[encoded data removed]"
    }
   },
   "cell_type": "markdown",
   "metadata": {},
   "source": [
    "## Deep Dive into the Fairness Assessment: Group Fairness Metrics\n",
    "\n",
    "### Disparate Impact \n",
    "\n",
    "Legal theory that states a practice is considered illegal discrimination if it has a “disproportionately adverse” effect on members of a protected group. “disproportionately adverse” is usually defined using the 80% Rule, otherwise known as the four fifths rule.\n",
    "\n",
    "Disparate impact and the four fifths rule are directly related. Disparate impact is used in legal proceedings and can be typically found in law affecting employment policies. It enables challenges to policies that place a disproportionate burden on members of a protected class. It’s a way to prove employment discrimination and can be used to prove discrimination in other scenarios. The four fifths rule, also known as the 80% rule, is a guideline used to prove adverse effect on marginalized groups. The two bias detection techniques are typically used together to prove discrimination against protected groups.\n",
    "\n",
    "![image.png](attachment:image.png)"
   ]
  },
  {
   "cell_type": "code",
   "execution_count": null,
   "metadata": {},
   "outputs": [],
   "source": [
    "clf_metric.disparate_impact()"
   ]
  },
  {
   "cell_type": "markdown",
   "metadata": {},
   "source": [
    "### Four Fifths Rule\n",
    "The Four-Fifths rule states that if the selection rate for a certain group is less than 80 percent of that of the group with the highest selection rate, there is adverse impact on that group. "
   ]
  },
  {
   "cell_type": "code",
   "execution_count": null,
   "metadata": {},
   "outputs": [],
   "source": [
    "# create a dataframe for bias detection   \n",
    "bias_detect_df = test_df\n",
    "bias_detect_df['pred'] = res_x_pred"
   ]
  },
  {
   "cell_type": "markdown",
   "metadata": {},
   "source": [
    "#### Derived Race\n",
    "- 0: Race not Available\n",
    "- 1: \n",
    "- 2: Asian ?\n",
    "- 3: Black or African American\n",
    "- 4: Joint\n",
    "- 5: \n",
    "- 6: Race not Available ?\n",
    "- 7: White\n",
    "\n",
    "*Add analysis here*"
   ]
  },
  {
   "cell_type": "code",
   "execution_count": null,
   "metadata": {},
   "outputs": [],
   "source": [
    "# define race sub categories\n",
    "race_na1 = bias_detect_df[bias_detect_df['derived_race']==0]\n",
    "unknown1 = bias_detect_df[bias_detect_df['derived_race']==1]\n",
    "asian = bias_detect_df[bias_detect_df['derived_race']==2]\n",
    "african_american = bias_detect_df[bias_detect_df['derived_race']==3]\n",
    "joint = bias_detect_df[bias_detect_df['derived_race']==4]\n",
    "unknown2 = bias_detect_df[bias_detect_df['derived_race']==5]\n",
    "race_na2 = bias_detect_df[bias_detect_df['derived_race']==6]\n",
    "caucasian = bias_detect_df[bias_detect_df['derived_race']==7]\n",
    "\n",
    "# calculate race sub category rates\n",
    "rate_race_na1 = sum(race_na1['pred'])/len(race_na1)\n",
    "rate_unknown1 = sum(unknown1['pred'])/len(unknown1)\n",
    "rate_asian = sum(asian['pred'])/len(asian)\n",
    "rate_african_american = sum(african_american['pred'])/len(african_american)\n",
    "rate_joint = sum(joint['pred'])/len(joint)\n",
    "rate_unknown2 = sum(unknown2['pred'])/len(unknown2)\n",
    "rate_race_na2 = sum(race_na2['pred'])/len(race_na2)\n",
    "rate_caucasian = sum(caucasian['pred'])/len(caucasian)\n",
    "\n",
    "# print(rate_race_na1, rate_unknown1, rate_asian, rate_african_american, rate_joint, rate_unknown2, rate_race_na2, rate_caucasian)\n",
    "\n",
    "# calculate race sub category ratio \n",
    "ratio_african_american = rate_african_american/rate_caucasian\n",
    "ratio_race_na1 = rate_race_na1/rate_caucasian\n",
    "ratio_unknown1 = rate_unknown1/rate_caucasian\n",
    "ratio_asian = rate_asian/rate_caucasian\n",
    "ratio_joint = rate_joint/rate_caucasian\n",
    "ratio_unknown2 = rate_unknown2/rate_caucasian\n",
    "ratio_race_na2 = rate_race_na2/rate_caucasian\n",
    "\n",
    "# plot four fifths visualization for race sub categories\n",
    "fig = plt.figure()\n",
    "race_four_fifth = fig.add_axes([0,0,1,1])\n",
    "classes = ['Caucasian','African American','Race NA1','Unknown1', 'Asian', 'Joint', 'Unknown2', 'Race NA2']\n",
    "rates = [1, ratio_african_american, ratio_race_na1, ratio_unknown1, ratio_asian, ratio_joint, ratio_unknown2, ratio_race_na2]\n",
    "race_four_fifth.bar(classes,rates,color=sns.color_palette(\"husl\", 8))\n",
    "race_four_fifth.set_ylabel('Relative Positive Classification Rates')\n",
    "race_four_fifth.axhline(.8, ls='--', c='red')\n",
    "plt.show()"
   ]
  },
  {
   "cell_type": "markdown",
   "metadata": {},
   "source": [
    "#### Derived Sex\n",
    "- 0: Female\n",
    "- 1: Joint\n",
    "- 2: Male\n",
    "- 3: Sex not Available \n",
    "\n",
    "*Add analysis here*"
   ]
  },
  {
   "cell_type": "code",
   "execution_count": null,
   "metadata": {},
   "outputs": [],
   "source": [
    "# define sex sub categories\n",
    "female = bias_detect_df[bias_detect_df['derived_sex']==0]\n",
    "joint = bias_detect_df[bias_detect_df['derived_sex']==1]\n",
    "male = bias_detect_df[bias_detect_df['derived_sex']==2]\n",
    "sex_na = bias_detect_df[bias_detect_df['derived_sex']==3]\n",
    "\n",
    "# calculate sex sub category rates\n",
    "rate_female = sum(female['pred'])/len(female)\n",
    "rate_male = sum(male['pred'])/len(male)\n",
    "rate_joint = sum(joint['pred'])/len(joint)\n",
    "rate_sex_na = sum(sex_na['pred'])/len(sex_na)\n",
    "\n",
    "# print(rate_female,rate_male,rate_joint,rate_sex_na)    \n",
    "\n",
    "# calculate the sex sub category ratio\n",
    "ratio_female = rate_female/rate_sex_na\n",
    "ratio_male = rate_male/rate_sex_na\n",
    "ratio_joint = rate_joint/rate_sex_na\n",
    "\n",
    "# plot four fifths visualization for sex sub categories\n",
    "fig = plt.figure()\n",
    "sex_four_fifth = fig.add_axes([0,0,1,1])\n",
    "classes = ['Sex NA', 'Female', 'Male', 'Joint']\n",
    "rates = [1, ratio_female, ratio_male, ratio_joint]\n",
    "sex_four_fifth.bar(classes,rates,color=sns.color_palette(\"husl\", 8))\n",
    "sex_four_fifth.set_ylabel('Relative Positive Classification Rates')\n",
    "sex_four_fifth.axhline(.8, ls='--', c='red')\n",
    "plt.show()"
   ]
  },
  {
   "cell_type": "markdown",
   "metadata": {},
   "source": [
    "#### Derived Age\n",
    "- 0: 25-34\n",
    "- 1: 35-44?\n",
    "- 2: 45-54?\n",
    "- 3: 55-64\n",
    "- 4: 65-74\n",
    "- 5: <25?\n",
    "- 6: >74\n",
    "\n",
    "*Add analysis here*"
   ]
  },
  {
   "cell_type": "code",
   "execution_count": null,
   "metadata": {},
   "outputs": [],
   "source": [
    "# define age sub categories\n",
    "age_25_34 = bias_detect_df[bias_detect_df['applicant_age']==0]\n",
    "age_35_44 = bias_detect_df[bias_detect_df['applicant_age']==1]\n",
    "age_45_54 = bias_detect_df[bias_detect_df['applicant_age']==2]\n",
    "age_55_64 = bias_detect_df[bias_detect_df['applicant_age']==3]\n",
    "age_65_74 = bias_detect_df[bias_detect_df['applicant_age']==4]\n",
    "age_young_25 = bias_detect_df[bias_detect_df['applicant_age']==5]\n",
    "age_old_74 = bias_detect_df[bias_detect_df['applicant_age']==6]\n",
    "\n",
    "\n",
    "# calculate age sub category rates\n",
    "rate_age_25_34 = sum(age_25_34['pred'])/len(age_25_34)\n",
    "rate_age_35_44 = sum(age_35_44['pred'])/len(age_35_44)\n",
    "rate_age_45_54 = sum(age_45_54['pred'])/len(age_45_54)\n",
    "rate_age_55_64 = sum(age_55_64['pred'])/len(age_55_64)\n",
    "rate_age_65_74 = sum(age_65_74['pred'])/len(age_65_74)\n",
    "rate_age_young_25 = sum(age_young_25['pred'])/len(age_young_25)\n",
    "rate_age_old_74 = sum(age_old_74['pred'])/len(age_old_74)\n",
    "\n",
    "# print(rate_age_25_34, rate_age_35_44, rate_age_45_54, rate_age_55_64, rate_age_65_74, rate_age_young_25, rate_age_old_74)    \n",
    "\n",
    "# calculate age sub category ratio \n",
    "ratio_age_25_34 = rate_age_25_34/rate_age_young_25\n",
    "ratio_age_35_44 = rate_age_35_44/rate_age_young_25\n",
    "ratio_age_45_54 = rate_age_45_54/rate_age_young_25\n",
    "ratio_age_55_64 = rate_age_55_64/rate_age_young_25\n",
    "ratio_age_65_74 = rate_age_65_74/rate_age_young_25\n",
    "ratio_age_old_74 = rate_age_old_74/rate_age_young_25\n",
    "\n",
    "# plot four fifths visualization for age sub categories\n",
    "fig = plt.figure()\n",
    "age_four_fifth = fig.add_axes([0,0,1,1])\n",
    "classes = ['< 25', '25-34', '35-44', '45-54', '55-64', '65-74', '> 74']\n",
    "rates = [1, ratio_age_25_34, ratio_age_35_44, ratio_age_45_54, ratio_age_55_64, ratio_age_65_74, ratio_age_old_74]\n",
    "age_four_fifth.bar(classes,rates,color=sns.color_palette(\"husl\", 8))\n",
    "age_four_fifth.set_ylabel('Relative Positive Classification Rates')\n",
    "age_four_fifth.axhline(.8, ls='--', c='red')\n",
    "plt.show()"
   ]
  },
  {
   "cell_type": "markdown",
   "metadata": {},
   "source": [
    "#### Debt to Income Ratio \n",
    "- 0: 20-30\n",
    "- 1: 30-36\n",
    "- 2: 36-39\n",
    "- 3: 40-45\n",
    "- 4: 46-49\n",
    "- 5: 50-60\n",
    "\n",
    "*Add analysis here*"
   ]
  },
  {
   "cell_type": "code",
   "execution_count": null,
   "metadata": {},
   "outputs": [],
   "source": [
    "# define debt to income ratio sub categories\n",
    "dir_20_30 = bias_detect_df[bias_detect_df['debt_to_income_ratio']==0]\n",
    "dir_30_36 = bias_detect_df[bias_detect_df['debt_to_income_ratio']==1]\n",
    "dir_36_39 = bias_detect_df[bias_detect_df['debt_to_income_ratio']==2]\n",
    "dir_40_45 = bias_detect_df[bias_detect_df['debt_to_income_ratio']==3]\n",
    "dir_46_49 = bias_detect_df[bias_detect_df['debt_to_income_ratio']==4]\n",
    "dir_50_60 = bias_detect_df[bias_detect_df['debt_to_income_ratio']==5]\n",
    "\n",
    "# calculate debt to income ratio sub category rates\n",
    "rate_dir_20_30 = sum(dir_20_30['pred'])/len(dir_20_30)\n",
    "rate_dir_30_36 = sum(dir_30_36['pred'])/len(dir_30_36)\n",
    "rate_dir_36_39 = sum(dir_36_39['pred'])/len(dir_36_39)\n",
    "rate_dir_40_45 = sum(dir_40_45['pred'])/len(dir_40_45)\n",
    "rate_dir_46_49 = sum(dir_46_49['pred'])/len(dir_46_49)\n",
    "rate_dir_50_60 = sum(dir_50_60['pred'])/len(dir_50_60)\n",
    "\n",
    "# print(rate_dir_20_30, rate_dir_30_36, rate_dir_36_39, rate_dir_40_45, rate_dir_46_49, rate_dir_50_60)    \n",
    "\n",
    "# calculate debt to income ratio sub category ratio \n",
    "ratio_dir_20_30 = rate_dir_20_30/rate_dir_30_36\n",
    "ratio_dir_36_39 = rate_dir_36_39/rate_dir_30_36\n",
    "ratio_dir_40_45 = rate_dir_40_45/rate_dir_30_36\n",
    "ratio_dir_46_49 = rate_dir_46_49/rate_dir_30_36\n",
    "ratio_dir_50_60 = rate_dir_50_60/rate_dir_30_36\n",
    "\n",
    "# plot four fifths visualization for debt to income ratio sub categories\n",
    "fig = plt.figure()\n",
    "age_four_fifth = fig.add_axes([0,0,1,1])\n",
    "classes = ['30-36', '20-30', '36-39', '40-45', '46-49', '50-60']\n",
    "rates = [1, ratio_dir_20_30, ratio_dir_36_39, ratio_dir_40_45, ratio_dir_46_49, ratio_dir_50_60]\n",
    "age_four_fifth.bar(classes,rates,color=sns.color_palette(\"husl\", 8))\n",
    "age_four_fifth.set_ylabel('Relative Positive Classification Rates')\n",
    "age_four_fifth.axhline(.8, ls='--', c='red')\n",
    "plt.show()"
   ]
  },
  {
   "attachments": {
    "image.png": {
     "image/png": "[encoded data removed]"
    }
   },
   "cell_type": "markdown",
   "metadata": {},
   "source": [
    "### Statistical Parity Difference\n",
    "The mathematical equivalence of the disparate impact principle at its most extreme version (allowing no adverse effect on members of the protected group) for binary classification tasks is the Statistical Parity condition: it essentially equalizes the outcomes across the protected and non-protected groups.\n",
    "\n",
    "Statistical parity suggests that a predictor is unbiased if the prediction is independent of the protected attribute. Deviations from statistical parity are measured by the statistical parity difference which is what we will be using to identify statistical parity.\n",
    "\n",
    "![image.png](attachment:image.png)\n"
   ]
  },
  {
   "cell_type": "code",
   "execution_count": null,
   "metadata": {},
   "outputs": [],
   "source": [
    "clf_metric.statistical_parity_difference()"
   ]
  },
  {
   "cell_type": "markdown",
   "metadata": {},
   "source": [
    "### Balance\n",
    "The balance test examine whether the average score received by individuals in positive and negative instances are similar regardless of their protected attributes."
   ]
  },
  {
   "cell_type": "code",
   "execution_count": null,
   "metadata": {},
   "outputs": [],
   "source": [
    "# Add prediction probability to dataframe for balance calculation \n",
    "bias_detect_df['pred_prob'] = res_x_prob_pred\n",
    "bias_detect_df.head()"
   ]
  },
  {
   "cell_type": "markdown",
   "metadata": {},
   "source": [
    "#### Derived Ethnicity\n",
    "- 0: Ethnicity Not Available\n",
    "- 1: Hispanic or Latino \n",
    "- 2: Joint\n",
    "- 3: Not Hispanic or Latino\n",
    "\n",
    "The model tends to assign a higher probability of mortgage lending approvals to individuals whose ethnicity is defined as not hispanic or latino."
   ]
  },
  {
   "cell_type": "code",
   "execution_count": null,
   "metadata": {},
   "outputs": [],
   "source": [
    "# Calculate the average prediction probability for each prediction and ethnicity \n",
    "avg_pred_prob = bias_detect_df.groupby(['derived_ethnicity','pred'])['pred_prob'].mean()\n",
    "ethnicity_balance = pd.DataFrame(avg_pred_prob)\n",
    "ethnicity_balance = ethnicity_balance.reset_index()\n",
    "\n",
    "# Convert race from numeric to string\n",
    "ethnicity_balance.loc[0:1,['derived_ethnicity']] = 'Ethnicity N/A'\n",
    "ethnicity_balance.loc[2:3,['derived_ethnicity']] = 'Hispanic or Latino'\n",
    "ethnicity_balance.loc[4:5,['derived_ethnicity']] = 'Joint'\n",
    "ethnicity_balance.loc[6:7,['derived_ethnicity']] = 'Not Hispanic or Latino'\n",
    "\n",
    "sns.barplot(x='pred',y='pred_prob',hue='derived_ethnicity',data=ethnicity_balance, palette=sns.color_palette(\"husl\", 8)).set_title('Balance of Predictions for Each Ethnicity')"
   ]
  },
  {
   "cell_type": "markdown",
   "metadata": {},
   "source": [
    "#### Derived Race\n",
    "- 0: Race not Available\n",
    "- 1: \n",
    "- 2: Asian ?\n",
    "- 3: Black or African American\n",
    "- 4: Joint\n",
    "- 5: \n",
    "- 6: Race not Available ?\n",
    "- 7: White\n",
    "\n",
    "The model tends to assign a higher probability of mortgage lending approvals to individuals whose race is defined as white."
   ]
  },
  {
   "cell_type": "code",
   "execution_count": null,
   "metadata": {},
   "outputs": [],
   "source": [
    "# Calculate the average prediction probability for each prediction and race \n",
    "avg_pred_prob = bias_detect_df.groupby(['derived_race','pred'])['pred_prob'].mean()\n",
    "race_balance = pd.DataFrame(avg_pred_prob)\n",
    "race_balance = race_balance.reset_index()\n",
    "\n",
    "# Convert sex from numeric to string\n",
    "race_balance.loc[0:1,['derived_race']] = 'Race N/A'\n",
    "race_balance.loc[2:3,['derived_race']] = 'Unknown'\n",
    "race_balance.loc[4:5,['derived_race']] = 'Asian'\n",
    "race_balance.loc[6:7,['derived_race']] = 'Black or African American'\n",
    "race_balance.loc[8:9,['derived_race']] = 'Joint'\n",
    "race_balance.loc[10:11,['derived_race']] = 'Unknown'\n",
    "race_balance.loc[12:13,['derived_race']] = 'Race N/A'\n",
    "race_balance.loc[14:15,['derived_race']] = 'White'\n",
    "\n",
    "sns.barplot(x='pred',y='pred_prob',hue='derived_race',data=race_balance, palette=sns.color_palette(\"husl\", 8)).set_title('Balance of Predictions for Each Race')"
   ]
  },
  {
   "cell_type": "markdown",
   "metadata": {},
   "source": [
    "#### Derived Sex\n",
    "- 0: Female\n",
    "- 1: Joint\n",
    "- 2: Male\n",
    "- 3: Sex not Available\n",
    "\n",
    "The model tends to assign a higher probability of mortgage lending approvals to individuals whose sex is defined as male or unknown."
   ]
  },
  {
   "cell_type": "code",
   "execution_count": null,
   "metadata": {},
   "outputs": [],
   "source": [
    "# Calculate the average prediction probability for each prediction and sex \n",
    "avg_pred_prob = bias_detect_df.groupby(['derived_sex','pred'])['pred_prob'].mean()\n",
    "sex_balance = pd.DataFrame(avg_pred_prob)\n",
    "sex_balance = sex_balance.reset_index()\n",
    "\n",
    "# Convert poverty from numeric to string\n",
    "sex_balance.loc[0:1,['derived_sex']] = 'Female'\n",
    "sex_balance.loc[2:3,['derived_sex']] = 'Joint'\n",
    "sex_balance.loc[4:5,['derived_sex']] = 'Male'\n",
    "sex_balance.loc[6:7,['derived_sex']] = 'Sex Not Available'\n",
    "\n",
    "sns.barplot(x='pred',y='pred_prob',hue='derived_sex',data=sex_balance, palette=sns.color_palette(\"husl\", 8)).set_title('Balance of Predictions for Each Sex')"
   ]
  },
  {
   "cell_type": "markdown",
   "metadata": {},
   "source": [
    "#### Derived Age\n",
    "- 0: 25-34\n",
    "- 1: 35-44?\n",
    "- 2: 45-54?\n",
    "- 3: 55-64\n",
    "- 4: 65-74\n",
    "- 5: <25?\n",
    "- 6: >74\n",
    "\n",
    "The model tends to assign a higher probability of mortgage lending approvals to individuals whose age group is defined as younger than 25 years old."
   ]
  },
  {
   "cell_type": "code",
   "execution_count": null,
   "metadata": {},
   "outputs": [],
   "source": [
    "# Calculate the average prediction probability for each prediction and age \n",
    "avg_pred_prob = bias_detect_df.groupby(['applicant_age','pred'])['pred_prob'].mean()\n",
    "age_balance = pd.DataFrame(avg_pred_prob)\n",
    "age_balance = age_balance.reset_index()\n",
    "\n",
    "# age_balance.head(40)\n",
    "\n",
    "# Convert poverty from numeric to string\n",
    "age_balance.loc[0:1,['applicant_age']] = '25-34'\n",
    "age_balance.loc[2:3,['applicant_age']] = '35-44'\n",
    "age_balance.loc[4:5,['applicant_age']] = '45-54'\n",
    "age_balance.loc[6:7,['applicant_age']] = '55-64'\n",
    "age_balance.loc[8:9,['applicant_age']] = '65-74'\n",
    "age_balance.loc[10:11,['applicant_age']] = '< 25'\n",
    "age_balance.loc[12:13,['applicant_age']] = '> 74'\n",
    "\n",
    "sns.barplot(x='pred',y='pred_prob',hue='applicant_age',data=age_balance, palette=sns.color_palette(\"husl\", 8)).set_title('Balance of Predictions for Each Age Group')"
   ]
  },
  {
   "cell_type": "markdown",
   "metadata": {},
   "source": [
    "#### Debt to Income Ratio \n",
    "- 0: 20-30\n",
    "- 1: 30-36\n",
    "- 2: 36-39\n",
    "- 3: 40-45\n",
    "- 4: 46-49\n",
    "- 5: 50-60\n",
    "\n",
    "The model tends to assign a higher probability of mortgage lending approvals to individuals whose debt to income ratio group is defined as 20% - 30%."
   ]
  },
  {
   "cell_type": "code",
   "execution_count": null,
   "metadata": {},
   "outputs": [],
   "source": [
    "# Calculate the average prediction probability for each prediction and dir group \n",
    "avg_pred_prob = bias_detect_df.groupby(['debt_to_income_ratio','pred'])['pred_prob'].mean()\n",
    "dir_balance = pd.DataFrame(avg_pred_prob)\n",
    "dir_balance = dir_balance.reset_index()\n",
    "\n",
    "# Convert poverty from numeric to string\n",
    "dir_balance.loc[0:1,['debt_to_income_ratio']] = '20-30'\n",
    "dir_balance.loc[2:3,['debt_to_income_ratio']] = '30-36'\n",
    "dir_balance.loc[4:5,['debt_to_income_ratio']] = '36-39'\n",
    "dir_balance.loc[6:7,['debt_to_income_ratio']] = '40-45'\n",
    "dir_balance.loc[8:9,['debt_to_income_ratio']] = '46-49'\n",
    "dir_balance.loc[10:11,['debt_to_income_ratio']] = '50-60'\n",
    "\n",
    "\n",
    "sns.barplot(x='pred',y='pred_prob',hue='debt_to_income_ratio',data=dir_balance, palette=sns.color_palette(\"husl\", 8)).set_title('Balance of Predictions for Each Debt ot Income Ratio Level')"
   ]
  },
  {
   "attachments": {
    "image.png": {
     "image/png": "[encoded data removed]"
    }
   },
   "cell_type": "markdown",
   "metadata": {},
   "source": [
    "### Equal Opportunity Difference\n",
    "Equal opportunity is the idea that all people are given an equitable chance in order to ensure fairness. Algorithms that lack equitable opportunities can exacerbate discrimination in already marginalized groups and can foster social exclusion. Using the difference in recall scores between unprivileged and privileged groups can calculate the equality of how the subclasses of protected attributes are treated by algorithms. \n",
    "\n",
    "![image.png](attachment:image.png)"
   ]
  },
  {
   "cell_type": "code",
   "execution_count": null,
   "metadata": {},
   "outputs": [],
   "source": [
    "clf_metric.equal_opportunity_difference()"
   ]
  },
  {
   "attachments": {
    "image.png": {
     "image/png": "[encoded data removed]"
    }
   },
   "cell_type": "markdown",
   "metadata": {},
   "source": [
    "### Average Odds Difference\n",
    "The average odds difference is the average of difference in false positive rates and true positive rates between unpriviliged and privileged groups. A value of 0 implies both groups have equal benefit. \n",
    "\n",
    "![image.png](attachment:image.png)"
   ]
  },
  {
   "cell_type": "code",
   "execution_count": null,
   "metadata": {},
   "outputs": [],
   "source": [
    "clf_metric.average_odds_difference()"
   ]
  },
  {
   "attachments": {
    "image.png": {
     "image/png": "[encoded data removed]"
    }
   },
   "cell_type": "markdown",
   "metadata": {},
   "source": [
    "## Individual Fairness\n",
    "\n",
    "### Theil Index\n",
    "The Theil index is a statistic used to measure economic inequality. The Theil index measures entropic distance the population is away from the ideal egalitarian state of everyone having the same income. the numerical result is in terms of negative entropy so that a higher number indicates more order that is further away from the ideal of maximum disorder. Forumulating the index to represent negative entropy instead of entropy allows it to be a measure of inequality rather than equality.\n",
    "\n",
    "![image.png](attachment:image.png)"
   ]
  },
  {
   "cell_type": "code",
   "execution_count": null,
   "metadata": {},
   "outputs": [],
   "source": [
    "clf_metric.theil_index()"
   ]
  },
  {
   "attachments": {
    "image.png": {
     "image/png": "[encoded data removed]"
    }
   },
   "cell_type": "markdown",
   "metadata": {},
   "source": [
    "### False Positive Rate\n",
    "The false positive rate is the proportion of the individuals with a known negative condition for which the test result is positive. This rate is sometimes called the fall-out. \n",
    "\n",
    "![image.png](attachment:image.png)"
   ]
  },
  {
   "cell_type": "code",
   "execution_count": null,
   "metadata": {},
   "outputs": [],
   "source": [
    "clf_metric.false_positive_rate()"
   ]
  },
  {
   "attachments": {
    "image.png": {
     "image/png": "[encoded data removed]"
    }
   },
   "cell_type": "markdown",
   "metadata": {},
   "source": [
    "### False Negative Rate\n",
    "The false negative rate is the proportion of the individuals with a known positive condition for which the testresult is negative. This rate is sometimes called the miss rate. \n",
    "![image.png](attachment:image.png)"
   ]
  },
  {
   "cell_type": "code",
   "execution_count": null,
   "metadata": {},
   "outputs": [],
   "source": [
    "clf_metric.false_negative_rate()"
   ]
  },
  {
   "attachments": {
    "image.png": {
     "image/png": "[encoded data removed]"
    }
   },
   "cell_type": "markdown",
   "metadata": {},
   "source": [
    "### False Omission Rate\n",
    "The false omission rate is the proportion of the individuals with a negative test result for which the true condition\n",
    "is positive. \n",
    "\n",
    "![image.png](attachment:image.png)"
   ]
  },
  {
   "cell_type": "code",
   "execution_count": null,
   "metadata": {},
   "outputs": [],
   "source": [
    "clf_metric.false_omission_rate()"
   ]
  },
  {
   "attachments": {
    "image.png": {
     "image/png": "[encoded data removed]"
    }
   },
   "cell_type": "markdown",
   "metadata": {},
   "source": [
    "### False Discovery Rate\n",
    "The false discovery rate is the proportion of the individuals with a positive test result for which the true condition is negative.\n",
    "\n",
    "![image.png](attachment:image.png)"
   ]
  },
  {
   "cell_type": "code",
   "execution_count": null,
   "metadata": {},
   "outputs": [],
   "source": [
    "clf_metric.false_discovery_rate()"
   ]
  },
  {
   "attachments": {
    "image.png": {
     "image/png": "[encoded data removed]"
    }
   },
   "cell_type": "markdown",
   "metadata": {},
   "source": [
    "### Error Rate\n",
    "![image.png](attachment:image.png)"
   ]
  },
  {
   "cell_type": "code",
   "execution_count": null,
   "metadata": {},
   "outputs": [],
   "source": [
    "clf_metric.error_rate()"
   ]
  },
  {
   "attachments": {
    "image.png": {
     "image/png": "[encoded data removed]"
    }
   },
   "cell_type": "markdown",
   "metadata": {},
   "source": [
    "### Accuracy\n",
    "The accuracy reflects the total proportion of individuals that are correctly classified.\n",
    "\n",
    "![image.png](attachment:image.png)"
   ]
  },
  {
   "cell_type": "code",
   "execution_count": null,
   "metadata": {},
   "outputs": [],
   "source": [
    "clf_metric.accuracy()"
   ]
  },
  {
   "cell_type": "markdown",
   "metadata": {},
   "source": [
    "### Differential Fairness Bias Amplification\n",
    "Bias amplification is the difference in smoothed EDF between the classifier and the original dataset."
   ]
  },
  {
   "cell_type": "code",
   "execution_count": null,
   "metadata": {},
   "outputs": [],
   "source": [
    "clf_metric.differential_fairness_bias_amplification()"
   ]
  },
  {
   "cell_type": "markdown",
   "metadata": {},
   "source": [
    "### Binary Confusion Matrix\n",
    "Computes the number of true/false positives/negatives, optionally conditioned on protected attributes.\n",
    "\n"
   ]
  },
  {
   "cell_type": "code",
   "execution_count": null,
   "metadata": {},
   "outputs": [],
   "source": [
    "clf_metric.binary_confusion_matrix()"
   ]
  },
  {
   "cell_type": "markdown",
   "metadata": {},
   "source": [
    "## 9.1 Bias Identification Explanation\n",
    "#### Fairness Metrics\n",
    "*Add analysis here*\n",
    "\n",
    "\n",
    "#### Four Fifths Analysis\n",
    "\n",
    "*Add analysis here*"
   ]
  },
  {
   "cell_type": "markdown",
   "metadata": {},
   "source": [
    "# 10. Mitigating Bias\n",
    "To mitigate bias, I utilized an open-source toolkit/Python package of metrics and algorithms introduced by IBM Research in 2018. Bias mitigation algorithms can be generally categorized into three categories: pre-process (which affects the data, prior to training), in-process (which affects the classifier itself), and post-process (which affects the prediction labels that are output). \n",
    "\n",
    "Bias mitigation algorithms attempt to improve the fairness metrics by modifying the training data, the learning algorithm, or the predictions. These algorithm categories are known as pre-processing, in-processing, and post-processing, respectively. Bias mitigation algorithms attempt to improve algorithmic fairness by modifying the training data, the learning algorithm, or predictions. These algorithm categories are known as pre-processing, in-processing, and post-processing. Debiasing is a complex technique that cannot be applied for all problems in the same way. With the use of the pre, in, and post-processing debiasing techniques, comes with the risk of losing interpretability of the model. \n"
   ]
  },
  {
   "cell_type": "markdown",
   "metadata": {},
   "source": [
    "### Bias Mitigation with Pre-Processing\n",
    "One approach for mitigating bias that some people often suggest is simply to remove the feature that should be protected. For example, if you are concerned of a model being sexist and you have gender available in your data set, remove it from the features passed to the machine learning algorithm. Unfortunately, this rarely fixes the problem. \n",
    "\n",
    "Pre-processing algorithms can be used to mitigate algorithmic bias. Pre-processing algorithms are applied prior to training the model. There are many pre-processing techniques but the most common and widely used are reweighing and applying a disparate impact remover. Reweighing is a technique that generates weights for labels differently to ensure fairness before fitting a classification model. The disparate impact remover is a variable repair technique. It modifies feature values to increase group fairness while preserving rank-ordering within groups."
   ]
  },
  {
   "cell_type": "code",
   "execution_count": null,
   "metadata": {},
   "outputs": [],
   "source": [
    "# Disparate impact remover preprocessing \n",
    "di = DisparateImpactRemover(repair_level = 1.0)\n",
    "dataset_transf_train = di.fit_transform(bld_df)\n",
    "transformed = dataset_transf_train.convert_to_dataframe()[0]"
   ]
  },
  {
   "cell_type": "markdown",
   "metadata": {},
   "source": [
    "#### Retrain the SMOTE XGBoost Model"
   ]
  },
  {
   "cell_type": "code",
   "execution_count": null,
   "metadata": {},
   "outputs": [],
   "source": [
    "x_trans = transformed.drop(['action_taken'], axis = 1)\n",
    "y_trans = transformed['action_taken']\n",
    "\n",
    "scaler = StandardScaler()\n",
    "data_std = scaler.fit_transform(x_trans)\n",
    "X_trans_train,X_trans_test,y_trans_train,y_trans_test = train_test_split(x_trans, y_trans, test_size=0.3, random_state = 42)\n",
    "\n",
    "res_x_clf.fit(X_trans_train,y_trans_train)\n",
    "\n",
    "# # Predict using test set\n",
    "pre_res_x_pred = res_x_clf.predict(X_trans_test)\n",
    "pre_res_x_prob_pred = res_x_clf.predict_proba(X_trans_test)[:,1]"
   ]
  },
  {
   "cell_type": "markdown",
   "metadata": {},
   "source": [
    "#### Model Evaluation Results: SMOTE XGBoost Model using PreProcessing Disparate Impact Remover Technique"
   ]
  },
  {
   "cell_type": "code",
   "execution_count": null,
   "metadata": {},
   "outputs": [],
   "source": [
    "# Call model evaluation metrics\n",
    "pre_results = model_eval(y_trans_test, pre_res_x_pred)\n",
    "smote_x_results = model_eval(y_test, res_x_pred)\n",
    "\n",
    "# Visualize model evaluation metrics in a heatmap \n",
    "results = pre_results\n",
    "smote_xgbmodel = smote_x_results\n",
    "\n",
    "\n",
    "viz = pd.DataFrame.from_dict(results, orient='index', columns=['SMOTE XGBoost PreProcessing'])\n",
    "viz['SMOTE XGBoost'] = pd.DataFrame.from_dict(smote_xgbmodel, orient='index', columns=['SMOTE XGBoost'])\n",
    "\n",
    "viz.head(10)\n",
    "ax = sns.heatmap(viz,\n",
    "                cmap = 'BuPu',\n",
    "                linewidths = .5,\n",
    "                annot = True)"
   ]
  },
  {
   "cell_type": "markdown",
   "metadata": {},
   "source": [
    "#### Fairness Results: SMOTE XGBoost Model using PreProcessing Disparate Impact Remover Technique"
   ]
  },
  {
   "cell_type": "code",
   "execution_count": null,
   "metadata": {},
   "outputs": [],
   "source": [
    "# Construct the test dataframe \n",
    "trans_test_df = pd.DataFrame(X_trans_test)\n",
    "trans_test_df['action_taken'] = y_trans_test\n",
    "\n",
    "# Convert the test dataframe into a BinaryLabelDataset\n",
    "bld_df = BinaryLabelDataset(favorable_label=1,\n",
    "                            unfavorable_label=0,\n",
    "                            df=trans_test_df,\n",
    "                            label_names=['action_taken'],\n",
    "                            protected_attribute_names=['derived_race','derived_sex','derived_ethnicity'])\n",
    "\n",
    "# Copy the test BinaryLabelDataset format and add the logistic regression predictions \n",
    "bld_df_pred = bld_df.copy()\n",
    "bld_df_pred.labels = pre_res_x_pred\n",
    "\n",
    "# Initialize the unprivileged and privileged groups\n",
    "unprivileged_groups = [{'derived_race':3}] # African American \n",
    "privileged_groups = [{'derived_race':7}] # Caucasian  \n",
    "\n",
    "# Create the ClassificationMetric that will be used in fairness assessment \n",
    "trans_clf_metric = ClassificationMetric(bld_df,\n",
    "                                    bld_df_pred,\n",
    "                                    unprivileged_groups,\n",
    "                                    privileged_groups)"
   ]
  },
  {
   "cell_type": "code",
   "execution_count": null,
   "metadata": {
    "scrolled": false
   },
   "outputs": [],
   "source": [
    "# Call fairness assessment metrics \n",
    "preproc_fair_assessment = fairness_bias_detection(trans_clf_metric)\n",
    "fair_assessment = fairness_bias_detection(clf_metric)\n",
    "\n",
    "fair_viz = pd.DataFrame.from_dict(preproc_fair_assessment, orient='index', columns=['Preprocessing SMOTE XGBoost Fairness Assessment'])\n",
    "fair_viz['Preprocessing SMOTE XGBoost Fairness Assessment'] = fair_viz['Preprocessing SMOTE XGBoost Fairness Assessment'].astype(float)\n",
    "fair_viz['SMOTE XGBoost Fairness Assessment'] = pd.DataFrame.from_dict(fair_assessment, orient='index', columns=['SMOTE XGBoost Fairness Assessment'])\n",
    "fair_viz.head(15)\n",
    "\n",
    "fair_results = sns.heatmap(fair_viz,\n",
    "                           cmap=\"BuPu\",\n",
    "                           linewidths=.5,\n",
    "                           annot=True)"
   ]
  },
  {
   "cell_type": "markdown",
   "metadata": {},
   "source": [
    "## 10.1 Preprocessing Bias Mitigation Results Explanation \n",
    "Preprocessing algorithms like the disparate impact remover are used to mitigate bias. From knowledge of bias within ML, a fairness through unawareness approach can never fully mitigate bias like an algorithm can. Fairness though unawareness is a technique where protected attributes like race, age, and sex are removed from the model. However, typically bias will still remain. The disparate impact remover preprocessing bias mitigation technique can be applied to the training data and used when fitting and predicting a new model. \n",
    "\n",
    "From understanding the results of applying the disparate impact remover to the newly trained ‘fair’ SMOTE XGBoost model, we can see the ‘fair’ model performs better in several of the model evaluation categories like overall accuracy and in predicting the negative class. However, the newly trained ‘fair’ model has a harder time predicting the positive class where the previous model excelled. This may come as an interesting conclusion. Logically it makes more sense if the ‘fair’ model performs better at every model evaluation category than the original model. However, there is a trade-off between accuracy and fairness. When algorithms are built for accuracy needs, they typically don’t pay mind to perpetuating potential bias. When algorithms are built with fairness in mind, they are less accurate than if they had exploited the bias. While although there is no right way to handle the accuracy and fairness trade off, there are tools that can help data scientists optimize their models for a level of accuracy and fairness they’re comfortable implementing.  \n",
    "\n",
    "The fairness results of the ‘fair’ model and the original SMOTE XGBoost model indicate that the model’s fairness improved with the disparate impact remover technique. The disparate impact the model has on marginalized groups decreased, the overall accuracy increased, and many of the other metrics improved within the ‘fair’ model. However, there is still bias that remains, which we can see with the increase of the differential fairness bias amplification and Theil index. While although the fairness improved in some ways, it is ultimately a judgement call on which model to choose for final implementation. \n"
   ]
  },
  {
   "cell_type": "markdown",
   "metadata": {},
   "source": [
    "### Bias Mitigation with Post-Processing\n",
    "Post-processing algorithms are bias mitigation strategies to build accurate performing models while ensuring models are less discriminant. Post-processing algorithms are applied after training the model. There are several post-processing techniques but the most used are the equalized odds post-processing and calibrated equalized odds post-processing techniques. The equalized odds technique solves a linear program to find probabilities with which to change output labels to optimize equalized odds. Calibrated equalized odds postprocessing optimizes over calibrated classifier score outputs to find probabilities with which to change output labels with an equalized odds objective.\n",
    "\n",
    "#### Calibrated Equalized Odds Post-Processing"
   ]
  },
  {
   "cell_type": "code",
   "execution_count": null,
   "metadata": {},
   "outputs": [],
   "source": [
    "# Construct the test dataframe \n",
    "test_df = pd.DataFrame(X_test)\n",
    "test_df['action_taken'] = y_test\n",
    "\n",
    "# Convert the test dataframe into a BinaryLabelDataset\n",
    "bld_df = BinaryLabelDataset(favorable_label=1,\n",
    "                            unfavorable_label=0,\n",
    "                            df=test_df,\n",
    "                            label_names=['action_taken'],\n",
    "                            protected_attribute_names=['derived_race','derived_sex','derived_ethnicity'])\n",
    "\n",
    "# Copy the test BinaryLabelDataset format and add the logistic regression predictions \n",
    "bld_df_pred = bld_df.copy()\n",
    "bld_df_pred.labels = res_x_pred"
   ]
  },
  {
   "cell_type": "code",
   "execution_count": null,
   "metadata": {},
   "outputs": [],
   "source": [
    "cost_constraint='weighted'\n",
    "# Learn parameters to equalize odds and apply to create a new dataset\n",
    "copost = CalibratedEqOddsPostprocessing(privileged_groups = privileged_groups,\n",
    "                                     unprivileged_groups = unprivileged_groups,\n",
    "                                     cost_constraint=cost_constraint,\n",
    "                                     seed=42)\n",
    "\n",
    "copost = copost.fit(bld_df, bld_df_pred)\n",
    "data_transf_test_pred = copost.predict(bld_df_pred)\n",
    "post_res_x_pred=data_transf_test_pred.labels"
   ]
  },
  {
   "cell_type": "markdown",
   "metadata": {},
   "source": [
    "#### Model Evaluation Results: SMOTE XGBoost Model using PostProcessing Calibrated Equalized Odds Technique"
   ]
  },
  {
   "cell_type": "code",
   "execution_count": null,
   "metadata": {},
   "outputs": [],
   "source": [
    "# Convert the test dataframe into a BinaryLabelDataset\n",
    "bld_df = BinaryLabelDataset(favorable_label=1,\n",
    "                            unfavorable_label=0,\n",
    "                            df=test_df,\n",
    "                            label_names=['action_taken'],\n",
    "                            protected_attribute_names=['derived_race','derived_sex', 'derived_ethnicity'])\n",
    "\n",
    "# Copy the test BinaryLabelDataset format and add the logistic regression predictions \n",
    "bld_df_pred = bld_df.copy()\n",
    "bld_df_pred.labels = post_res_x_pred\n",
    "\n",
    "# Initialize the unprivileged and privileged groups\n",
    "unprivileged_groups = [{'derived_race':3}] # African American \n",
    "privileged_groups = [{'derived_race':7}] # Caucasian  \n",
    "\n",
    "# Create the ClassificationMetric that will be used in fairness assessment \n",
    "post_clf_metric = ClassificationMetric(bld_df,\n",
    "                                        bld_df_pred,\n",
    "                                        unprivileged_groups,\n",
    "                                        privileged_groups)"
   ]
  },
  {
   "cell_type": "code",
   "execution_count": null,
   "metadata": {
    "scrolled": true
   },
   "outputs": [],
   "source": [
    "# Call fairness assessment metrics \n",
    "postproc_fair_assessment = fairness_bias_detection(post_clf_metric)\n",
    "\n",
    "fair_viz = pd.DataFrame.from_dict(postproc_fair_assessment, orient='index', columns=['Postprocessing SMOTE XGBoost Fairness Assessment'])\n",
    "fair_viz['Postprocessing SMOTE XGBoost Fairness Assessment'] = fair_viz['Postprocessing SMOTE XGBoost Fairness Assessment'].astype(float)\n",
    "fair_viz['Preprocessing SMOTE XGBoost Fairness Assessment'] = pd.DataFrame.from_dict(preproc_fair_assessment, orient='index', columns=['Preprocessing SMOTE XGBoost Fairness Assessment'])\n",
    "fair_viz['SMOTE XGBoost Fairness Assessment'] = pd.DataFrame.from_dict(fair_assessment, orient='index', columns=['SMOTE XGBoost Fairness Assessment'])\n",
    "\n",
    "fair_viz.head(15)\n",
    "\n",
    "fair_results = sns.heatmap(fair_viz,\n",
    "                           cmap=\"BuPu\",\n",
    "                           linewidths=.5,\n",
    "                           annot=True)"
   ]
  },
  {
   "cell_type": "markdown",
   "metadata": {},
   "source": [
    "## 10.2 Postprocessing Bias Mitigation Results Explanation\n",
    "Postprocessing algorithms like the calibrated equalized odds technique are used to mitigate bias after a model has been trained. There is often debate surrounding which processing technique is better to use. Often, postprocessing techniques rarely remove bias from an already trained model and instead remove bias from the outcomes. Refer to Figure 8 on the next page. \n",
    "The results of applying the calibrated equalized odds postprocessing bias mitigation technique show that the postprocessing model improved overall accuracy, Theil index, false discovery rate, and false omission rate. However, it did not perform as well as the preprocessing ‘fair’ model or original SMOTE XGBoost model in differential fairness bias amplification or disparate impact. \n",
    "\n",
    "While although each technique improved model fairness, there is no concise answer as to which technique subjectively improved fairness overall. \n"
   ]
  },
  {
   "cell_type": "markdown",
   "metadata": {},
   "source": [
    "# 11. Explain Model Predictions\n",
    "The first step in explaining the model's predictions is to create an explainer. We can use SHAP Tree explainer, which is the main explainer used for tabular data for tree based problems. SHAP uses feature importance and shapley values that are an adaptation of game theory.  SHAP scales and generates new data using locality and computes statistics like mean for numerical data and frequency for categorical data, due to this we need to pass our training data as a parameter."
   ]
  },
  {
   "cell_type": "code",
   "execution_count": null,
   "metadata": {
    "scrolled": true
   },
   "outputs": [],
   "source": [
    "# Explain predictions using the SHAP TreeExplainer\n",
    "shap.initjs()\n",
    "explainer = shap.TreeExplainer(res_x_clf)\n",
    "shap_values = explainer.shap_values(X_res)"
   ]
  },
  {
   "cell_type": "markdown",
   "metadata": {},
   "source": [
    "#### Local Explainability: Visualize a Single Prediction "
   ]
  },
  {
   "cell_type": "code",
   "execution_count": null,
   "metadata": {},
   "outputs": [],
   "source": [
    "shap.force_plot(explainer.expected_value, shap_values[0,:], X_res.iloc[0,:])"
   ]
  },
  {
   "cell_type": "markdown",
   "metadata": {},
   "source": [
    "#### Local Explainability: Visualize 1,000 Predictions "
   ]
  },
  {
   "cell_type": "code",
   "execution_count": null,
   "metadata": {},
   "outputs": [],
   "source": [
    "shap.force_plot(explainer.expected_value, shap_values[:1000,:], X_res.iloc[:1000,:])"
   ]
  },
  {
   "cell_type": "markdown",
   "metadata": {},
   "source": [
    "#### Gloabl Explainability: Bar Chart Mean of Feature Importance"
   ]
  },
  {
   "cell_type": "code",
   "execution_count": null,
   "metadata": {},
   "outputs": [],
   "source": [
    "shap.summary_plot(shap_values, X_res, plot_type=\"bar\")"
   ]
  },
  {
   "cell_type": "markdown",
   "metadata": {},
   "source": [
    "#### Global Explainability: Summary Density Scatter Feature Importance\n",
    "Rather than use a typical feature importance bar chart, we can use a density scatter plot of SHAP values for each feature to identify how much impact each feature has on the model output for individuals in the validation dataset. Features are sorted by the sum of the SHAP value magnitudes across all samples. Note that when the scatter points don’t fit on a line they pile up to show density, and the color of each point represents the feature value of that individual."
   ]
  },
  {
   "cell_type": "code",
   "execution_count": null,
   "metadata": {},
   "outputs": [],
   "source": [
    "shap.summary_plot(shap_values, X_res)"
   ]
  },
  {
   "cell_type": "markdown",
   "metadata": {},
   "source": [
    "#### Local Explainability: Dependence Plots\n",
    "Dependence plots show the effect of a single feature across the whole dataset. They plot a feature’s value vs. the SHAP value of that feature across many samples. SHAP dependence plots are similar to partial dependence plots, but account for the interaction effects present in the features, and are only defined in regions of the input space supported by data. The vertical dispersion of SHAP values at a single feature value is driven by interaction effects, and another feature is chosen for coloring to highlight possible interactions."
   ]
  },
  {
   "cell_type": "code",
   "execution_count": null,
   "metadata": {
    "scrolled": false
   },
   "outputs": [],
   "source": [
    "for name in X_train.columns:\n",
    "    shap.dependence_plot(name, shap_values, X_res, display_features=X_res)"
   ]
  },
  {
   "cell_type": "code",
   "execution_count": null,
   "metadata": {},
   "outputs": [],
   "source": [
    "explainer = shap.Explainer(res_x_clf, X_res)\n",
    "shap_values = explainer(X_res[:1000])"
   ]
  },
  {
   "cell_type": "markdown",
   "metadata": {},
   "source": [
    "#### Heatmap"
   ]
  },
  {
   "cell_type": "code",
   "execution_count": null,
   "metadata": {},
   "outputs": [],
   "source": [
    "shap.plots.heatmap(shap_values, max_display=20)"
   ]
  },
  {
   "cell_type": "markdown",
   "metadata": {},
   "source": [
    "#### Local Explainability: Dependence Scatter Plot"
   ]
  },
  {
   "cell_type": "code",
   "execution_count": null,
   "metadata": {},
   "outputs": [],
   "source": [
    "shap.plots.scatter(shap_values[:,'derived_race'],color=shap_values)"
   ]
  },
  {
   "cell_type": "markdown",
   "metadata": {},
   "source": [
    "#### Local Explainability: Waterfall Plot"
   ]
  },
  {
   "cell_type": "code",
   "execution_count": null,
   "metadata": {},
   "outputs": [],
   "source": [
    "shap.plots.waterfall(shap_values[0])"
   ]
  },
  {
   "cell_type": "markdown",
   "metadata": {},
   "source": [
    "## 11.1 Explain Interpetable Model Results\n",
    "The goal of explainable AI is to ensure all participants in the ML model lifecycle can understand how AI algorithms and AI system make decisions. Often times, black box algorithms are used to derive insights. Algorithms vary from simple to understand and explain to complicated models. Which is why transparency into decision making is important. \n",
    "\n",
    "*Add analysis here*"
   ]
  },
  {
   "cell_type": "markdown",
   "metadata": {},
   "source": [
    "# 12. Mortgage Lending Summary\n",
    "\n",
    "*Add analysis here*"
   ]
  }
 ],
 "metadata": {
  "kernelspec": {
   "display_name": "Python 3",
   "language": "python",
   "name": "python3"
  },
  "language_info": {
   "codemirror_mode": {
    "name": "ipython",
    "version": 3
   },
   "file_extension": ".py",
   "mimetype": "text/x-python",
   "name": "python",
   "nbconvert_exporter": "python",
   "pygments_lexer": "ipython3",
   "version": "3.8.8"
  }
 },
 "nbformat": 4,
 "nbformat_minor": 4
}
